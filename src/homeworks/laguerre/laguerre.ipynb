{
 "cells": [
  {
   "cell_type": "markdown",
   "id": "1bba764edd8112",
   "metadata": {
    "collapsed": false,
    "jupyter": {
     "outputs_hidden": false
    }
   },
   "source": [
    "# Перетворення Лагера"
   ]
  },
  {
   "cell_type": "code",
   "execution_count": 1,
   "id": "ff96af84dcd9d348",
   "metadata": {
    "ExecuteTime": {
     "end_time": "2023-12-11T22:12:40.680322Z",
     "start_time": "2023-12-11T22:12:40.584303Z"
    },
    "collapsed": false,
    "jupyter": {
     "outputs_hidden": false
    }
   },
   "outputs": [],
   "source": [
    "import numpy as np\n",
    "import pandas as pd\n",
    "import matplotlib.pyplot as plt\n",
    "import ipywidgets as widgets\n",
    "from typing import Callable"
   ]
  },
  {
   "cell_type": "markdown",
   "id": "852bab377f7be359",
   "metadata": {
    "collapsed": false,
    "jupyter": {
     "outputs_hidden": false
    }
   },
   "source": [
    "## 1.5.1 Многочлени Лаґерра\n",
    "\n",
    "Функція, що обчислює многочлен Лаґерра порядку n, для заданого значення аргументу t та параметрів beta та sigma"
   ]
  },
  {
   "cell_type": "code",
   "execution_count": 2,
   "id": "db495c080d47e0d4",
   "metadata": {
    "ExecuteTime": {
     "end_time": "2023-12-11T22:12:40.731367Z",
     "start_time": "2023-12-11T22:12:40.594343Z"
    },
    "collapsed": false,
    "jupyter": {
     "outputs_hidden": false
    }
   },
   "outputs": [],
   "source": [
    "def laguerre_polymonials(\n",
    "        t: float,\n",
    "        n: int,\n",
    "        beta: float = 2.0,\n",
    "        sigma: float = 4.0\n",
    ") -> float:\n",
    "    \"\"\"\n",
    "    Функція для обчислення многочлену Лаґерра\n",
    "    \n",
    "    :param t:       Значення аргументу\n",
    "    :param n:       Степінь многочлена Лаґерра\n",
    "    :param beta:    Параметр бета\n",
    "    :param sigma:   Параметр сигма\n",
    "    \n",
    "    :return:        Значення многочлена Лаґерра\n",
    "    \"\"\"\n",
    "\n",
    "    # Валідація вхідних даних\n",
    "    if beta < 0:\n",
    "        raise ValueError('Value \"beta\" must be positive')\n",
    "\n",
    "    if sigma < beta:\n",
    "        raise ValueError('Value \"sigma\" must be greater than beta')\n",
    "\n",
    "    if n < 0:\n",
    "        raise ValueError('Value \"n\" must be positive')\n",
    "\n",
    "    # Найкращі випадки\n",
    "    l_prev_prev = np.sqrt(sigma) * np.exp(-beta * t / 2)\n",
    "    l_prev = np.sqrt(sigma) * (1 - sigma * t) * np.exp(-beta * t / 2)\n",
    "    if n == 0:\n",
    "        return l_prev_prev\n",
    "    if n == 1:\n",
    "        return l_prev\n",
    "\n",
    "    # Обчислення\n",
    "    for i in range(2, n + 1):\n",
    "        temp = l_prev\n",
    "        l_prev = (2 * i - 1 - sigma * t) * l_prev / i - (i - 1) * l_prev_prev / i\n",
    "        l_prev_prev = temp\n",
    "\n",
    "    return l_prev"
   ]
  },
  {
   "cell_type": "code",
   "execution_count": 3,
   "id": "6bffb46585a6f801",
   "metadata": {
    "ExecuteTime": {
     "end_time": "2023-12-11T22:12:40.746050Z",
     "start_time": "2023-12-11T22:12:40.603859Z"
    },
    "collapsed": false,
    "jupyter": {
     "outputs_hidden": false
    }
   },
   "outputs": [
    {
     "data": {
      "application/vnd.jupyter.widget-view+json": {
       "model_id": "5026cdcaa4864aaab06801cce782c325",
       "version_major": 2,
       "version_minor": 0
      },
      "text/plain": [
       "interactive(children=(FloatSlider(value=2.0, description='t', max=10.0), IntSlider(value=2, description='n', m…"
      ]
     },
     "metadata": {},
     "output_type": "display_data"
    },
    {
     "data": {
      "text/plain": [
       "<function __main__.laguerre_polymonials(t: float, n: int, beta: float = 2.0, sigma: float = 4.0) -> float>"
      ]
     },
     "execution_count": 3,
     "metadata": {},
     "output_type": "execute_result"
    }
   ],
   "source": [
    "widgets.interact(\n",
    "    laguerre_polymonials,\n",
    "    t=widgets.FloatSlider(\n",
    "        value=2,\n",
    "        min=0,\n",
    "        max=10,\n",
    "        step=0.1,\n",
    "        description='t'\n",
    "    ),\n",
    "    n=widgets.IntSlider(\n",
    "        value=2,\n",
    "        min=0,\n",
    "        max=20,\n",
    "        step=1,\n",
    "        description='n'\n",
    "    ),\n",
    "    beta=widgets.FloatText(\n",
    "        value=2,\n",
    "        min=0,\n",
    "        max=10,\n",
    "        step=0.1,\n",
    "        description='Бета'\n",
    "    ),\n",
    "    sigma=widgets.FloatText(\n",
    "        value=4,\n",
    "        min=0,\n",
    "        max=10,\n",
    "        step=0.1,\n",
    "        description='Сигма'\n",
    "    )\n",
    ")"
   ]
  },
  {
   "cell_type": "markdown",
   "id": "3dae962aedca866a",
   "metadata": {
    "collapsed": false,
    "jupyter": {
     "outputs_hidden": false
    }
   },
   "source": [
    "![Widget screenshot](screenshots/1.png)"
   ]
  },
  {
   "cell_type": "markdown",
   "id": "68dc3af68896d449",
   "metadata": {
    "collapsed": false,
    "jupyter": {
     "outputs_hidden": false
    }
   },
   "source": [
    "## 1.5.2 Табуляція многочленів Лаґерра\n",
    "\n",
    "Функція, що табулює многочлен Лаґерра порядку n від 0 до t_max"
   ]
  },
  {
   "cell_type": "code",
   "execution_count": 4,
   "id": "38b834971c44017f",
   "metadata": {
    "ExecuteTime": {
     "end_time": "2023-12-11T22:12:40.753813Z",
     "start_time": "2023-12-11T22:12:40.622480Z"
    },
    "collapsed": false,
    "jupyter": {
     "outputs_hidden": false
    }
   },
   "outputs": [],
   "source": [
    "def laguerre_polynomials_tabulation(\n",
    "        n: int,\n",
    "        t_max: float,\n",
    "        t_step: float = 0.1,\n",
    "        beta: float = 2.0,\n",
    "        sigma: float = 4.0\n",
    ") -> pd.DataFrame:\n",
    "    \"\"\"\n",
    "    Функція для табуляції многочленів Лаґерра\n",
    "    \n",
    "    :param n:       Степінь многочлена Лаґерра\n",
    "    :param t_max:   Максимальне значення аргументу\n",
    "    :param t_step:  Крок аргументу\n",
    "    :param beta:    Параметр бета\n",
    "    :param sigma:   Параметр сигма\n",
    "    \n",
    "    :return:        DataFrame з табульованими значеннями\n",
    "    \"\"\"\n",
    "\n",
    "    # Валідація вхідних даних\n",
    "    if beta < 0:\n",
    "        raise ValueError('Value \"beta\" must be positive')\n",
    "\n",
    "    if sigma < beta:\n",
    "        raise ValueError('Value \"omega\" must be greater than beta')\n",
    "\n",
    "    if n < 0:\n",
    "        raise ValueError('Value \"n\" must be positive')\n",
    "\n",
    "    if t_max < 0:\n",
    "        raise ValueError('Value \"t_max\" must be positive')\n",
    "\n",
    "    if t_step < 0:\n",
    "        raise ValueError('Value \"t_step\" must be positive')\n",
    "\n",
    "    # Табуляція\n",
    "    t = np.arange(0, t_max, t_step)\n",
    "    return pd.DataFrame(\n",
    "        data={\n",
    "            't': t,\n",
    "            f'L_{n}': [laguerre_polymonials(t=i, n=n, beta=beta, sigma=sigma) for i in t]\n",
    "        }\n",
    "    ).set_index('t')"
   ]
  },
  {
   "cell_type": "code",
   "execution_count": 5,
   "id": "27c2d7c3d21dd2ae",
   "metadata": {
    "ExecuteTime": {
     "end_time": "2023-12-11T22:12:40.770784Z",
     "start_time": "2023-12-11T22:12:40.638019Z"
    },
    "collapsed": false,
    "jupyter": {
     "outputs_hidden": false
    }
   },
   "outputs": [
    {
     "data": {
      "application/vnd.jupyter.widget-view+json": {
       "model_id": "a141c733aeb74702a1f73ed429e4dc7f",
       "version_major": 2,
       "version_minor": 0
      },
      "text/plain": [
       "interactive(children=(IntSlider(value=2, description='n', max=20), FloatSlider(value=5.0, description='Макс. t…"
      ]
     },
     "metadata": {},
     "output_type": "display_data"
    },
    {
     "data": {
      "text/plain": [
       "<function __main__.laguerre_polynomials_tabulation(n: int, t_max: float, t_step: float = 0.1, beta: float = 2.0, sigma: float = 4.0) -> pandas.core.frame.DataFrame>"
      ]
     },
     "execution_count": 5,
     "metadata": {},
     "output_type": "execute_result"
    }
   ],
   "source": [
    "widgets.interact(\n",
    "    laguerre_polynomials_tabulation,\n",
    "    n=widgets.IntSlider(\n",
    "        value=2,\n",
    "        min=0,\n",
    "        max=20,\n",
    "        step=1,\n",
    "        description='n'\n",
    "    ),\n",
    "    t_max=widgets.FloatSlider(\n",
    "        value=5,\n",
    "        min=0,\n",
    "        max=10,\n",
    "        step=0.1,\n",
    "        description='Макс. t'\n",
    "    ),\n",
    "    t_step=widgets.FloatSlider(\n",
    "        value=0.1,\n",
    "        min=0.1,\n",
    "        max=1,\n",
    "        step=0.1,\n",
    "        description='Крок t'\n",
    "    ),\n",
    "    beta=widgets.FloatText(\n",
    "        value=2,\n",
    "        min=0,\n",
    "        max=10,\n",
    "        step=0.1,\n",
    "        description='Бета'\n",
    "    ),\n",
    "    sigma=widgets.FloatText(\n",
    "        value=4,\n",
    "        min=0,\n",
    "        max=10,\n",
    "        step=0.1,\n",
    "        description='Сигма'\n",
    "    )\n",
    ")"
   ]
  },
  {
   "cell_type": "markdown",
   "id": "77fb83c8fb83d463",
   "metadata": {
    "collapsed": false,
    "jupyter": {
     "outputs_hidden": false
    }
   },
   "source": [
    "![Widget screenshot](screenshots/2.png)"
   ]
  },
  {
   "cell_type": "markdown",
   "id": "5dd01eb4a51818e1",
   "metadata": {
    "collapsed": false,
    "jupyter": {
     "outputs_hidden": false
    }
   },
   "source": [
    "## 1.5.3 Обчислювальний експеримент\n",
    "\n",
    "Функція, що визначає найменше значення аргументу t, при якому всі поліноми Лаґерра порядку від 0 до n_max — менші за epsilon"
   ]
  },
  {
   "cell_type": "code",
   "execution_count": 6,
   "id": "db60a5e13e676acd",
   "metadata": {
    "ExecuteTime": {
     "end_time": "2023-12-11T22:12:40.779638Z",
     "start_time": "2023-12-11T22:12:40.669288Z"
    },
    "collapsed": false,
    "jupyter": {
     "outputs_hidden": false
    }
   },
   "outputs": [],
   "source": [
    "def experiment(\n",
    "        n_max: int = 20,\n",
    "        epsilon: float = 1e-3,\n",
    "        t_max: float = 100,\n",
    "        t_points: int = 1000,\n",
    "        beta: float = 2.0,\n",
    "        sigma: float = 4.0\n",
    ") -> tuple[float, pd.DataFrame]:\n",
    "    \"\"\"\n",
    "    Функція для проведення обчислювального експерименту. Пошук такого t, що |laguerre_polymonials(n, t)| < epsilon для усiх n Є [0, N]\n",
    "    \n",
    "    :param n_max:       Верхня межа степеня многочлена Лаґерра\n",
    "    :param epsilon:     Точність\n",
    "    :param t_max:       Максимальне значення аргументу\n",
    "    :param t_points:    Кількість точок для від 0 до t_max\n",
    "    :param beta:        Параметр бета\n",
    "    :param sigma:       Параметр сигма\n",
    "    \n",
    "    :return:            Кортеж з t та DataFrame з табульованими значеннями\n",
    "    \"\"\"\n",
    "\n",
    "    # Валідація вхідних даних\n",
    "    if n_max < 0:\n",
    "        raise ValueError('Value \"N\" must be positive')\n",
    "\n",
    "    if epsilon < 0:\n",
    "        raise ValueError('Value \"epsilon\" must be positive')\n",
    "\n",
    "    if t_max < 0:\n",
    "        raise ValueError('Value \"t_max\" must be positive')\n",
    "\n",
    "    if t_points < 0:\n",
    "        raise ValueError('Value \"t_points\" must be positive')\n",
    "\n",
    "    # Пошук t\n",
    "    T = np.linspace(0, t_max, t_points)\n",
    "    N = range(0, n_max + 1)\n",
    "    suitable_t = None\n",
    "    for t in T:\n",
    "        is_t_suitable = True\n",
    "        for n in N:\n",
    "            if abs(laguerre_polymonials(t=t, n=n, beta=beta, sigma=sigma)) > epsilon:\n",
    "                is_t_suitable = False\n",
    "                break\n",
    "        if is_t_suitable and suitable_t is None:\n",
    "            suitable_t = t\n",
    "            break\n",
    "\n",
    "    # Табуляція\n",
    "    return suitable_t, pd.DataFrame(\n",
    "        data={\n",
    "            'n': N,\n",
    "            'L_n': [laguerre_polymonials(t=suitable_t, n=n, beta=beta, sigma=sigma) for n in N]\n",
    "        }\n",
    "    ).set_index('n')"
   ]
  },
  {
   "cell_type": "code",
   "execution_count": 7,
   "id": "f1bc4c2c3cdd4fc7",
   "metadata": {
    "ExecuteTime": {
     "end_time": "2023-12-11T22:12:40.801959Z",
     "start_time": "2023-12-11T22:12:40.684847Z"
    },
    "collapsed": false,
    "jupyter": {
     "outputs_hidden": false
    }
   },
   "outputs": [
    {
     "name": "stdout",
     "output_type": "stream",
     "text": [
      "t = 79.07907907907908\n"
     ]
    },
    {
     "data": {
      "text/html": [
       "<div>\n",
       "<style scoped>\n",
       "    .dataframe tbody tr th:only-of-type {\n",
       "        vertical-align: middle;\n",
       "    }\n",
       "\n",
       "    .dataframe tbody tr th {\n",
       "        vertical-align: top;\n",
       "    }\n",
       "\n",
       "    .dataframe thead th {\n",
       "        text-align: right;\n",
       "    }\n",
       "</style>\n",
       "<table border=\"1\" class=\"dataframe\">\n",
       "  <thead>\n",
       "    <tr style=\"text-align: right;\">\n",
       "      <th></th>\n",
       "      <th>L_n</th>\n",
       "    </tr>\n",
       "    <tr>\n",
       "      <th>n</th>\n",
       "      <th></th>\n",
       "    </tr>\n",
       "  </thead>\n",
       "  <tbody>\n",
       "    <tr>\n",
       "      <th>0</th>\n",
       "      <td>9.066138e-35</td>\n",
       "    </tr>\n",
       "    <tr>\n",
       "      <th>1</th>\n",
       "      <td>-2.858701e-32</td>\n",
       "    </tr>\n",
       "    <tr>\n",
       "      <th>2</th>\n",
       "      <td>4.478343e-30</td>\n",
       "    </tr>\n",
       "    <tr>\n",
       "      <th>3</th>\n",
       "      <td>-4.647081e-28</td>\n",
       "    </tr>\n",
       "    <tr>\n",
       "      <th>4</th>\n",
       "      <td>3.593209e-26</td>\n",
       "    </tr>\n",
       "    <tr>\n",
       "      <th>5</th>\n",
       "      <td>-2.208132e-24</td>\n",
       "    </tr>\n",
       "    <tr>\n",
       "      <th>6</th>\n",
       "      <td>1.123332e-22</td>\n",
       "    </tr>\n",
       "    <tr>\n",
       "      <th>7</th>\n",
       "      <td>-4.865604e-21</td>\n",
       "    </tr>\n",
       "    <tr>\n",
       "      <th>8</th>\n",
       "      <td>1.831625e-19</td>\n",
       "    </tr>\n",
       "    <tr>\n",
       "      <th>9</th>\n",
       "      <td>-6.087176e-18</td>\n",
       "    </tr>\n",
       "    <tr>\n",
       "      <th>10</th>\n",
       "      <td>1.808168e-16</td>\n",
       "    </tr>\n",
       "    <tr>\n",
       "      <th>11</th>\n",
       "      <td>-4.848845e-15</td>\n",
       "    </tr>\n",
       "    <tr>\n",
       "      <th>12</th>\n",
       "      <td>1.183547e-13</td>\n",
       "    </tr>\n",
       "    <tr>\n",
       "      <th>13</th>\n",
       "      <td>-2.647728e-12</td>\n",
       "    </tr>\n",
       "    <tr>\n",
       "      <th>14</th>\n",
       "      <td>5.460659e-11</td>\n",
       "    </tr>\n",
       "    <tr>\n",
       "      <th>15</th>\n",
       "      <td>-1.043487e-09</td>\n",
       "    </tr>\n",
       "    <tr>\n",
       "      <th>16</th>\n",
       "      <td>1.855654e-08</td>\n",
       "    </tr>\n",
       "    <tr>\n",
       "      <th>17</th>\n",
       "      <td>-3.082750e-07</td>\n",
       "    </tr>\n",
       "    <tr>\n",
       "      <th>18</th>\n",
       "      <td>4.800407e-06</td>\n",
       "    </tr>\n",
       "    <tr>\n",
       "      <th>19</th>\n",
       "      <td>-7.027805e-05</td>\n",
       "    </tr>\n",
       "    <tr>\n",
       "      <th>20</th>\n",
       "      <td>9.699021e-04</td>\n",
       "    </tr>\n",
       "  </tbody>\n",
       "</table>\n",
       "</div>"
      ],
      "text/plain": [
       "             L_n\n",
       "n               \n",
       "0   9.066138e-35\n",
       "1  -2.858701e-32\n",
       "2   4.478343e-30\n",
       "3  -4.647081e-28\n",
       "4   3.593209e-26\n",
       "5  -2.208132e-24\n",
       "6   1.123332e-22\n",
       "7  -4.865604e-21\n",
       "8   1.831625e-19\n",
       "9  -6.087176e-18\n",
       "10  1.808168e-16\n",
       "11 -4.848845e-15\n",
       "12  1.183547e-13\n",
       "13 -2.647728e-12\n",
       "14  5.460659e-11\n",
       "15 -1.043487e-09\n",
       "16  1.855654e-08\n",
       "17 -3.082750e-07\n",
       "18  4.800407e-06\n",
       "19 -7.027805e-05\n",
       "20  9.699021e-04"
      ]
     },
     "execution_count": 7,
     "metadata": {},
     "output_type": "execute_result"
    }
   ],
   "source": [
    "t, df = experiment()\n",
    "print(f't = {t}')\n",
    "df"
   ]
  },
  {
   "cell_type": "markdown",
   "id": "477e6ac63b539d82",
   "metadata": {
    "collapsed": false,
    "jupyter": {
     "outputs_hidden": false
    }
   },
   "source": []
  },
  {
   "cell_type": "markdown",
   "id": "7a2427fee3b86b49",
   "metadata": {
    "collapsed": false,
    "jupyter": {
     "outputs_hidden": false
    }
   },
   "source": [
    "## 1.5.4 Обчислення значень інтегралів\n",
    "\n",
    "Функція для обчислення прямого перетворення Лаґерра за допомогою апроксимації інтегралу методом прямокутників"
   ]
  },
  {
   "cell_type": "code",
   "execution_count": 8,
   "id": "20451671c4e822d",
   "metadata": {
    "ExecuteTime": {
     "end_time": "2023-12-11T22:12:40.874715Z",
     "start_time": "2023-12-11T22:12:40.694086Z"
    },
    "collapsed": false,
    "jupyter": {
     "outputs_hidden": false
    }
   },
   "outputs": [
    {
     "data": {
      "application/vnd.jupyter.widget-view+json": {
       "model_id": "dcce05632917498895cb4e87404df406",
       "version_major": 2,
       "version_minor": 0
      },
      "text/plain": [
       "interactive(children=(IntSlider(value=20, description='Макс. n', max=20), IntSlider(value=10000, description='…"
      ]
     },
     "metadata": {},
     "output_type": "display_data"
    },
    {
     "data": {
      "text/plain": [
       "<function __main__.laguerre_transform(f: Callable[[float], float], n_max: int, int_points: int = 10000, beta: float = 2.0, sigma: float = 4.0) -> float>"
      ]
     },
     "execution_count": 8,
     "metadata": {},
     "output_type": "execute_result"
    }
   ],
   "source": [
    "def quad(\n",
    "        f: Callable[[float], float],\n",
    "        a: float,\n",
    "        b: float,\n",
    "        int_points: int = 10000\n",
    ") -> float:\n",
    "    \"\"\"\n",
    "    Функція для обчислення наближеного значення інтегралу методом прямокутників\n",
    "    \n",
    "    :param f:           Функція, яку інтегруємо\n",
    "    :param a:           Початок інтервалу\n",
    "    :param b:           Кінець інтервалу\n",
    "    :param int_points:  Кількість точок для інтегрування\n",
    "    \n",
    "    :return: Значення інтегралу\n",
    "    \"\"\"\n",
    "\n",
    "    x = np.linspace(a, b, int_points)\n",
    "    s = sum([f(i) for i in x])\n",
    "    return s * abs(b - a) / int_points\n",
    "\n",
    "\n",
    "def laguerre_transform(\n",
    "        f: Callable[[float], float],\n",
    "        n_max: int,\n",
    "        int_points: int = 10000,\n",
    "        beta: float = 2.0,\n",
    "        sigma: float = 4.0\n",
    ") -> float:\n",
    "    \"\"\"\n",
    "    Функція для обчислення перетворення Лаґерра\n",
    "    \n",
    "    :param f:           Функція, яку перетворюємо\n",
    "    :param n_max:       Верхня межа степеня многочлена Лаґерра (N)\n",
    "    :param int_points:  Кількість точок для інтегрування\n",
    "    :param beta:        Параметр бета\n",
    "    :param sigma:       Параметр сигма\n",
    "    \n",
    "    :return:            Значення перетворення Лаґерра\n",
    "    \"\"\"\n",
    "\n",
    "    if n_max < 0:\n",
    "        raise ValueError('Value \"n_max\" must be positive')\n",
    "\n",
    "    if int_points < 0:\n",
    "        raise ValueError('Value \"t_step\" must be positive')\n",
    "\n",
    "    # Функція для інтегрування\n",
    "    def integrand(t):\n",
    "        alpha = sigma - beta\n",
    "        return f(t) * laguerre_polymonials(t=t, n=n_max, beta=beta, sigma=sigma) * np.exp(-alpha * t)\n",
    "\n",
    "    # Верхня межа інтегрування\n",
    "    t_max = experiment(n_max=n_max, beta=beta, sigma=sigma)[0]\n",
    "\n",
    "    return quad(integrand, 0, t_max, int_points)\n",
    "\n",
    "\n",
    "widgets.interact(\n",
    "    laguerre_transform,\n",
    "    f=widgets.fixed(lambda t: np.exp(-t ** 2)),\n",
    "    n_max=widgets.IntSlider(\n",
    "        value=20,\n",
    "        min=0,\n",
    "        max=20,\n",
    "        step=1,\n",
    "        description='Макс. n'\n",
    "    ),\n",
    "    int_points=widgets.IntSlider(\n",
    "        value=10000,\n",
    "        min=1,\n",
    "        max=100000,\n",
    "        step=1000,\n",
    "        description='К-сть інтервалів розбиття для інтегрування'\n",
    "    ),\n",
    "    beta=widgets.FloatText(\n",
    "        value=2,\n",
    "        min=0,\n",
    "        max=10,\n",
    "        step=0.1,\n",
    "        description='Бета'\n",
    "    ),\n",
    "    sigma=widgets.FloatText(\n",
    "        value=4,\n",
    "        min=0,\n",
    "        max=10,\n",
    "        step=0.1,\n",
    "        description='Сигма'\n",
    "    )\n",
    ")"
   ]
  },
  {
   "cell_type": "markdown",
   "id": "3921df6758a54903",
   "metadata": {
    "collapsed": false,
    "jupyter": {
     "outputs_hidden": false
    }
   },
   "source": [
    "![Widget screenshot](screenshots/3.png)"
   ]
  },
  {
   "cell_type": "markdown",
   "id": "d814c8d18dbcf07e",
   "metadata": {
    "collapsed": false,
    "jupyter": {
     "outputs_hidden": false
    }
   },
   "source": [
    "## 1.5.5 Перетворення Лаґерра\n",
    "\n",
    "Функція для табулювання прямого перетворення Лаґерра порядку від 0 до n_max"
   ]
  },
  {
   "cell_type": "code",
   "execution_count": 9,
   "id": "aec332d06aceca23",
   "metadata": {
    "ExecuteTime": {
     "end_time": "2023-12-11T22:12:40.875340Z",
     "start_time": "2023-12-11T22:12:40.832728Z"
    },
    "collapsed": false,
    "jupyter": {
     "outputs_hidden": false
    }
   },
   "outputs": [],
   "source": [
    "def laguerre_transform_tabulation(\n",
    "        f: Callable[[float], float],\n",
    "        n_max: int,\n",
    "        int_points: int = 10000,\n",
    "        beta: float = 2.0,\n",
    "        sigma: float = 4.0\n",
    ") -> pd.DataFrame:\n",
    "    \"\"\"\n",
    "    Функція для табулювання перетворення Лаґерра\n",
    "    \n",
    "    :param f:           Функція, яку перетворюємо\n",
    "    :param n_max:       Верхня межа степеня многочлена Лаґерра (N)\n",
    "    :param int_points:  Кількість точок для інтегрування\n",
    "    :param beta:        Параметр бета\n",
    "    :param sigma:       Параметр сигма\n",
    "    \n",
    "    :return:            DataFrame з табульованими значеннями\n",
    "    \"\"\"\n",
    "\n",
    "    # Валідація вхідних даних\n",
    "    if n_max < 0:\n",
    "        raise ValueError('Value \"n_max\" must be positive')\n",
    "\n",
    "    if int_points < 0:\n",
    "        raise ValueError('Value \"t_step\" must be positive')\n",
    "\n",
    "    # Табулювання\n",
    "    N = range(0, n_max)\n",
    "    return pd.DataFrame(\n",
    "        data={\n",
    "            'n': N,\n",
    "            f'L_n': [laguerre_transform(f=f, n_max=n, beta=beta, int_points=int_points, sigma=sigma) for n in N]\n",
    "        }\n",
    "    ).set_index('n')\n"
   ]
  },
  {
   "cell_type": "code",
   "execution_count": 10,
   "id": "9f22859df0d2c18c",
   "metadata": {
    "ExecuteTime": {
     "end_time": "2023-12-11T22:12:42.186247Z",
     "start_time": "2023-12-11T22:12:40.839210Z"
    },
    "collapsed": false,
    "jupyter": {
     "outputs_hidden": false
    }
   },
   "outputs": [
    {
     "data": {
      "application/vnd.jupyter.widget-view+json": {
       "model_id": "52da5dca01654a85b2e647c3c619bca6",
       "version_major": 2,
       "version_minor": 0
      },
      "text/plain": [
       "interactive(children=(IntSlider(value=20, description='Макс. n', max=20), IntSlider(value=10000, description='…"
      ]
     },
     "metadata": {},
     "output_type": "display_data"
    },
    {
     "data": {
      "text/plain": [
       "<function __main__.laguerre_transform_tabulation(f: Callable[[float], float], n_max: int, int_points: int = 10000, beta: float = 2.0, sigma: float = 4.0) -> pandas.core.frame.DataFrame>"
      ]
     },
     "execution_count": 10,
     "metadata": {},
     "output_type": "execute_result"
    }
   ],
   "source": [
    "# Визначення функції\n",
    "def f(t):\n",
    "    if t >= 2 * np.pi:\n",
    "        return 0\n",
    "    return np.sin(t - np.pi / 2) + 1\n",
    "\n",
    "\n",
    "# Табулювання\n",
    "widgets.interact(\n",
    "    laguerre_transform_tabulation,\n",
    "    f=widgets.fixed(f),\n",
    "    n_max=widgets.IntSlider(\n",
    "        value=20,\n",
    "        min=0,\n",
    "        max=20,\n",
    "        step=1,\n",
    "        description='Макс. n'\n",
    "    ),\n",
    "    int_points=widgets.IntSlider(\n",
    "        value=10000,\n",
    "        min=1,\n",
    "        max=100000,\n",
    "        step=1000,\n",
    "        description='К-сть інтервалів розбиття для інтегрування'\n",
    "    ),\n",
    "    beta=widgets.FloatText(\n",
    "        value=2,\n",
    "        min=0,\n",
    "        max=10,\n",
    "        step=0.1,\n",
    "        description='Бета'\n",
    "    ),\n",
    "    sigma=widgets.FloatText(\n",
    "        value=4,\n",
    "        min=0,\n",
    "        max=10,\n",
    "        step=0.1,\n",
    "        description='Сигма'\n",
    "    )\n",
    ")"
   ]
  },
  {
   "cell_type": "markdown",
   "id": "c237f66b130c83ac",
   "metadata": {
    "collapsed": false,
    "jupyter": {
     "outputs_hidden": false
    }
   },
   "source": [
    "![Widget screenshot](screenshots/4.png)"
   ]
  },
  {
   "cell_type": "markdown",
   "id": "8e6a5a0fffd545eb",
   "metadata": {
    "collapsed": false,
    "jupyter": {
     "outputs_hidden": false
    }
   },
   "source": [
    "## 1.5.6 Обернене перетворення Лаґерра\n",
    "\n",
    "Функція для обчислення оберненого перетворення Лаґерра. Приймає послідовність коєфіцієнтів h, які можна отримати з табуляції перетворення Лаґерра"
   ]
  },
  {
   "cell_type": "code",
   "execution_count": 11,
   "id": "c3ee81545c5c7434",
   "metadata": {
    "ExecuteTime": {
     "end_time": "2023-12-11T22:12:42.195361Z",
     "start_time": "2023-12-11T22:12:42.191789Z"
    },
    "collapsed": false,
    "jupyter": {
     "outputs_hidden": false
    }
   },
   "outputs": [],
   "source": [
    "def inverse_laguerre_transform(\n",
    "        h: list[float],\n",
    "        t: float,\n",
    "        beta: float = 2.0,\n",
    "        sigma: float = 4.0\n",
    ") -> float:\n",
    "    \"\"\"\n",
    "    Функція для обчислення оберненого перетворення Лаґерра\n",
    "    \n",
    "    :param h:       Довільна послідовність дійсних чисел\n",
    "    :param t:       Значення аргументу\n",
    "    :param beta:    Параметр бета\n",
    "    :param sigma:   Параметр сигма\n",
    "    \n",
    "    :return:        Значення оберненого перетворення Лаґерра\n",
    "    \"\"\"\n",
    "\n",
    "    # Обчислення\n",
    "    return sum([h[k] * laguerre_polymonials(t=t, n=k, beta=beta, sigma=sigma) for k in range(0, len(h))])"
   ]
  },
  {
   "cell_type": "code",
   "execution_count": 12,
   "id": "cf7355cd49995af4",
   "metadata": {
    "ExecuteTime": {
     "end_time": "2023-12-11T22:12:43.530148Z",
     "start_time": "2023-12-11T22:12:42.197637Z"
    },
    "collapsed": false,
    "jupyter": {
     "outputs_hidden": false
    }
   },
   "outputs": [
    {
     "data": {
      "application/vnd.jupyter.widget-view+json": {
       "model_id": "fca8eff6184f4ba9bc4b8766e0e51036",
       "version_major": 2,
       "version_minor": 0
      },
      "text/plain": [
       "interactive(children=(FloatSlider(value=2.0, description='t', max=10.0), FloatText(value=2.0, description='Бет…"
      ]
     },
     "metadata": {},
     "output_type": "display_data"
    },
    {
     "data": {
      "text/plain": [
       "<function __main__.inverse_laguerre_transform(h: list[float], t: float, beta: float = 2.0, sigma: float = 4.0) -> float>"
      ]
     },
     "execution_count": 12,
     "metadata": {},
     "output_type": "execute_result"
    }
   ],
   "source": [
    "# Отримуємо послідовність h з табуляції перетворення Лаґерра\n",
    "h = laguerre_transform_tabulation(\n",
    "    f=f,\n",
    "    n_max=20,\n",
    "    int_points=10000\n",
    ")['L_n'].tolist()\n",
    "\n",
    "widgets.interact(\n",
    "    inverse_laguerre_transform,\n",
    "    h=widgets.fixed(h),\n",
    "    t=widgets.FloatSlider(\n",
    "        value=2,\n",
    "        min=0,\n",
    "        max=10,\n",
    "        step=0.1,\n",
    "        description='t'\n",
    "    ),\n",
    "    beta=widgets.FloatText(\n",
    "        value=2,\n",
    "        min=0,\n",
    "        max=10,\n",
    "        step=0.1,\n",
    "        description='Бета'\n",
    "    ),\n",
    "    sigma=widgets.FloatText(\n",
    "        value=4,\n",
    "        min=0,\n",
    "        max=10,\n",
    "        step=0.1,\n",
    "        description='Сигма'\n",
    "    )\n",
    ")"
   ]
  },
  {
   "cell_type": "markdown",
   "id": "43b097e542ccc1c4",
   "metadata": {
    "collapsed": false,
    "jupyter": {
     "outputs_hidden": false
    }
   },
   "source": [
    "![Widget screenshot](screenshots/5.png)"
   ]
  },
  {
   "cell_type": "markdown",
   "id": "7b92a72a3f9ee48",
   "metadata": {
    "collapsed": false,
    "jupyter": {
     "outputs_hidden": false
    }
   },
   "source": [
    "## 1.5.7 Графік функції Лаґерра\n",
    "\n",
    "Функція для побудови графіку многочленів Лаґерра порядку від 0 до n_max"
   ]
  },
  {
   "cell_type": "code",
   "execution_count": 13,
   "id": "6423ca28be9b7c1b",
   "metadata": {
    "ExecuteTime": {
     "start_time": "2023-12-11T22:12:43.537872Z"
    },
    "collapsed": false,
    "jupyter": {
     "outputs_hidden": false
    }
   },
   "outputs": [],
   "source": [
    "def laguerre_polynomials_plot(\n",
    "        t_max: float,\n",
    "        n_max: int,\n",
    "        t_step: float = 0.01,\n",
    "        beta: float = 2.0,\n",
    "        sigma: float = 4.0\n",
    ") -> None:\n",
    "    \"\"\"\n",
    "    Функція для побудови графіку многочленів Лаґерра\n",
    "    \n",
    "    :param t_max:   Максимальне значення аргументу\n",
    "    :param n_max:   Верхня межа степеня многочлена Лаґерра\n",
    "    :param t_step:  Крок аргументу\n",
    "    :param beta:    Параметр бета\n",
    "    :param sigma:   Параметр сигма\n",
    "    \n",
    "    :return:        None\n",
    "    \"\"\"\n",
    "\n",
    "    plt.figure(figsize=(12, 8))\n",
    "\n",
    "    for n in range(0, n_max + 1):\n",
    "        l_n_tabulation = laguerre_polynomials_tabulation(\n",
    "            n=n,\n",
    "            t_max=t_max,\n",
    "            t_step=t_step\n",
    "        )\n",
    "        plt.plot(l_n_tabulation.index, l_n_tabulation[f'L_{n}'], label='$L_{' + str(n) + '}$')\n",
    "\n",
    "    plt.title('Многочлени Лаґерра')\n",
    "    plt.xlabel('t')\n",
    "    plt.ylabel('$L_n(t)$')\n",
    "    plt.grid()\n",
    "    plt.legend(\n",
    "        loc='upper left',\n",
    "        bbox_to_anchor=(-0.2, 1)\n",
    "    )\n",
    "\n",
    "    plt.show()"
   ]
  },
  {
   "cell_type": "code",
   "execution_count": 14,
   "id": "c37853a483cb2bd5",
   "metadata": {
    "ExecuteTime": {
     "end_time": "2023-12-11T22:12:43.770580Z",
     "start_time": "2023-12-11T22:12:43.543065Z"
    },
    "collapsed": false,
    "jupyter": {
     "outputs_hidden": false
    }
   },
   "outputs": [
    {
     "data": {
      "application/vnd.jupyter.widget-view+json": {
       "model_id": "7c6dab563f4e4d72868106191ece125a",
       "version_major": 2,
       "version_minor": 0
      },
      "text/plain": [
       "interactive(children=(FloatSlider(value=4.0, description='Макс. t', max=10.0), IntSlider(value=20, description…"
      ]
     },
     "metadata": {},
     "output_type": "display_data"
    },
    {
     "data": {
      "text/plain": [
       "<function __main__.laguerre_polynomials_plot(t_max: float, n_max: int, t_step: float = 0.01, beta: float = 2.0, sigma: float = 4.0) -> None>"
      ]
     },
     "execution_count": 14,
     "metadata": {},
     "output_type": "execute_result"
    }
   ],
   "source": [
    "widgets.interact(\n",
    "    laguerre_polynomials_plot,\n",
    "    n_max=widgets.IntSlider(\n",
    "        value=20,\n",
    "        min=0,\n",
    "        max=20,\n",
    "        step=1,\n",
    "        description='Макс. n'\n",
    "    ),\n",
    "    t_max=widgets.FloatSlider(\n",
    "        value=4,\n",
    "        min=0,\n",
    "        max=10,\n",
    "        step=0.1,\n",
    "        description='Макс. t'\n",
    "    ),\n",
    "    t_step=widgets.FloatSlider(\n",
    "        value=0.01,\n",
    "        min=0.01,\n",
    "        max=1,\n",
    "        step=0.01,\n",
    "        description='Крок t'\n",
    "    ),\n",
    "    beta=widgets.FloatText(\n",
    "        value=2,\n",
    "        min=0,\n",
    "        max=10,\n",
    "        step=0.1,\n",
    "        description='Бета'\n",
    "    ),\n",
    "    sigma=widgets.FloatText(\n",
    "        value=4,\n",
    "        min=0,\n",
    "        max=10,\n",
    "        step=0.1,\n",
    "        description='Сигма'\n",
    "    )\n",
    ")"
   ]
  },
  {
   "cell_type": "markdown",
   "id": "a30fc0a052d694c9",
   "metadata": {
    "collapsed": false,
    "jupyter": {
     "outputs_hidden": false
    }
   },
   "source": [
    "![Widget screenshot](screenshots/6.png)"
   ]
  },
  {
   "cell_type": "markdown",
   "id": "546ee19deb293c7e",
   "metadata": {
    "collapsed": false,
    "jupyter": {
     "outputs_hidden": false
    }
   },
   "source": [
    "## 1.5.8 Графік $\\widetilde{f}^N(t), t\\in[0, 2\\pi]$\n",
    "\n",
    "Функція для побудови графіків прямого, оберненого перетворення Лаґерра та початкової функції"
   ]
  },
  {
   "cell_type": "code",
   "execution_count": 15,
   "id": "6db9531e06dabc50",
   "metadata": {
    "ExecuteTime": {
     "start_time": "2023-12-11T22:12:43.780737Z"
    },
    "collapsed": false,
    "jupyter": {
     "outputs_hidden": false
    }
   },
   "outputs": [],
   "source": [
    "def laguerre_transform_plot(\n",
    "        f: Callable[[float], float],\n",
    "        n_max: int,\n",
    "        t_max: float = np.pi * 2,\n",
    "        t_step: float = 0.01,\n",
    "        int_points: int = 10000,\n",
    "        beta: float = 2.0,\n",
    "        sigma: float = 4.0\n",
    ") -> None:\n",
    "    \"\"\"\n",
    "    Функція для побудови графіку перетворення Лаґерра\n",
    "    \n",
    "    :param f:           Функція, яку перетворюємо\n",
    "    :param n_max:       Верхня межа степеня многочлена Лаґерра (N)\n",
    "    :param t_max:       Максимальне значення аргументу\n",
    "    :param t_step:      Крок аргументу\n",
    "    :param int_points:  Кількість точок для інтегрування\n",
    "    :param beta:        Параметр бета\n",
    "    :param sigma:       Параметр сигма\n",
    "    \n",
    "    :return:            None\n",
    "    \"\"\"\n",
    "\n",
    "    # Обчислення послідовності h\n",
    "    laguerre_transform_tabulation_values = laguerre_transform_tabulation(\n",
    "        f=f,\n",
    "        n_max=n_max,\n",
    "        int_points=int_points,\n",
    "        beta=beta,\n",
    "        sigma=sigma\n",
    "    )\n",
    "    h = laguerre_transform_tabulation_values['L_n'].tolist()\n",
    "\n",
    "    # Табулювання\n",
    "    T = np.arange(0, t_max, t_step)\n",
    "    inverse_laguerre_transform_tabulation = pd.DataFrame(\n",
    "        data={\n",
    "            't': T,\n",
    "            'h': [inverse_laguerre_transform(h=h, t=t, beta=beta, sigma=sigma) for t in T]\n",
    "        }\n",
    "    ).set_index('t')\n",
    "\n",
    "    # Побудова графіків\n",
    "    plt.figure(figsize=(12, 8))\n",
    "    plt.subplots_adjust(hspace=0.5)\n",
    "    plt.suptitle(f'Графік $\\\\widetilde{{f}}^N(t), t\\\\in[0, {t_max}]$')\n",
    "\n",
    "    # Перетворення Лаґерра\n",
    "    plt.subplot(2, 1, 1)\n",
    "    plt.plot(\n",
    "        laguerre_transform_tabulation_values.index,\n",
    "        laguerre_transform_tabulation_values['L_n'],\n",
    "    )\n",
    "    plt.title(f'Перетворення Лаґерра, N = {n_max}')\n",
    "    plt.xlabel('n')\n",
    "    plt.ylabel(r'$L_{N}$')\n",
    "    plt.grid()\n",
    "\n",
    "    # Обернене перетворення Лаґерра\n",
    "    plt.subplot(2, 1, 2)\n",
    "    initial_function_tabulation = pd.DataFrame(\n",
    "        data={\n",
    "            't': T,\n",
    "            'f': [f(t) for t in T]\n",
    "        }\n",
    "    ).set_index('t')\n",
    "    plt.plot(\n",
    "        initial_function_tabulation.index,\n",
    "        initial_function_tabulation['f'],\n",
    "        label='Початкова функція',\n",
    "        linewidth=6,\n",
    "        color='black',\n",
    "        alpha=0.25\n",
    "    )\n",
    "\n",
    "    plt.plot(\n",
    "        inverse_laguerre_transform_tabulation.index,\n",
    "        inverse_laguerre_transform_tabulation['h'],\n",
    "        label='Обернене перетворення Лаґерра',\n",
    "        linewidth=1,\n",
    "        color='green'\n",
    "    )\n",
    "\n",
    "    plt.title('Обернене перетворення Лаґерра')\n",
    "    plt.xlabel('t')\n",
    "    plt.ylabel(r'$\\widetilde{f}^N(t)$')\n",
    "    plt.legend()\n",
    "    plt.grid()\n",
    "\n",
    "    plt.show()"
   ]
  },
  {
   "cell_type": "code",
   "execution_count": 16,
   "id": "6354bb59ff86f385",
   "metadata": {
    "ExecuteTime": {
     "end_time": "2023-12-11T22:12:45.300602Z",
     "start_time": "2023-12-11T22:12:43.786718Z"
    },
    "collapsed": false,
    "jupyter": {
     "outputs_hidden": false
    }
   },
   "outputs": [
    {
     "data": {
      "application/vnd.jupyter.widget-view+json": {
       "model_id": "6eba3628eba94369800f297337e9d022",
       "version_major": 2,
       "version_minor": 0
      },
      "text/plain": [
       "interactive(children=(IntSlider(value=20, description='Макс. n', max=20), FloatSlider(value=6.283185307179586,…"
      ]
     },
     "metadata": {},
     "output_type": "display_data"
    },
    {
     "data": {
      "text/plain": [
       "<function __main__.laguerre_transform_plot(f: Callable[[float], float], n_max: int, t_max: float = 6.283185307179586, t_step: float = 0.01, int_points: int = 10000, beta: float = 2.0, sigma: float = 4.0) -> None>"
      ]
     },
     "execution_count": 16,
     "metadata": {},
     "output_type": "execute_result"
    }
   ],
   "source": [
    "widgets.interact(\n",
    "    laguerre_transform_plot,\n",
    "    f=widgets.fixed(f),\n",
    "    n_max=widgets.IntSlider(\n",
    "        value=20,\n",
    "        min=0,\n",
    "        max=20,\n",
    "        step=1,\n",
    "        description='Макс. n'\n",
    "    ),\n",
    "    t_max=widgets.FloatSlider(\n",
    "        value=2 * np.pi,\n",
    "        min=0,\n",
    "        max=10,\n",
    "        step=0.1,\n",
    "        description='Макс. t'\n",
    "    ),\n",
    "    t_step=widgets.FloatSlider(\n",
    "        value=0.01,\n",
    "        min=0.01,\n",
    "        max=1,\n",
    "        step=0.01,\n",
    "        description='Крок t'\n",
    "    ),\n",
    "    int_points=widgets.IntSlider(\n",
    "        value=10000,\n",
    "        min=1,\n",
    "        max=100000,\n",
    "        step=1000,\n",
    "        description='Кількість інтервалів розбиття для інтегрування'\n",
    "    ),\n",
    "    beta=widgets.FloatText(\n",
    "        value=2,\n",
    "        min=0,\n",
    "        max=10,\n",
    "        step=0.1,\n",
    "        description='Бета'\n",
    "    ),\n",
    "    sigma=widgets.FloatText(\n",
    "        value=4,\n",
    "        min=0,\n",
    "        max=10,\n",
    "        step=0.1,\n",
    "        description='Сигма'\n",
    "    )\n",
    ")"
   ]
  },
  {
   "cell_type": "markdown",
   "id": "a2340958f33c8e38",
   "metadata": {
    "collapsed": false,
    "jupyter": {
     "outputs_hidden": false
    }
   },
   "source": [
    "![Widget screenshot](screenshots/7.png)"
   ]
  },
  {
   "cell_type": "markdown",
   "id": "91cd41c49e5950fe",
   "metadata": {
    "collapsed": false,
    "jupyter": {
     "outputs_hidden": false
    }
   },
   "source": [
    "## Графік $\\widetilde{g}^N(t), t\\in[0, 1]$\n",
    "\n",
    "Побудова графіків прямого, оберненого перетворення Лаґерра для власної функції g"
   ]
  },
  {
   "cell_type": "code",
   "execution_count": 17,
   "id": "bce6daab0f85f410",
   "metadata": {
    "ExecuteTime": {
     "end_time": "2023-12-11T22:12:46.804331Z",
     "start_time": "2023-12-11T22:12:45.304316Z"
    },
    "collapsed": false,
    "jupyter": {
     "outputs_hidden": false
    }
   },
   "outputs": [
    {
     "data": {
      "application/vnd.jupyter.widget-view+json": {
       "model_id": "66651200186c4bd5848a6833f43d5dfb",
       "version_major": 2,
       "version_minor": 0
      },
      "text/plain": [
       "interactive(children=(IntSlider(value=20, description='Макс. n', max=20), FloatSlider(value=1.0, description='…"
      ]
     },
     "metadata": {},
     "output_type": "display_data"
    },
    {
     "data": {
      "text/plain": [
       "<function __main__.laguerre_transform_plot(f: Callable[[float], float], n_max: int, t_max: float = 6.283185307179586, t_step: float = 0.01, int_points: int = 10000, beta: float = 2.0, sigma: float = 4.0) -> None>"
      ]
     },
     "execution_count": 17,
     "metadata": {},
     "output_type": "execute_result"
    }
   ],
   "source": [
    "def g(t):\n",
    "    if t != 0:\n",
    "        return t * np.sin(1 / t)\n",
    "    return 0\n",
    "\n",
    "\n",
    "widgets.interact(\n",
    "    laguerre_transform_plot,\n",
    "    f=widgets.fixed(g),\n",
    "    n_max=widgets.IntSlider(\n",
    "        value=20,\n",
    "        min=0,\n",
    "        max=20,\n",
    "        step=1,\n",
    "        description='Макс. n'\n",
    "    ),\n",
    "    t_max=widgets.FloatSlider(\n",
    "        value=1,\n",
    "        min=0,\n",
    "        max=10,\n",
    "        step=0.1,\n",
    "        description='Макс. t'\n",
    "    ),\n",
    "    t_step=widgets.FloatSlider(\n",
    "        value=0.01,\n",
    "        min=0.01,\n",
    "        max=1,\n",
    "        step=0.01,\n",
    "        description='Крок t'\n",
    "    ),\n",
    "    int_points=widgets.IntSlider(\n",
    "        value=10000,\n",
    "        min=1,\n",
    "        max=100000,\n",
    "        step=1000,\n",
    "        description='К-сть інтервалів розбиття для інтегрування'\n",
    "    ),\n",
    "    beta=widgets.FloatText(\n",
    "        value=2,\n",
    "        min=0,\n",
    "        max=10,\n",
    "        step=0.1,\n",
    "        description='Бета'\n",
    "    ),\n",
    "    sigma=widgets.FloatText(\n",
    "        value=4,\n",
    "        min=0,\n",
    "        max=10,\n",
    "        step=0.1,\n",
    "        description='Сигма'\n",
    "    )\n",
    ")"
   ]
  },
  {
   "cell_type": "markdown",
   "id": "361c936115471ec7",
   "metadata": {
    "collapsed": false,
    "jupyter": {
     "outputs_hidden": false
    }
   },
   "source": [
    "![Widget screenshot](screenshots/8.png)"
   ]
  },
  {
   "cell_type": "markdown",
   "id": "229d127710b6f5ab",
   "metadata": {
    "collapsed": false,
    "jupyter": {
     "outputs_hidden": false
    }
   },
   "source": [
    "## Висновок\n",
    "\n",
    "У лабораторній роботі було розглянуто використання многочленів Лаґерра у контексті обчислення їхнього прямого та оберненого перетворення. Були реалізовані функції для обчислення многочленів, їхньої табуляції, проведення обчислювального експерименту для знаходження оптимального значення аргументу t та обчислення перетворень.\n",
    "\n",
    "В результаті роботи було показано, як можна використовувати многочлени Лаґерра для перетворення функцій та як здійснювати обернене перетворення для відновлення початкових функцій. Проведено аналіз та вивчення залежностей між параметрами многочленів Лаґерра та їхніми властивостями.\n",
    "\n",
    "Окремий акцент був зроблений на побудові графіків многочленів Лаґерра для різних значень степенів. Це дозволило візуально спостерігати їхні властивості та залежність від параметрів.\n",
    "\n",
    "Також було проведено аналіз двох функцій, одна з яких була задана, а інша — власна. Для них було побудовано графіки перетворення Лаґерра та оберненого перетворення, що дозволило візуально спостерігати схожість графіку оберненого перетворення та початкової функції.\n",
    "\n",
    "Отже, лабораторна робота надала можливість здобути практичні навички використання многочленів Лаґерра."
   ]
  }
 ],
 "metadata": {
  "kernelspec": {
   "display_name": "Python 3 (ipykernel)",
   "language": "python",
   "name": "python3"
  },
  "language_info": {
   "codemirror_mode": {
    "name": "ipython",
    "version": 3
   },
   "file_extension": ".py",
   "mimetype": "text/x-python",
   "name": "python",
   "nbconvert_exporter": "python",
   "pygments_lexer": "ipython3",
   "version": "3.12.0"
  }
 },
 "nbformat": 4,
 "nbformat_minor": 5
}
