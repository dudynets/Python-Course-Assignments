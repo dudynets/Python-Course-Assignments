{
 "cells": [
  {
   "cell_type": "markdown",
   "source": [
    "# Python, Numpy and Pandas Benchmark"
   ],
   "metadata": {
    "collapsed": false
   },
   "id": "32732ee78e843140"
  },
  {
   "cell_type": "code",
   "execution_count": 65,
   "outputs": [],
   "source": [
    "import numpy as np\n",
    "import pandas as pd"
   ],
   "metadata": {
    "collapsed": false,
    "ExecuteTime": {
     "end_time": "2023-09-23T22:48:34.465983Z",
     "start_time": "2023-09-23T22:48:34.455706Z"
    }
   },
   "id": "303403f04e792254"
  },
  {
   "cell_type": "code",
   "execution_count": 66,
   "outputs": [],
   "source": [
    "def python_calculation():\n",
    "    x = range(10000000)\n",
    "    y = range(10000000)\n",
    "    z = []\n",
    "    for i in range(len(x)):\n",
    "        z.append(x[i] + y[i])\n",
    "    return z"
   ],
   "metadata": {
    "collapsed": false,
    "ExecuteTime": {
     "end_time": "2023-09-23T22:48:34.466565Z",
     "start_time": "2023-09-23T22:48:34.458694Z"
    }
   },
   "id": "f883354ed07d59b2"
  },
  {
   "cell_type": "code",
   "execution_count": 67,
   "outputs": [],
   "source": [
    "def numpy_calculation():\n",
    "    x = np.arange(10000000)\n",
    "    y = np.arange(10000000)\n",
    "    z = x + y\n",
    "    return z"
   ],
   "metadata": {
    "collapsed": false,
    "ExecuteTime": {
     "end_time": "2023-09-23T22:48:34.466651Z",
     "start_time": "2023-09-23T22:48:34.461151Z"
    }
   },
   "id": "7f3bdeb9df8c692c"
  },
  {
   "cell_type": "code",
   "execution_count": 68,
   "outputs": [],
   "source": [
    "def pandas_calculation():\n",
    "    x = pd.Series(range(10000000))\n",
    "    y = pd.Series(range(10000000))\n",
    "    z = x + y\n",
    "    return z"
   ],
   "metadata": {
    "collapsed": false,
    "ExecuteTime": {
     "end_time": "2023-09-23T22:48:34.466888Z",
     "start_time": "2023-09-23T22:48:34.464036Z"
    }
   },
   "id": "39623ec6781423c2"
  },
  {
   "cell_type": "code",
   "execution_count": 69,
   "outputs": [],
   "source": [
    "def benchmark(func, name):\n",
    "    print(f\"{name} benchmark:\")\n",
    "    time = %timeit -o func()\n",
    "    print(\"\")\n",
    "    return time.average"
   ],
   "metadata": {
    "collapsed": false,
    "ExecuteTime": {
     "end_time": "2023-09-23T22:48:34.475116Z",
     "start_time": "2023-09-23T22:48:34.467741Z"
    }
   },
   "id": "693663d24ac7b23b"
  },
  {
   "cell_type": "code",
   "execution_count": 70,
   "outputs": [
    {
     "name": "stdout",
     "output_type": "stream",
     "text": [
      "=== Python, Numpy and Pandas benchmark ===\n",
      "\n",
      "Python benchmark:\n",
      "885 ms ± 10.6 ms per loop (mean ± std. dev. of 7 runs, 1 loop each)\n",
      "\n",
      "Numpy benchmark:\n",
      "27 ms ± 270 µs per loop (mean ± std. dev. of 7 runs, 10 loops each)\n",
      "\n",
      "Pandas benchmark:\n",
      "21.2 ms ± 554 µs per loop (mean ± std. dev. of 7 runs, 10 loops each)\n",
      "\n",
      "Numpy is 32.82 times faster than Python\n",
      "Pandas is 41.66 times faster than Python\n",
      "Pandas is 1.27 times faster than Numpy\n"
     ]
    }
   ],
   "source": [
    "print(\"=== Python, Numpy and Pandas benchmark ===\\n\")\n",
    "\n",
    "python_time = benchmark(python_calculation, \"Python\")\n",
    "numpy_time = benchmark(numpy_calculation, \"Numpy\")\n",
    "pandas_time = benchmark(pandas_calculation, \"Pandas\")\n",
    "\n",
    "print(f\"Numpy is {round(python_time / numpy_time, 2)} times faster than Python\")\n",
    "print(f\"Pandas is {round(python_time / pandas_time, 2)} times faster than Python\")\n",
    "print(f\"Pandas is {round(numpy_time / pandas_time, 2)} times faster than Numpy\")"
   ],
   "metadata": {
    "collapsed": false,
    "ExecuteTime": {
     "end_time": "2023-09-23T22:48:45.466742Z",
     "start_time": "2023-09-23T22:48:34.509138Z"
    }
   },
   "id": "dd88089f1fc26cee"
  }
 ],
 "metadata": {
  "kernelspec": {
   "display_name": "Python 3",
   "language": "python",
   "name": "python3"
  },
  "language_info": {
   "codemirror_mode": {
    "name": "ipython",
    "version": 2
   },
   "file_extension": ".py",
   "mimetype": "text/x-python",
   "name": "python",
   "nbconvert_exporter": "python",
   "pygments_lexer": "ipython2",
   "version": "2.7.6"
  }
 },
 "nbformat": 4,
 "nbformat_minor": 5
}
