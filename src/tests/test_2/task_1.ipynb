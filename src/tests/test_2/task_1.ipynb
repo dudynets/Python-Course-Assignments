{
 "cells": [
  {
   "cell_type": "code",
   "execution_count": 19,
   "id": "be88161d-854d-4106-94bb-3e5abcb5c803",
   "metadata": {
    "tags": [],
    "ExecuteTime": {
     "end_time": "2023-10-18T09:27:25.569603Z",
     "start_time": "2023-10-18T09:27:25.564440Z"
    }
   },
   "outputs": [],
   "source": [
    "from dateutil.parser import parse\n",
    "import csv\n",
    "from datetime import datetime"
   ]
  },
  {
   "cell_type": "code",
   "execution_count": 20,
   "id": "a9144b65-d472-4a13-8eb4-4426e81c42ca",
   "metadata": {
    "tags": [],
    "ExecuteTime": {
     "end_time": "2023-10-18T09:27:25.570441Z",
     "start_time": "2023-10-18T09:27:25.567400Z"
    }
   },
   "outputs": [],
   "source": [
    "P = 0.2"
   ]
  },
  {
   "cell_type": "code",
   "execution_count": 21,
   "id": "c893028b-91b3-44f4-b0dd-ef7351b55e22",
   "metadata": {
    "tags": [],
    "ExecuteTime": {
     "end_time": "2023-10-18T09:27:25.577427Z",
     "start_time": "2023-10-18T09:27:25.571514Z"
    }
   },
   "outputs": [],
   "source": [
    "class Citizen:\n",
    "    def __init__(self, name, surname, birth_date):\n",
    "        self.name = name\n",
    "        self.surname = surname\n",
    "        self.birth_date = birth_date\n",
    "\n",
    "    @property\n",
    "    def name(self):\n",
    "        return self._name\n",
    "\n",
    "    @name.setter\n",
    "    def name(self, value):\n",
    "        self._name = value\n",
    "\n",
    "    @property\n",
    "    def surname(self):\n",
    "        return self._surname\n",
    "\n",
    "    @surname.setter\n",
    "    def surname(self, value):\n",
    "        self._surname = value\n",
    "\n",
    "    @property\n",
    "    def birth_date(self):\n",
    "        return self._birth_date\n",
    "\n",
    "    @birth_date.setter\n",
    "    def birth_date(self, value):\n",
    "        self._birth_date = parse(value)\n"
   ]
  },
  {
   "cell_type": "code",
   "execution_count": 22,
   "id": "a0eefb72-cdeb-4920-8e26-e1484565502d",
   "metadata": {
    "tags": [],
    "ExecuteTime": {
     "end_time": "2023-10-18T09:27:25.578431Z",
     "start_time": "2023-10-18T09:27:25.575709Z"
    }
   },
   "outputs": [],
   "source": [
    "class BankAccount:\n",
    "    def __init__(self, id, balance):\n",
    "        self.id = id\n",
    "        self.balance = balance\n",
    "\n",
    "    def print_balance(self):\n",
    "        print(f\"Balance: {self.balance} UAH\")\n",
    "\n",
    "    def top_up(self, amount):\n",
    "        self.balance += amount\n",
    "\n",
    "    def withdraw(self, amount):\n",
    "        if self.balance < amount:\n",
    "            raise ValueError(\"Insufficient balance\")\n",
    "\n",
    "        self.balance -= amount\n",
    "\n",
    "    @property\n",
    "    def id(self):\n",
    "        return self._id\n",
    "\n",
    "    @id.setter\n",
    "    def id(self, value):\n",
    "        self._id = value\n",
    "\n",
    "    @property\n",
    "    def balance(self):\n",
    "        return self._balance\n",
    "\n",
    "    @balance.setter\n",
    "    def balance(self, value):\n",
    "        self._balance = value\n"
   ]
  },
  {
   "cell_type": "code",
   "execution_count": 23,
   "id": "c47adb51-6d28-46eb-ab37-b97ce4769493",
   "metadata": {
    "tags": [],
    "ExecuteTime": {
     "end_time": "2023-10-18T09:27:25.603339Z",
     "start_time": "2023-10-18T09:27:25.580555Z"
    }
   },
   "outputs": [],
   "source": [
    "class CreditBankAccount(BankAccount):\n",
    "    def __init__(self, id, balance, credit_amount):\n",
    "        super().__init__(id, balance)\n",
    "        self.credit_amount = credit_amount\n",
    "\n",
    "    @property\n",
    "    def credit_amount(self):\n",
    "        return self._credit_amount\n",
    "\n",
    "    @credit_amount.setter\n",
    "    def credit_amount(self, value):\n",
    "        self._credit_amount = value"
   ]
  },
  {
   "cell_type": "code",
   "execution_count": 24,
   "id": "b35e0c97-2d93-4ec1-9a0c-e433f889b5af",
   "metadata": {
    "tags": [],
    "ExecuteTime": {
     "end_time": "2023-10-18T09:27:25.603836Z",
     "start_time": "2023-10-18T09:27:25.585620Z"
    }
   },
   "outputs": [],
   "source": [
    "class Client(Citizen):\n",
    "    def __init__(self, name, surname, birth_date, id, balance):\n",
    "        super().__init__(name, surname, birth_date)\n",
    "        self.bank_account = BankAccount(id, balance)\n",
    "\n",
    "    def __str__(self):\n",
    "        birth_date_string = self.birth_date.strftime('%d/%m/%Y')\n",
    "        return (\n",
    "                f\"{self.name} {self.surname} ({birth_date_string})\\n\" +\n",
    "                f\"  Bank Account (id: {self.bank_account.id}) - {self.bank_account.balance} UAH\"\n",
    "        )\n",
    "\n",
    "    def top_up(self, amount):\n",
    "        self.bank_account.top_up(amount)\n",
    "\n",
    "    def withdraw(self, amount):\n",
    "        self.bank_account.withdraw(amount)\n",
    "\n",
    "    @property\n",
    "    def bank_account(self):\n",
    "        return self._bank_account\n",
    "\n",
    "    @bank_account.setter\n",
    "    def bank_account(self, value):\n",
    "        self._bank_account = value"
   ]
  },
  {
   "cell_type": "code",
   "execution_count": 25,
   "id": "cc1db137-4d18-4627-b091-21e02ecf6b51",
   "metadata": {
    "tags": [],
    "ExecuteTime": {
     "end_time": "2023-10-18T09:27:25.603984Z",
     "start_time": "2023-10-18T09:27:25.591889Z"
    }
   },
   "outputs": [],
   "source": [
    "class VipClient(Client):\n",
    "    def __init__(self, name, surname, birth_date, id, balance, credit_amount, credit_account_balance):\n",
    "        super().__init__(name, surname, birth_date, id, balance)\n",
    "        self.credit_bank_account = CreditBankAccount(id, credit_account_balance, credit_amount)\n",
    "\n",
    "    def __str__(self):\n",
    "        birth_date_string = super().birth_date.strftime('%d/%m/%Y')\n",
    "        return (\n",
    "                f\"{super().name} {super().surname} ({birth_date_string})\\n\" +\n",
    "                f\"  Bank Account (id: {super().bank_account.id}) - {super().bank_account.balance} UAH\\n\" +\n",
    "                f\"  Credit Bank Account (id: {self.credit_bank_account.id}) - {self.credit_bank_account.balance} UAH (credit amount: {self.credit_bank_account.credit_amount})\\n\" +\n",
    "                f\"  Total balance: {super().bank_account.balance + self.credit_bank_account.balance} UAH\"\n",
    "        )\n",
    "\n",
    "    def issue_credit(self, amount):\n",
    "        age_days = (datetime.datetime.now() - self.birth_date).days\n",
    "\n",
    "        if 365 * 30 < age_days < 365 * 50:\n",
    "            if amount > super().bank_account.balance * P:\n",
    "                raise ValueError(\"Cannot issue credit of this amount\")\n",
    "            else:\n",
    "                self.credit_bank_account.top_up(amount)\n",
    "        else:\n",
    "            if amount > super().bank_account.balance * P / 2:\n",
    "                raise ValueError(\"Cannot issue credit of this amount\")\n",
    "            else:\n",
    "                self.credit_bank_account.top_up(amount)\n",
    "\n",
    "    def return_credit(self):\n",
    "        credit_amount = self.credit_bank_account.credit_amount\n",
    "        available_funds = self.credit_bank_account.balance + super().bank_account.balance\n",
    "\n",
    "        if credit_amount > available_funds:\n",
    "            raise ValueError(\"Insufficient funds\")\n",
    "\n",
    "        if self.credit_bank_account.balance >= credit_amount:\n",
    "            self.credit_bank_account.withdraw(credit_amount)\n",
    "        else:\n",
    "            credit_amount -= self.credit_bank_account.balance\n",
    "            self.credit_bank_account.withdraw(self.credit_bank_account.balance)\n",
    "            super().bank_account.balance.withdraw(credit_amount)\n",
    "            self.credit_bank_account.credit_amount = 0"
   ]
  },
  {
   "cell_type": "code",
   "execution_count": 26,
   "id": "2819d546-b3ce-48bb-b8f9-3cfadbf45e79",
   "metadata": {
    "tags": [],
    "ExecuteTime": {
     "end_time": "2023-10-18T09:27:25.604368Z",
     "start_time": "2023-10-18T09:27:25.596641Z"
    }
   },
   "outputs": [
    {
     "name": "stdout",
     "output_type": "stream",
     "text": [
      "Sasha Dudynets (17/12/2004)\n",
      "  Bank Account (id: 1) - 100 UAH\n",
      "Yehor Furman (27/06/1994)\n",
      "  Bank Account (id: 2) - 500 UAH\n",
      "Rostyk Urdeichuk (17/12/2004)\n",
      "  Bank Account (id: 3) - 100 UAH\n",
      "  Credit Bank Account (id: 3) - 0 UAH (credit amount: 0)\n",
      "  Total balance: 100 UAH\n",
      "Danylo Yakumets (27/06/1994)\n",
      "  Bank Account (id: 4) - 50000 UAH\n",
      "  Credit Bank Account (id: 4) - 0 UAH (credit amount: 0)\n",
      "  Total balance: 50000 UAH\n",
      "\n",
      "Sasha Dudynets (17/12/2004)\n",
      "  Bank Account (id: 1) - 50 UAH\n",
      "Yehor Furman (27/06/1994)\n",
      "  Bank Account (id: 2) - 350 UAH\n",
      "Rostyk Urdeichuk (17/12/2004)\n",
      "  Bank Account (id: 3) - 50 UAH\n",
      "  Credit Bank Account (id: 3) - 0 UAH (credit amount: 0)\n",
      "  Total balance: 50 UAH\n",
      "Danylo Yakumets (27/06/1994)\n",
      "  Bank Account (id: 4) - 49950 UAH\n",
      "  Credit Bank Account (id: 4) - 0 UAH (credit amount: 0)\n",
      "  Total balance: 49950 UAH\n"
     ]
    }
   ],
   "source": [
    "# Read clients\n",
    "clients = []\n",
    "with open(\"clients.csv\", \"r\") as file:\n",
    "    reader = csv.DictReader(file)\n",
    "    for row in reader:\n",
    "        #name, surname, birth_date, id, balance\n",
    "        clients.append(Client(row[\"name\"], row[\"surname\"], row[\"birth_date\"], int(row[\"id\"]), int(row[\"balance\"])))\n",
    "\n",
    "with open(\"vip_clients.csv\", \"r\") as file:\n",
    "    reader = csv.DictReader(file)\n",
    "    for row in reader:\n",
    "        #name, surname, birth_date, id, balance,  credit_amount, credit_account_balance\n",
    "        clients.append(VipClient(row[\"name\"], row[\"surname\"], row[\"birth_date\"], int(row[\"id\"]), int(row[\"balance\"]),\n",
    "                                 int(row[\"credit_amount\"]), int(row[\"credit_account_balance\"])))\n",
    "\n",
    "for client in clients:\n",
    "    print(client)\n",
    "    client.withdraw(50)\n",
    "\n",
    "print()\n",
    "for client in clients:\n",
    "    print(client)"
   ]
  },
  {
   "cell_type": "code",
   "execution_count": 27,
   "id": "3a7fed92-7ed9-49d4-afd0-faea427dc9f6",
   "metadata": {
    "tags": [],
    "ExecuteTime": {
     "end_time": "2023-10-18T09:27:25.604896Z",
     "start_time": "2023-10-18T09:27:25.600668Z"
    }
   },
   "outputs": [
    {
     "name": "stdout",
     "output_type": "stream",
     "text": [
      "Sasha Dudynets (17/12/2004)\n",
      "  Bank Account (id: 1) - 50 UAH\n",
      "Yehor Furman (27/06/1994)\n",
      "  Bank Account (id: 2) - 350 UAH\n",
      "Rostyk Urdeichuk (17/12/2004)\n",
      "  Bank Account (id: 3) - 50 UAH\n",
      "  Credit Bank Account (id: 3) - 0 UAH (credit amount: 0)\n",
      "  Total balance: 50 UAH\n",
      "Danylo Yakumets (27/06/1994)\n",
      "  Bank Account (id: 4) - 49950 UAH\n",
      "  Credit Bank Account (id: 4) - 0 UAH (credit amount: 0)\n",
      "  Total balance: 49950 UAH\n"
     ]
    }
   ],
   "source": [
    "# Sorted clients\n",
    "clients = sorted(clients, key=lambda client: client.surname)\n",
    "for client in clients:\n",
    "    print(client)"
   ]
  },
  {
   "cell_type": "code",
   "execution_count": 28,
   "id": "8f9863e3-a05d-46ee-a26a-ad0995d69d6d",
   "metadata": {
    "tags": [],
    "ExecuteTime": {
     "end_time": "2023-10-18T09:27:25.606427Z",
     "start_time": "2023-10-18T09:27:25.604561Z"
    }
   },
   "outputs": [
    {
     "name": "stdout",
     "output_type": "stream",
     "text": [
      "Rostyk Urdeichuk (17/12/2004)\n",
      "  Bank Account (id: 3) - 50 UAH\n",
      "  Credit Bank Account (id: 3) - 0 UAH (credit amount: 0)\n",
      "  Total balance: 50 UAH\n",
      "Danylo Yakumets (27/06/1994)\n",
      "  Bank Account (id: 4) - 49950 UAH\n",
      "  Credit Bank Account (id: 4) - 0 UAH (credit amount: 0)\n",
      "  Total balance: 49950 UAH\n"
     ]
    }
   ],
   "source": [
    "# Clients with credits sorted by amount\n",
    "clients_with_credits = filter(lambda client: isinstance(client, VipClient), clients)\n",
    "clients_with_credits = sorted(clients_with_credits, key=lambda client: client.credit_bank_account.credit_amount)\n",
    "for client in clients_with_credits:\n",
    "    print(client)"
   ]
  }
 ],
 "metadata": {
  "kernelspec": {
   "display_name": "Python 3 (ipykernel)",
   "language": "python",
   "name": "python3"
  },
  "language_info": {
   "codemirror_mode": {
    "name": "ipython",
    "version": 3
   },
   "file_extension": ".py",
   "mimetype": "text/x-python",
   "name": "python",
   "nbconvert_exporter": "python",
   "pygments_lexer": "ipython3",
   "version": "3.11.4"
  }
 },
 "nbformat": 4,
 "nbformat_minor": 5
}
