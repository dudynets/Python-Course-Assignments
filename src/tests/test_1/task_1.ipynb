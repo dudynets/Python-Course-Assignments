{
 "cells": [
  {
   "cell_type": "code",
   "execution_count": null,
   "outputs": [],
   "source": [
    "import numpy as np\n"
   ],
   "metadata": {
    "collapsed": false
   },
   "id": "68ae6aacd6ad3b7f"
  },
  {
   "cell_type": "code",
   "execution_count": null,
   "outputs": [],
   "source": [
    "a = 0\n",
    "b = 1\n",
    "c = 0\n",
    "d = 1\n",
    "hx = 0.2\n",
    "hy = 0.2"
   ],
   "metadata": {
    "collapsed": false
   },
   "id": "4a99fb62dd3052ca"
  },
  {
   "cell_type": "code",
   "execution_count": null,
   "outputs": [],
   "source": [
    "def f1(x, y):\n",
    "    if x + y != 0:\n",
    "        return (np.cos(x + y) + np.sin(x + y)) / (2 * x + 2 * y)\n",
    "    else:\n",
    "        return np.exp(x / 2) + np.exp(y / 2)\n",
    "\n"
   ],
   "metadata": {
    "collapsed": false
   },
   "id": "e9c1b0db2d11358e"
  },
  {
   "cell_type": "code",
   "execution_count": null,
   "outputs": [],
   "source": [
    "def f2(x, y):\n",
    "    if x > y:\n",
    "        return ((x + y) ** 2 + 5 * (x - y) + x ** 3) / (x - y)\n",
    "    else:\n",
    "        return ((2 * (x + y) ** 2) + np.exp(x - y)) / (np.exp(2 * x + 7 * y))\n",
    "\n"
   ],
   "metadata": {
    "collapsed": false
   },
   "id": "9adcb1260af2792"
  },
  {
   "cell_type": "code",
   "execution_count": null,
   "outputs": [],
   "source": [
    "def tabulate(f, _a, _b, _c, _d, _hx, _hy):\n",
    "    for x in np.arange(_a, _b, _hx):\n",
    "        for y in np.arange(_c, _d, _hy):\n",
    "            print(f\"x={round(x, 2)}; y={round(y, 2)}; f(x, y)={round(f(x, y), 2)}\")\n",
    "\n"
   ],
   "metadata": {
    "collapsed": false
   },
   "id": "6a09520685293d79"
  },
  {
   "cell_type": "code",
   "execution_count": null,
   "outputs": [],
   "source": [
    "print(\"=== Function 1 ===\")\n",
    "tabulate(f1, a, b, c, d, hx, hy)"
   ],
   "metadata": {
    "collapsed": false
   },
   "id": "dba96aa4ee1f1466"
  },
  {
   "cell_type": "code",
   "execution_count": null,
   "outputs": [],
   "source": [
    "print(\"=== Function 2 ===\")\n",
    "tabulate(f2, a, b, c, d, hx, hy)"
   ],
   "metadata": {
    "collapsed": false
   },
   "id": "8f94f2c937cd8a2"
  }
 ],
 "metadata": {
  "kernelspec": {
   "display_name": "Python 3 (ipykernel)",
   "language": "python",
   "name": "python3"
  },
  "language_info": {
   "codemirror_mode": {
    "name": "ipython",
    "version": 3
   },
   "file_extension": ".py",
   "mimetype": "text/x-python",
   "name": "python",
   "nbconvert_exporter": "python",
   "pygments_lexer": "ipython3",
   "version": "3.11.4"
  }
 },
 "nbformat": 4,
 "nbformat_minor": 5
}
