{
 "cells": [
  {
   "cell_type": "code",
   "execution_count": 1,
   "id": "bb0a9548-bb20-413c-b56b-641c20e93a63",
   "metadata": {
    "tags": [],
    "ExecuteTime": {
     "end_time": "2023-09-28T05:21:29.464123Z",
     "start_time": "2023-09-28T05:21:29.314091Z"
    }
   },
   "outputs": [],
   "source": [
    "import numpy as np"
   ]
  },
  {
   "cell_type": "code",
   "execution_count": 2,
   "id": "1bd82987-85e8-4c3f-bc5e-24b3260508ca",
   "metadata": {
    "tags": [],
    "ExecuteTime": {
     "end_time": "2023-09-28T05:21:29.474819Z",
     "start_time": "2023-09-28T05:21:29.470529Z"
    }
   },
   "outputs": [],
   "source": [
    "a = 0\n",
    "b = 1\n",
    "c = 0\n",
    "d = 1\n",
    "hx = 0.2\n",
    "hy = 0.2"
   ]
  },
  {
   "cell_type": "code",
   "execution_count": 3,
   "id": "a6f6fbdd-585a-4793-bf47-e48e09714460",
   "metadata": {
    "tags": [],
    "ExecuteTime": {
     "end_time": "2023-09-28T05:21:29.480893Z",
     "start_time": "2023-09-28T05:21:29.475758Z"
    }
   },
   "outputs": [],
   "source": [
    "def f1(x, y):\n",
    "    if x + y != 0:\n",
    "        return (np.cos(x + y) + np.sin(x + y))/(2 * x + 2 *y)\n",
    "    else:\n",
    "        return np.exp(x / 2) + np.exp(y / 2)"
   ]
  },
  {
   "cell_type": "code",
   "execution_count": 4,
   "id": "6189d849-a60e-4fd3-b6c0-fcc5ef6c55fe",
   "metadata": {
    "tags": [],
    "ExecuteTime": {
     "end_time": "2023-09-28T05:21:29.486550Z",
     "start_time": "2023-09-28T05:21:29.483072Z"
    }
   },
   "outputs": [],
   "source": [
    "def f2(x, y):\n",
    "    if x > y:\n",
    "        return ((x + y) ** 2 + 5 * (x - y) + x ** 3)/(x-y)\n",
    "    else:\n",
    "        return ((2 * (x + y) ** 2) + np.exp(x - y))/(np.exp(2 * x + 7 * y))"
   ]
  },
  {
   "cell_type": "code",
   "execution_count": 5,
   "id": "2df954b6-3bc8-4105-a50c-ad930abb4c0a",
   "metadata": {
    "tags": [],
    "ExecuteTime": {
     "end_time": "2023-09-28T05:21:29.496215Z",
     "start_time": "2023-09-28T05:21:29.489691Z"
    }
   },
   "outputs": [],
   "source": [
    "def tabulate(f, _a, _b, _c, _d, _hx, _hy):\n",
    "    for x in np.arange(_a, _b, _hx):\n",
    "        for y in np.arange(_c, _d, _hy):\n",
    "            print(f'x={round(x, 2)}; y={round(y, 2)}; f(x, y)={round(f(x, y), 2)}')\n"
   ]
  },
  {
   "cell_type": "code",
   "execution_count": 6,
   "id": "63cfb760-2899-41ab-b3cb-7bf3c27a5c3d",
   "metadata": {
    "tags": [],
    "ExecuteTime": {
     "end_time": "2023-09-28T05:21:29.502266Z",
     "start_time": "2023-09-28T05:21:29.497517Z"
    }
   },
   "outputs": [
    {
     "name": "stdout",
     "output_type": "stream",
     "text": [
      "x=0.0; y=0.0; f(x, y)=2.0\n",
      "x=0.0; y=0.2; f(x, y)=2.95\n",
      "x=0.0; y=0.4; f(x, y)=1.64\n",
      "x=0.0; y=0.6; f(x, y)=1.16\n",
      "x=0.0; y=0.8; f(x, y)=0.88\n",
      "x=0.2; y=0.0; f(x, y)=2.95\n",
      "x=0.2; y=0.2; f(x, y)=1.64\n",
      "x=0.2; y=0.4; f(x, y)=1.16\n",
      "x=0.2; y=0.6; f(x, y)=0.88\n",
      "x=0.2; y=0.8; f(x, y)=0.69\n",
      "x=0.4; y=0.0; f(x, y)=1.64\n",
      "x=0.4; y=0.2; f(x, y)=1.16\n",
      "x=0.4; y=0.4; f(x, y)=0.88\n",
      "x=0.4; y=0.6; f(x, y)=0.69\n",
      "x=0.4; y=0.8; f(x, y)=0.54\n",
      "x=0.6; y=0.0; f(x, y)=1.16\n",
      "x=0.6; y=0.2; f(x, y)=0.88\n",
      "x=0.6; y=0.4; f(x, y)=0.69\n",
      "x=0.6; y=0.6; f(x, y)=0.54\n",
      "x=0.6; y=0.8; f(x, y)=0.41\n",
      "x=0.8; y=0.0; f(x, y)=0.88\n",
      "x=0.8; y=0.2; f(x, y)=0.69\n",
      "x=0.8; y=0.4; f(x, y)=0.54\n",
      "x=0.8; y=0.6; f(x, y)=0.41\n",
      "x=0.8; y=0.8; f(x, y)=0.3\n"
     ]
    }
   ],
   "source": [
    "tabulate(f1, a, b, c, d, hx, hy)"
   ]
  },
  {
   "cell_type": "code",
   "execution_count": 7,
   "id": "2c1fba9a-b128-40f5-8973-1543f073bf5b",
   "metadata": {
    "tags": [],
    "ExecuteTime": {
     "end_time": "2023-09-28T05:21:29.513275Z",
     "start_time": "2023-09-28T05:21:29.505282Z"
    }
   },
   "outputs": [
    {
     "name": "stdout",
     "output_type": "stream",
     "text": [
      "x=0.0; y=0.0; f(x, y)=1.0\n",
      "x=0.0; y=0.2; f(x, y)=0.22\n",
      "x=0.0; y=0.4; f(x, y)=0.06\n",
      "x=0.0; y=0.6; f(x, y)=0.02\n",
      "x=0.0; y=0.8; f(x, y)=0.01\n",
      "x=0.2; y=0.0; f(x, y)=5.24\n",
      "x=0.2; y=0.2; f(x, y)=0.22\n",
      "x=0.2; y=0.4; f(x, y)=0.06\n",
      "x=0.2; y=0.6; f(x, y)=0.02\n",
      "x=0.2; y=0.8; f(x, y)=0.01\n",
      "x=0.4; y=0.0; f(x, y)=5.56\n",
      "x=0.4; y=0.2; f(x, y)=7.12\n",
      "x=0.4; y=0.4; f(x, y)=0.06\n",
      "x=0.4; y=0.6; f(x, y)=0.02\n",
      "x=0.4; y=0.8; f(x, y)=0.01\n",
      "x=0.6; y=0.0; f(x, y)=5.96\n",
      "x=0.6; y=0.2; f(x, y)=7.14\n",
      "x=0.6; y=0.4; f(x, y)=11.08\n",
      "x=0.6; y=0.6; f(x, y)=0.02\n",
      "x=0.6; y=0.8; f(x, y)=0.01\n",
      "x=0.8; y=0.0; f(x, y)=6.44\n",
      "x=0.8; y=0.2; f(x, y)=7.52\n",
      "x=0.8; y=0.4; f(x, y)=9.88\n",
      "x=0.8; y=0.6; f(x, y)=17.36\n",
      "x=0.8; y=0.8; f(x, y)=0.0\n"
     ]
    }
   ],
   "source": [
    "tabulate(f2, a, b, c, d, hx, hy)"
   ]
  }
 ],
 "metadata": {
  "kernelspec": {
   "display_name": "Python 3 (ipykernel)",
   "language": "python",
   "name": "python3"
  },
  "language_info": {
   "codemirror_mode": {
    "name": "ipython",
    "version": 3
   },
   "file_extension": ".py",
   "mimetype": "text/x-python",
   "name": "python",
   "nbconvert_exporter": "python",
   "pygments_lexer": "ipython3",
   "version": "3.11.4"
  }
 },
 "nbformat": 4,
 "nbformat_minor": 5
}
