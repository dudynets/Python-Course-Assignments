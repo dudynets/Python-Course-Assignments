{
 "cells": [
  {
   "cell_type": "code",
   "execution_count": 26,
   "id": "fee4575b-755d-428b-92af-652bdbbff501",
   "metadata": {
    "tags": [],
    "ExecuteTime": {
     "end_time": "2023-09-28T05:24:31.894109Z",
     "start_time": "2023-09-28T05:24:31.892016Z"
    }
   },
   "outputs": [],
   "source": [
    "test_data = {\n",
    "    'dudynets': (3, 6, 2, 7),\n",
    "    'yakymets': (8, 34, 7, 2),\n",
    "    'klakovych': (4, 7, 3, 8, 234, 78),\n",
    "    'furman': (5, 7, 2, 65, 75),\n",
    "    'urdeichuk': tuple([4])\n",
    "}"
   ]
  },
  {
   "cell_type": "code",
   "execution_count": 27,
   "id": "e0162da3-c753-4c42-a9e7-f91352f9d611",
   "metadata": {
    "tags": [],
    "ExecuteTime": {
     "end_time": "2023-09-28T05:24:31.897713Z",
     "start_time": "2023-09-28T05:24:31.895265Z"
    }
   },
   "outputs": [],
   "source": [
    "def get_even_numbers(_dict):\n",
    "    result = []\n",
    "    \n",
    "    for surname in _dict:\n",
    "        numbers_sum = 0\n",
    "\n",
    "        if isinstance(_dict[surname], tuple):\n",
    "            for number_index in range(len(_dict[surname])):\n",
    "                number = _dict[surname][number_index]\n",
    "                if (number_index + 1) % 2 == 0:\n",
    "                    numbers_sum += number\n",
    "        \n",
    "        result.append((surname, numbers_sum))\n",
    "    \n",
    "    return sorted(result, key = lambda item: item[1], reverse = True)"
   ]
  },
  {
   "cell_type": "code",
   "execution_count": 28,
   "id": "7ee33e86-f0b7-4ddc-a893-8a1dd1b2c560",
   "metadata": {
    "tags": [],
    "ExecuteTime": {
     "end_time": "2023-09-28T05:24:31.901758Z",
     "start_time": "2023-09-28T05:24:31.897303Z"
    }
   },
   "outputs": [
    {
     "data": {
      "text/plain": "[('klakovych', 93),\n ('furman', 72),\n ('yakymets', 36),\n ('dudynets', 13),\n ('urdeichuk', 0)]"
     },
     "execution_count": 28,
     "metadata": {},
     "output_type": "execute_result"
    }
   ],
   "source": [
    "get_even_numbers(test_data)"
   ]
  }
 ],
 "metadata": {
  "kernelspec": {
   "display_name": "Python 3 (ipykernel)",
   "language": "python",
   "name": "python3"
  },
  "language_info": {
   "codemirror_mode": {
    "name": "ipython",
    "version": 3
   },
   "file_extension": ".py",
   "mimetype": "text/x-python",
   "name": "python",
   "nbconvert_exporter": "python",
   "pygments_lexer": "ipython3",
   "version": "3.11.4"
  }
 },
 "nbformat": 4,
 "nbformat_minor": 5
}
