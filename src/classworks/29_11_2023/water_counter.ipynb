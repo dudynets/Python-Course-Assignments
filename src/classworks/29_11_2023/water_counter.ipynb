{
 "cells": [
  {
   "cell_type": "code",
   "execution_count": 70,
   "id": "initial_id",
   "metadata": {
    "ExecuteTime": {
     "end_time": "2023-11-29T08:46:56.701105Z",
     "start_time": "2023-11-29T08:46:56.644584Z"
    },
    "collapsed": true
   },
   "outputs": [],
   "source": [
    "import pandas as pd\n",
    "import ipywidgets as widgets"
   ]
  },
  {
   "cell_type": "code",
   "execution_count": 71,
   "id": "c4f0efa30fced579",
   "metadata": {
    "ExecuteTime": {
     "end_time": "2023-11-29T08:46:57.647192Z",
     "start_time": "2023-11-29T08:46:57.639888Z"
    },
    "collapsed": false
   },
   "outputs": [],
   "source": [
    "PRICE_PER_LITRE = 1.35"
   ]
  },
  {
   "cell_type": "code",
   "execution_count": 72,
   "id": "eaaadfb4ada2217",
   "metadata": {
    "ExecuteTime": {
     "end_time": "2023-11-29T08:46:57.788341Z",
     "start_time": "2023-11-29T08:46:57.763058Z"
    },
    "collapsed": false
   },
   "outputs": [],
   "source": [
    "# Read data from CSV\n",
    "readings = pd.read_csv('files/readings.csv')"
   ]
  },
  {
   "cell_type": "code",
   "execution_count": 73,
   "id": "1451b055fe1d2c25",
   "metadata": {
    "ExecuteTime": {
     "end_time": "2023-11-29T08:50:00.729532Z",
     "start_time": "2023-11-29T08:50:00.723993Z"
    },
    "collapsed": false
   },
   "outputs": [],
   "source": [
    "# Replace all month numbers with month names\n",
    "MONTHS_NAMES = [\n",
    "    'January', 'February', 'March', 'April', 'May', 'June', 'July', 'August',\n",
    "    'September', 'October', 'November', 'December'\n",
    "]\n",
    "readings['month'] = readings['month'].apply(lambda x: MONTHS_NAMES[x - 1])"
   ]
  },
  {
   "cell_type": "code",
   "execution_count": 74,
   "id": "927ac7852110bc6c",
   "metadata": {
    "ExecuteTime": {
     "end_time": "2023-11-29T08:46:58.015106Z",
     "start_time": "2023-11-29T08:46:57.936230Z"
    },
    "collapsed": false
   },
   "outputs": [],
   "source": [
    "# Check if the current reading is higher than the previous one\n",
    "for _, row in readings.iterrows():\n",
    "    if row['curr_reading'] < row['prev_reading']:\n",
    "        raise Exception('Current reading is lower than previous reading')"
   ]
  },
  {
   "cell_type": "code",
   "execution_count": 89,
   "id": "a1a4adec649040a8",
   "metadata": {
    "ExecuteTime": {
     "end_time": "2023-11-29T08:55:35.754737Z",
     "start_time": "2023-11-29T08:55:35.744710Z"
    },
    "collapsed": false
   },
   "outputs": [
    {
     "data": {
      "application/vnd.jupyter.widget-view+json": {
       "model_id": "7eadb54c09f54ef592c0cf0aa0831627",
       "version_major": 2,
       "version_minor": 0
      },
      "text/plain": [
       "interactive(children=(Dropdown(description='Month:', options=('January', 'February', 'March', 'April', 'May', …"
      ]
     },
     "execution_count": 89,
     "metadata": {},
     "output_type": "execute_result"
    }
   ],
   "source": [
    "# Get all months indexes from the readings\n",
    "months = readings['month'].unique()\n",
    "month_select = widgets.Dropdown(\n",
    "    options=months,\n",
    "    description='Month:',\n",
    "    disabled=False,\n",
    ")\n",
    "\n",
    "def month_select_observer(month_input):\n",
    "    month_readings = readings[readings['month'] == month_input].set_index('flat_number').drop(columns=['month'])\n",
    "    print(month_readings)\n",
    "\n",
    "\n",
    "widgets.interactive(month_select_observer, month_input=month_select)"
   ]
  },
  {
   "cell_type": "code",
   "execution_count": 105,
   "id": "a555fea029ca7efa",
   "metadata": {
    "ExecuteTime": {
     "end_time": "2023-11-29T08:55:35.914762Z",
     "start_time": "2023-11-29T08:55:35.873870Z"
    },
    "collapsed": false
   },
   "outputs": [
    {
     "data": {
      "application/vnd.jupyter.widget-view+json": {
       "model_id": "0e469c6a6bbf4ee3a327ab52ea9ec8cf",
       "version_major": 2,
       "version_minor": 0
      },
      "text/plain": [
       "interactive(children=(DatePicker(value=None, description='Start date', step=1), DatePicker(value=None, descrip…"
      ]
     },
     "execution_count": 105,
     "metadata": {},
     "output_type": "execute_result"
    }
   ],
   "source": [
    "# Total water usege of all flats in the building for selected range\n",
    "start_date_picker = widgets.DatePicker(\n",
    "    description='Start date',\n",
    "    disabled=False\n",
    ")\n",
    "\n",
    "end_date_picker = widgets.DatePicker(\n",
    "    description='End date',\n",
    "    disabled=False\n",
    ")\n",
    "\n",
    "def calculate_total_usage_range(start_month, end_month):\n",
    "    if start_month > end_month:\n",
    "        raise Exception('Start month cannot be greater than end month')\n",
    "\n",
    "    total_usage = 0\n",
    "    for month in range(start_month, end_month + 1):\n",
    "        month_name = MONTHS_NAMES[month - 1]\n",
    "        month_readings = readings[readings['month'] == month_name].set_index('flat_number').drop(columns=['month'])\n",
    "        total_usage += (month_readings['curr_reading'].sum() - month_readings['prev_reading'].sum())\n",
    "    \n",
    "    return total_usage\n",
    "\n",
    "def date_range_observer(start_date, end_date):\n",
    "    if start_date is None or end_date is None:\n",
    "        print('Please select start and end date')\n",
    "        return\n",
    "\n",
    "    if start_date > end_date:\n",
    "        print('Start date cannot be greater than end date')\n",
    "        return\n",
    "    \n",
    "    start_month = start_date.month\n",
    "    end_month = end_date.month\n",
    "\n",
    "    total_usage = calculate_total_usage_range(start_month, end_month)\n",
    "    total_cost = total_usage * PRICE_PER_LITRE\n",
    "\n",
    "    print(f'Total usage: {total_usage} litres')\n",
    "    print(f'Total cost: {total_cost} UAH')\n",
    "\n",
    "widgets.interactive(date_range_observer, start_date=start_date_picker, end_date=end_date_picker)"
   ]
  },
  {
   "cell_type": "code",
   "execution_count": null,
   "id": "92363f6172bf9cd7",
   "metadata": {
    "collapsed": false
   },
   "outputs": [],
   "source": []
  },
  {
   "cell_type": "code",
   "execution_count": null,
   "id": "682e1111",
   "metadata": {},
   "outputs": [],
   "source": []
  }
 ],
 "metadata": {
  "kernelspec": {
   "display_name": "Python 3",
   "language": "python",
   "name": "python3"
  },
  "language_info": {
   "codemirror_mode": {
    "name": "ipython",
    "version": 3
   },
   "file_extension": ".py",
   "mimetype": "text/x-python",
   "name": "python",
   "nbconvert_exporter": "python",
   "pygments_lexer": "ipython3",
   "version": "3.12.0"
  }
 },
 "nbformat": 4,
 "nbformat_minor": 5
}
