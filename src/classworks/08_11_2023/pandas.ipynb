{
 "cells": [
  {
   "cell_type": "markdown",
   "metadata": {},
   "source": [
    "# Pandas"
   ]
  },
  {
   "cell_type": "code",
   "execution_count": 325,
   "outputs": [],
   "source": [
    "import pandas as pd"
   ],
   "metadata": {
    "collapsed": false,
    "ExecuteTime": {
     "end_time": "2023-11-08T09:24:06.040310Z",
     "start_time": "2023-11-08T09:24:06.027718Z"
    }
   }
  },
  {
   "cell_type": "code",
   "execution_count": 326,
   "outputs": [
    {
     "name": "stdout",
     "output_type": "stream",
     "text": [
      "    flat_number  month_index  current_counter_value  previous_counter_value\n",
      "0             1            1                    100                       0\n",
      "1             2            1                    100                       0\n",
      "2             3            1                    100                       0\n",
      "3             4            1                    100                       0\n",
      "4             5            1                    100                       0\n",
      "5             1            2                    250                     100\n",
      "6             2            2                    250                     100\n",
      "7             3            2                    250                     100\n",
      "8             4            2                    250                     100\n",
      "9             5            2                    250                     100\n",
      "10            1            3                    350                     250\n",
      "11            2            3                    350                     250\n",
      "12            3            3                    350                     250\n",
      "13            4            3                    350                     250\n",
      "14            5            3                    350                     250\n"
     ]
    }
   ],
   "source": [
    "# Read CSV file and create a dataframe\n",
    "flats = pd.read_csv(\"files/flats.csv\")\n",
    "print(flats)"
   ],
   "metadata": {
    "collapsed": false,
    "ExecuteTime": {
     "end_time": "2023-11-08T09:24:06.040798Z",
     "start_time": "2023-11-08T09:24:06.030706Z"
    }
   }
  },
  {
   "cell_type": "code",
   "execution_count": 327,
   "outputs": [],
   "source": [
    "# Validate data\n",
    "curr_greater_than_prev_guard = lambda entry: entry['current_counter_value'] >= entry['previous_counter_value']\n",
    "for index, row in flats.iterrows():\n",
    "    if not curr_greater_than_prev_guard(row):\n",
    "        flat_entry = row.to_dict()\n",
    "        print(f'Error in flat {flat_entry[\"flat_number\"]} (month: {flat_entry[\"month_index\"]})')\n",
    "        print(\n",
    "            f'Previous counter value ({flat_entry[\"previous_counter_value\"]}) should be less than current counter value ({flat_entry[\"current_counter_value\"]})')\n",
    "        break"
   ],
   "metadata": {
    "collapsed": false,
    "ExecuteTime": {
     "end_time": "2023-11-08T09:24:06.049544Z",
     "start_time": "2023-11-08T09:24:06.036322Z"
    }
   }
  },
  {
   "cell_type": "code",
   "execution_count": 328,
   "outputs": [
    {
     "name": "stdout",
     "output_type": "stream",
     "text": [
      "Water usage by month 3\n",
      "    flat_number  current_counter_value\n",
      "10            1                    350\n",
      "11            2                    350\n",
      "12            3                    350\n",
      "13            4                    350\n",
      "14            5                    350\n"
     ]
    }
   ],
   "source": [
    "# Water usage by month\n",
    "def water_usage_by_month(month):\n",
    "    month_flats = flats[flats['month_index'] == month]\n",
    "    print(f'Water usage by month {month}')\n",
    "    print(month_flats[['flat_number', 'current_counter_value']])\n",
    "\n",
    "\n",
    "water_usage_by_month(3)"
   ],
   "metadata": {
    "collapsed": false,
    "ExecuteTime": {
     "end_time": "2023-11-08T09:24:06.050781Z",
     "start_time": "2023-11-08T09:24:06.040099Z"
    }
   }
  },
  {
   "cell_type": "code",
   "execution_count": 329,
   "outputs": [
    {
     "name": "stdout",
     "output_type": "stream",
     "text": [
      "Water usage of all flats summed by all time\n",
      "1750\n"
     ]
    }
   ],
   "source": [
    "# All flats water usage\n",
    "usage = flats['current_counter_value'].sum() - flats['previous_counter_value'].sum()\n",
    "\n",
    "print('Water usage of all flats summed by all time')\n",
    "print(usage)"
   ],
   "metadata": {
    "collapsed": false,
    "ExecuteTime": {
     "end_time": "2023-11-08T09:24:06.059593Z",
     "start_time": "2023-11-08T09:24:06.043997Z"
    }
   }
  },
  {
   "cell_type": "code",
   "execution_count": 330,
   "outputs": [
    {
     "name": "stdout",
     "output_type": "stream",
     "text": [
      "Water price by quarter 1\n",
      "    flat_number  month_index  usage   price\n",
      "0             1            1    100  1850.0\n",
      "1             2            1    100  1850.0\n",
      "2             3            1    100  1850.0\n",
      "3             4            1    100  1850.0\n",
      "4             5            1    100  1850.0\n",
      "5             1            2    150  2775.0\n",
      "6             2            2    150  2775.0\n",
      "7             3            2    150  2775.0\n",
      "8             4            2    150  2775.0\n",
      "9             5            2    150  2775.0\n",
      "10            1            3    100  1850.0\n",
      "11            2            3    100  1850.0\n",
      "12            3            3    100  1850.0\n",
      "13            4            3    100  1850.0\n",
      "14            5            3    100  1850.0\n"
     ]
    }
   ],
   "source": [
    "# Price of water usage by quarter\n",
    "PRICE_PER_CUBIC_METER = 18.5\n",
    "QUARTERS = {\n",
    "    1: [1, 2, 3],\n",
    "    2: [4, 5, 6],\n",
    "    3: [7, 8, 9],\n",
    "    4: [10, 11, 12]\n",
    "}\n",
    "\n",
    "\n",
    "def water_price_by_quarter(quarter):\n",
    "    quarter_flats = flats[flats['month_index'].isin(QUARTERS[quarter])]\n",
    "\n",
    "    flats_with_price = pd.DataFrame(columns=['flat_number', 'month_index', 'usage', 'price'])\n",
    "    flats_with_price['flat_number'] = quarter_flats['flat_number']\n",
    "    flats_with_price['month_index'] = quarter_flats['month_index']\n",
    "    flats_with_price['usage'] = quarter_flats['current_counter_value'] - quarter_flats['previous_counter_value']\n",
    "    flats_with_price['price'] = flats_with_price['usage'] * PRICE_PER_CUBIC_METER\n",
    "\n",
    "    print(f'Water price by quarter {quarter}')\n",
    "    print(flats_with_price)\n",
    "\n",
    "\n",
    "water_price_by_quarter(1)\n"
   ],
   "metadata": {
    "collapsed": false,
    "ExecuteTime": {
     "end_time": "2023-11-08T09:24:06.060922Z",
     "start_time": "2023-11-08T09:24:06.050538Z"
    }
   }
  },
  {
   "cell_type": "code",
   "execution_count": 331,
   "outputs": [
    {
     "name": "stdout",
     "output_type": "stream",
     "text": [
      "Flats usage\n",
      "   flat_number  month_index  usage\n",
      "0            1            3    150\n",
      "1            2            3    150\n",
      "2            3            3    150\n",
      "3            4            3    150\n",
      "4            5            3    150\n",
      "Months usage\n",
      "   month_index  flat_number  usage\n",
      "0            1            5    100\n",
      "1            2            5    150\n",
      "2            3            5    100\n"
     ]
    }
   ],
   "source": [
    "# Max water usage by flat and month\n",
    "def max_usage():\n",
    "    usage_entry = flats.copy()\n",
    "    usage_entry['usage'] = usage_entry['current_counter_value'] - usage_entry['previous_counter_value']\n",
    "    usage_entry = usage_entry.drop(columns=['current_counter_value', 'previous_counter_value'])\n",
    "\n",
    "    flats_usage = usage_entry.groupby('flat_number').max()\n",
    "    flats_usage.reset_index(inplace=True)\n",
    "    print('Flats usage')\n",
    "    print(flats_usage)\n",
    "\n",
    "    months_usage = usage_entry.groupby('month_index').max()\n",
    "    months_usage.reset_index(inplace=True)\n",
    "    print('Months usage')\n",
    "    print(months_usage)\n",
    "\n",
    "\n",
    "max_usage()"
   ],
   "metadata": {
    "collapsed": false,
    "ExecuteTime": {
     "end_time": "2023-11-08T09:24:06.061484Z",
     "start_time": "2023-11-08T09:24:06.055861Z"
    }
   }
  }
 ],
 "metadata": {
  "kernelspec": {
   "display_name": "base",
   "language": "python",
   "name": "python3"
  },
  "language_info": {
   "codemirror_mode": {
    "name": "ipython",
    "version": 3
   },
   "file_extension": ".py",
   "mimetype": "text/x-python",
   "name": "python",
   "nbconvert_exporter": "python",
   "pygments_lexer": "ipython3",
   "version": "3.11.4"
  }
 },
 "nbformat": 4,
 "nbformat_minor": 2
}
