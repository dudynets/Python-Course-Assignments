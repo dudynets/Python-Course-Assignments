{
 "cells": [
  {
   "cell_type": "markdown",
   "id": "d1c0c953",
   "metadata": {},
   "source": [
    "# Quadratic equation"
   ]
  },
  {
   "cell_type": "code",
   "execution_count": 2,
   "id": "0a03e0e2-fb8b-4b27-bbeb-1ddb657168cb",
   "metadata": {
    "tags": [],
    "ExecuteTime": {
     "end_time": "2023-09-13T08:17:22.910964Z",
     "start_time": "2023-09-13T08:17:15.626061Z"
    }
   },
   "outputs": [
    {
     "name": "stdout",
     "output_type": "stream",
     "text": [
      "The quadratic equation is:  1 * x^2 + 26 * x + 120 = 0\n"
     ]
    }
   ],
   "source": [
    "a = int(input(\"Enter a: \"))\n",
    "b = int(input(\"Enter b: \"))\n",
    "c = int(input(\"Enter c: \"))\n",
    "\n",
    "print(\"The quadratic equation is: \", a, \"* x^2 +\", b, \"* x +\", c, \"= 0\")"
   ]
  },
  {
   "cell_type": "code",
   "execution_count": 3,
   "id": "98729585-a346-460b-8cff-b4f0f13d7381",
   "metadata": {
    "tags": [],
    "ExecuteTime": {
     "end_time": "2023-09-13T08:17:43.184707Z",
     "start_time": "2023-09-13T08:17:43.181197Z"
    }
   },
   "outputs": [
    {
     "name": "stdout",
     "output_type": "stream",
     "text": [
      "x1 = -6.0 ; x2 = -20.0\n"
     ]
    }
   ],
   "source": [
    "discriminant = b ** 2 - 4 * a * c\n",
    "\n",
    "if discriminant > 0:\n",
    "    x1 = (-b + discriminant ** 0.5) / (2 * a)\n",
    "    x2 = (-b - discriminant ** 0.5) / (2 * a)\n",
    "    print(\"x1 =\", x1, \"; x2 =\", x2)\n",
    "elif discriminant == 0:\n",
    "    x = -b / (2 * a)\n",
    "    print(\"x =\", x)\n",
    "else:\n",
    "    print(\"No roots\")"
   ]
  }
 ],
 "metadata": {
  "kernelspec": {
   "display_name": "Python 3 (ipykernel)",
   "language": "python",
   "name": "python3"
  },
  "language_info": {
   "codemirror_mode": {
    "name": "ipython",
    "version": 3
   },
   "file_extension": ".py",
   "mimetype": "text/x-python",
   "name": "python",
   "nbconvert_exporter": "python",
   "pygments_lexer": "ipython3",
   "version": "3.11.4"
  }
 },
 "nbformat": 4,
 "nbformat_minor": 5
}
