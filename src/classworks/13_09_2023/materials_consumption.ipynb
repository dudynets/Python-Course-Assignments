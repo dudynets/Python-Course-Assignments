{
 "cells": [
  {
   "cell_type": "markdown",
   "metadata": {},
   "source": [
    "# Materials consumption"
   ]
  },
  {
   "cell_type": "code",
   "execution_count": 1,
   "metadata": {
    "ExecuteTime": {
     "end_time": "2023-09-13T09:38:00.681651Z",
     "start_time": "2023-09-13T09:38:00.624416Z"
    }
   },
   "outputs": [],
   "source": [
    "days = [\n",
    "    {\n",
    "        \"steel\": 324,\n",
    "        \"wood\": 5,\n",
    "        \"plastic\": 12,\n",
    "        \"rubber\": 234,\n",
    "        \"glass\": 4,\n",
    "        \"copper\": 0,\n",
    "    },\n",
    "    {\n",
    "        \"steel\": 123,\n",
    "        \"wood\": 432,\n",
    "        \"plastic\": 54,\n",
    "        \"rubber\": 23,\n",
    "        \"glass\": 56,\n",
    "        \"copper\": 200,\n",
    "    },\n",
    "    {\n",
    "        \"steel\": 45,\n",
    "        \"wood\": 53,\n",
    "        \"plastic\": 1,\n",
    "        \"rubber\": 24,\n",
    "        \"glass\": 64,\n",
    "        \"copper\": 14,\n",
    "    },\n",
    "]"
   ]
  },
  {
   "cell_type": "code",
   "execution_count": null,
   "outputs": [],
   "source": [
    "def get_most_expensive_materials(day, count):\n",
    "    sorted_dict = sorted(day.items(), key=lambda item: item[1], reverse=True)\n",
    "    return sorted_dict[:count]\n",
    "\n"
   ],
   "metadata": {
    "collapsed": false
   }
  },
  {
   "cell_type": "code",
   "execution_count": null,
   "outputs": [],
   "source": [
    "def get_most_expensive_material_for_each_day(days):\n",
    "    result = []\n",
    "    for day in days:\n",
    "        result.append(get_most_expensive_materials(day, 1)[0])\n",
    "    return result\n",
    "\n"
   ],
   "metadata": {
    "collapsed": false
   }
  },
  {
   "cell_type": "code",
   "execution_count": null,
   "outputs": [],
   "source": [
    "def get_report(days):\n",
    "    result = {}\n",
    "    for day in days:\n",
    "        for key, value in day.items():\n",
    "            if key in result:\n",
    "                result[key] += value\n",
    "            else:\n",
    "                result[key] = value\n",
    "\n",
    "    return result\n",
    "\n"
   ],
   "metadata": {
    "collapsed": false
   }
  },
  {
   "cell_type": "code",
   "execution_count": 5,
   "metadata": {
    "ExecuteTime": {
     "end_time": "2023-09-13T09:38:00.696260Z",
     "start_time": "2023-09-13T09:38:00.648090Z"
    }
   },
   "outputs": [
    {
     "name": "stdout",
     "output_type": "stream",
     "text": [
      "Most expensive materials for first day:  [('steel', 324), ('rubber', 234), ('plastic', 12)]\n",
      "Most expensive materials for each day:  [('steel', 324), ('wood', 432), ('glass', 64)]\n",
      "Report:  {'steel': 492, 'wood': 490, 'plastic': 67, 'rubber': 281, 'glass': 124, 'copper': 214}\n"
     ]
    }
   ],
   "source": [
    "most_expensive_materials = get_most_expensive_materials(days[0], 3)\n",
    "most_expensive_material_for_each_day = (\n",
    "    get_most_expensive_material_for_each_day(days)\n",
    ")\n",
    "report = get_report(days)\n",
    "\n",
    "print(\"Most expensive materials for first day: \", most_expensive_materials)\n",
    "print(\n",
    "    \"Most expensive materials for each day: \",\n",
    "    most_expensive_material_for_each_day,\n",
    ")\n",
    "print(\"Report: \", report)"
   ]
  }
 ],
 "metadata": {
  "kernelspec": {
   "display_name": "base",
   "language": "python",
   "name": "python3"
  },
  "language_info": {
   "codemirror_mode": {
    "name": "ipython",
    "version": 3
   },
   "file_extension": ".py",
   "mimetype": "text/x-python",
   "name": "python",
   "nbconvert_exporter": "python",
   "pygments_lexer": "ipython3",
   "version": "3.11.4"
  }
 },
 "nbformat": 4,
 "nbformat_minor": 2
}
