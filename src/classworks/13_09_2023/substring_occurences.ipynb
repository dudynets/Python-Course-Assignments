{
 "cells": [
  {
   "cell_type": "markdown",
   "metadata": {},
   "source": [
    "# Substring occurences"
   ]
  },
  {
   "cell_type": "code",
   "execution_count": 1,
   "metadata": {
    "ExecuteTime": {
     "end_time": "2023-09-13T08:20:10.598898Z",
     "start_time": "2023-09-13T08:20:02.411491Z"
    }
   },
   "outputs": [
    {
     "name": "stdout",
     "output_type": "stream",
     "text": [
      "Full string:  asd asd\n",
      "Sub string:  a\n"
     ]
    }
   ],
   "source": [
    "full_string = input(\"Enter full string: \")\n",
    "sub_string = input(\"Enter sub string: \")\n",
    "\n",
    "print(\"Full string: \", full_string)\n",
    "print(\"Sub string: \", sub_string)"
   ]
  },
  {
   "cell_type": "code",
   "execution_count": 2,
   "metadata": {
    "ExecuteTime": {
     "end_time": "2023-09-13T08:20:10.599235Z",
     "start_time": "2023-09-13T08:20:10.583638Z"
    }
   },
   "outputs": [
    {
     "name": "stdout",
     "output_type": "stream",
     "text": [
      "Count of sub string in full string:  2\n"
     ]
    }
   ],
   "source": [
    "count = 0\n",
    "for i in range(len(full_string)):\n",
    "    if full_string[i:i+len(sub_string)] == sub_string:\n",
    "        count += 1\n",
    "\n",
    "print(\"Count of sub string in full string: \", count)"
   ]
  }
 ],
 "metadata": {
  "kernelspec": {
   "display_name": "base",
   "language": "python",
   "name": "python3"
  },
  "language_info": {
   "codemirror_mode": {
    "name": "ipython",
    "version": 3
   },
   "file_extension": ".py",
   "mimetype": "text/x-python",
   "name": "python",
   "nbconvert_exporter": "python",
   "pygments_lexer": "ipython3",
   "version": "3.11.4"
  }
 },
 "nbformat": 4,
 "nbformat_minor": 2
}
