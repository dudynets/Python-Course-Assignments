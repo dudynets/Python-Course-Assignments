{
 "cells": [
  {
   "cell_type": "markdown",
   "id": "1b723835",
   "metadata": {},
   "source": [
    "# Speed function"
   ]
  },
  {
   "cell_type": "code",
   "execution_count": null,
   "outputs": [],
   "source": [
    "import numpy as np\n",
    "from tabulate import tabulate\n"
   ],
   "metadata": {
    "collapsed": false
   },
   "id": "8a06a4f3289cdee3"
  },
  {
   "cell_type": "code",
   "execution_count": null,
   "outputs": [],
   "source": [
    "def speed(v0, a, step):\n",
    "    headers = [\"v\", \"v(t)\", \"s(t)\"]\n",
    "    values = []\n",
    "\n",
    "    # T - time when the speed is 0\n",
    "    T = -v0 / a\n",
    "\n",
    "    for t in np.arange(0.0, T + step, step):\n",
    "        # v(t) - speed at time t\n",
    "        v_t = v0 + a * t\n",
    "\n",
    "        # s(t) - distance at time t\n",
    "        s_t = v0 * t + 0.5 * a * t ** 2\n",
    "\n",
    "        values.append([f\"{t:.2f}s\", f\"{v_t:.2f}m/s\", f\"{s_t:.2f}m\"])\n",
    "\n",
    "    print(tabulate(values, headers=headers, tablefmt=\"fancy_grid\"))\n",
    "\n",
    "    return T\n",
    "\n"
   ],
   "metadata": {
    "collapsed": false
   },
   "id": "ef29e8f7fb287605"
  },
  {
   "cell_type": "code",
   "execution_count": null,
   "outputs": [],
   "source": [
    "u0 = int(input(\"Enter initial speed: \"))\n",
    "a = int(input(\"Enter acceleration: \"))\n",
    "step = float(input(\"Enter step: \"))\n",
    "\n",
    "speed(u0, a, step)"
   ],
   "metadata": {
    "collapsed": false
   },
   "id": "c1fce20d6e2135ea"
  }
 ],
 "metadata": {
  "kernelspec": {
   "display_name": "Python 3",
   "language": "python",
   "name": "python3"
  },
  "language_info": {
   "codemirror_mode": {
    "name": "ipython",
    "version": 3
   },
   "file_extension": ".py",
   "mimetype": "text/x-python",
   "name": "python",
   "nbconvert_exporter": "python",
   "pygments_lexer": "ipython3",
   "version": "3.11.4"
  }
 },
 "nbformat": 4,
 "nbformat_minor": 5
}
