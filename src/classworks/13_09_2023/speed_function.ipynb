{
 "cells": [
  {
   "cell_type": "markdown",
   "id": "1b723835",
   "metadata": {},
   "source": [
    "# Speed function"
   ]
  },
  {
   "cell_type": "code",
   "execution_count": 102,
   "id": "133747f6",
   "metadata": {},
   "outputs": [],
   "source": [
    "import numpy as np\n",
    "from tabulate import tabulate"
   ]
  },
  {
   "cell_type": "code",
   "execution_count": 100,
   "id": "6fc66f3098a73d81",
   "metadata": {
    "collapsed": false
   },
   "outputs": [],
   "source": [
    "def speed(v0, a, step):\n",
    "    headers = [\"v\", \"v(t)\", \"s(t)\"]\n",
    "    values = []\n",
    "\n",
    "    # T - time when the speed is 0\n",
    "    T = -v0/a\n",
    "\n",
    "    for t in np.arange(0.0, T + step, step):\n",
    "        # v(t) - speed at time t\n",
    "        v_t = v0 + a * t\n",
    "\n",
    "        # s(t) - distance at time t\n",
    "        s_t = v0 * t + 0.5 * a * t ** 2\n",
    "\n",
    "        values.append([f\"{t:.2f}s\", f\"{v_t:.2f}m/s\", f\"{s_t:.2f}m\"])\n",
    "\n",
    "\n",
    "    print(tabulate(values, headers=headers, tablefmt=\"fancy_grid\"))\n",
    "\n",
    "    return T"
   ]
  },
  {
   "cell_type": "code",
   "execution_count": 101,
   "id": "25f9084b",
   "metadata": {},
   "outputs": [
    {
     "name": "stdout",
     "output_type": "stream",
     "text": [
      "╒════════╤═══════════╤═════════╕\n",
      "│ v      │ v(t)      │ s(t)    │\n",
      "╞════════╪═══════════╪═════════╡\n",
      "│ 0.00s  │ 100.00m/s │ 0.00m   │\n",
      "├────────┼───────────┼─────────┤\n",
      "│ 0.50s  │ 95.00m/s  │ 48.75m  │\n",
      "├────────┼───────────┼─────────┤\n",
      "│ 1.00s  │ 90.00m/s  │ 95.00m  │\n",
      "├────────┼───────────┼─────────┤\n",
      "│ 1.50s  │ 85.00m/s  │ 138.75m │\n",
      "├────────┼───────────┼─────────┤\n",
      "│ 2.00s  │ 80.00m/s  │ 180.00m │\n",
      "├────────┼───────────┼─────────┤\n",
      "│ 2.50s  │ 75.00m/s  │ 218.75m │\n",
      "├────────┼───────────┼─────────┤\n",
      "│ 3.00s  │ 70.00m/s  │ 255.00m │\n",
      "├────────┼───────────┼─────────┤\n",
      "│ 3.50s  │ 65.00m/s  │ 288.75m │\n",
      "├────────┼───────────┼─────────┤\n",
      "│ 4.00s  │ 60.00m/s  │ 320.00m │\n",
      "├────────┼───────────┼─────────┤\n",
      "│ 4.50s  │ 55.00m/s  │ 348.75m │\n",
      "├────────┼───────────┼─────────┤\n",
      "│ 5.00s  │ 50.00m/s  │ 375.00m │\n",
      "├────────┼───────────┼─────────┤\n",
      "│ 5.50s  │ 45.00m/s  │ 398.75m │\n",
      "├────────┼───────────┼─────────┤\n",
      "│ 6.00s  │ 40.00m/s  │ 420.00m │\n",
      "├────────┼───────────┼─────────┤\n",
      "│ 6.50s  │ 35.00m/s  │ 438.75m │\n",
      "├────────┼───────────┼─────────┤\n",
      "│ 7.00s  │ 30.00m/s  │ 455.00m │\n",
      "├────────┼───────────┼─────────┤\n",
      "│ 7.50s  │ 25.00m/s  │ 468.75m │\n",
      "├────────┼───────────┼─────────┤\n",
      "│ 8.00s  │ 20.00m/s  │ 480.00m │\n",
      "├────────┼───────────┼─────────┤\n",
      "│ 8.50s  │ 15.00m/s  │ 488.75m │\n",
      "├────────┼───────────┼─────────┤\n",
      "│ 9.00s  │ 10.00m/s  │ 495.00m │\n",
      "├────────┼───────────┼─────────┤\n",
      "│ 9.50s  │ 5.00m/s   │ 498.75m │\n",
      "├────────┼───────────┼─────────┤\n",
      "│ 10.00s │ 0.00m/s   │ 500.00m │\n",
      "╘════════╧═══════════╧═════════╛\n"
     ]
    },
    {
     "data": {
      "text/plain": [
       "10.0"
      ]
     },
     "execution_count": 101,
     "metadata": {},
     "output_type": "execute_result"
    }
   ],
   "source": [
    "u0 = int(input('Enter initial speed: '))\n",
    "a = int(input('Enter acceleration: '))\n",
    "step = float(input('Enter step: '))\n",
    "\n",
    "speed(u0, a, step)"
   ]
  }
 ],
 "metadata": {
  "kernelspec": {
   "display_name": "Python 3",
   "language": "python",
   "name": "python3"
  },
  "language_info": {
   "codemirror_mode": {
    "name": "ipython",
    "version": 3
   },
   "file_extension": ".py",
   "mimetype": "text/x-python",
   "name": "python",
   "nbconvert_exporter": "python",
   "pygments_lexer": "ipython3",
   "version": "3.11.4"
  }
 },
 "nbformat": 4,
 "nbformat_minor": 5
}
