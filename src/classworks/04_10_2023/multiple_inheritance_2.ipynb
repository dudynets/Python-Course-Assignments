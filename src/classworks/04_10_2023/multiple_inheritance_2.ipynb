{
 "cells": [
  {
   "cell_type": "markdown",
   "metadata": {},
   "source": [
    "# Multiple inheritance (task 2)"
   ]
  },
  {
   "cell_type": "code",
   "execution_count": 290,
   "metadata": {},
   "outputs": [],
   "source": [
    "from datetime import date\n",
    "from random import randint"
   ]
  },
  {
   "cell_type": "code",
   "execution_count": 291,
   "metadata": {},
   "outputs": [],
   "source": [
    "def get_random_account_number():\n",
    "    return randint(1000000000000000, 9999999999999999)"
   ]
  },
  {
   "cell_type": "code",
   "execution_count": 292,
   "metadata": {},
   "outputs": [],
   "source": [
    "class Citizen:\n",
    "    def __init__(self, name, surname, birthdate):\n",
    "        self.__name = name\n",
    "        self.__surname = surname\n",
    "        self.__birthdate = birthdate\n",
    "\n",
    "    def __str__(self):\n",
    "        return (\n",
    "            f'Name: {self.__name}\\n' +\n",
    "            f'Surname: {self.__surname}\\n' +\n",
    "            f'Age: {self.__get_age()} years'\n",
    "        )\n",
    "\n",
    "    def __get_age(self):\n",
    "        today = date.today()\n",
    "        birthdate = date.fromisoformat(self.__birthdate)\n",
    "        delta = today - birthdate\n",
    "        return int(delta.days / 365)"
   ]
  },
  {
   "cell_type": "code",
   "execution_count": 293,
   "metadata": {},
   "outputs": [],
   "source": [
    "class BankAccount:\n",
    "    def __init__(self):\n",
    "        self.__account_number = get_random_account_number()\n",
    "        self.__balance = 0\n",
    "\n",
    "    def __str__(self):\n",
    "        return (\n",
    "            f'Account number: {self.__account_number}\\n' +\n",
    "            f'Balance: {self.__balance} UAH'\n",
    "        )\n",
    "    \n",
    "    @property\n",
    "    def balance(self):\n",
    "        return self.__balance\n",
    "    \n",
    "    def top_up(self, amount):\n",
    "        self.__balance += amount\n",
    "\n",
    "    def widthdraw(self, amount):\n",
    "        if (amount > self.__balance):\n",
    "            print('Balance insufficient')\n",
    "            return 0\n",
    "        self.__balance -= amount\n",
    "        return amount\n",
    "\n",
    "    def print_balance(self):\n",
    "        print(f'Current balance: {self.__balance} UAH')"
   ]
  },
  {
   "cell_type": "code",
   "execution_count": 294,
   "metadata": {},
   "outputs": [],
   "source": [
    "class CreditAccount(BankAccount):\n",
    "    def __init__(self):\n",
    "        super().__init__()\n",
    "        self.__last_credit_date = None\n",
    "        self.__total_credit_sum = 0\n",
    "\n",
    "    def __str__(self):\n",
    "        return (\n",
    "            f'Credit balance: {super().balance} UAH\\n' +\n",
    "            f'Last credit date: {self.__last_credit_date}\\n' +\n",
    "            f'Total credit sum: {self.__total_credit_sum} UAH'\n",
    "        )\n",
    "    \n",
    "    def top_up(self, amount):\n",
    "        print('You cannot top up credit account')\n",
    "    \n",
    "    @property\n",
    "    def total_credit_sum(self):\n",
    "        return self.__total_credit_sum\n",
    "    \n",
    "    @total_credit_sum.setter\n",
    "    def total_credit_sum(self, value):\n",
    "        self.__total_credit_sum = value\n",
    "\n",
    "    def issue_credit(self, amount):\n",
    "        self.__last_credit_date = date.today()\n",
    "        self.__total_credit_sum += amount\n",
    "        super().top_up(amount)\n",
    "\n"
   ]
  },
  {
   "cell_type": "code",
   "execution_count": 295,
   "metadata": {},
   "outputs": [],
   "source": [
    "class Client(Citizen):\n",
    "    def __init__(self, name, surname, birthdate):\n",
    "        super().__init__(name, surname, birthdate)\n",
    "        self.__bank_account = BankAccount()\n",
    "\n",
    "    def __str__(self):\n",
    "        return (\n",
    "            f'{super().__str__()}\\n' +\n",
    "            f'{self.__bank_account.__str__()}'\n",
    "        )\n",
    "    \n",
    "    @property\n",
    "    def bank_account(self):\n",
    "        return self.__bank_account"
   ]
  },
  {
   "cell_type": "code",
   "execution_count": 296,
   "metadata": {},
   "outputs": [],
   "source": [
    "class VipClient(Client):\n",
    "    def __init__(self, name, surname, birthdate):\n",
    "        super().__init__(name, surname, birthdate)\n",
    "        self.__credit_account = CreditAccount()\n",
    "\n",
    "\n",
    "    def __str__(self):\n",
    "        return (\n",
    "            f'{super().__str__()}\\n' +\n",
    "            f'{self.__credit_account.__str__()}'\n",
    "        )\n",
    "    \n",
    "    @property\n",
    "    def credit_account(self):\n",
    "        return self.__credit_account\n",
    "    \n",
    "\n",
    "    def issue_credit(self, amount):\n",
    "        p = 0.1\n",
    "\n",
    "        if (self._Citizen__get_age() >= 30 and self._Citizen__get_age() <= 50):\n",
    "            percent = p\n",
    "        else:\n",
    "            percent = p / 2\n",
    "\n",
    "        max_allowed_credit_sum = self.super().__bank_account.balance * percent\n",
    "\n",
    "        if (max_allowed_credit_sum < amount):\n",
    "            amount = max_allowed_credit_sum\n",
    "            print(f'Balance insufficient to issue a credit of {amount} UAH. Opening a credit of {max_allowed_credit_sum} UAH instead.')\n",
    "            return\n",
    "\n",
    "        self.__credit_account.issue_credit(amount)\n",
    "    \n",
    "\n",
    "    def return_credit(self, amount):\n",
    "        total_balance = self.__credit_account.balance + self.__bank_account.balance\n",
    "        if (amount > total_balance):\n",
    "            print('Balance insufficient')\n",
    "            return\n",
    "\n",
    "        widthdrawed_from_credit = self.__credit_account.widthdraw(amount)\n",
    "        if (widthdrawed_from_credit < amount):\n",
    "            amount -= widthdrawed_from_credit\n",
    "            self.__bank_account.widthdraw(amount)\n",
    "        self.__credit_account.total_credit_sum -= amount\n",
    "        print('Credit returned')"
   ]
  },
  {
   "cell_type": "code",
   "execution_count": 297,
   "metadata": {},
   "outputs": [
    {
     "ename": "AttributeError",
     "evalue": "'VipClient' object has no attribute 'super'",
     "output_type": "error",
     "traceback": [
      "\u001b[0;31m---------------------------------------------------------------------------\u001b[0m",
      "\u001b[0;31mAttributeError\u001b[0m                            Traceback (most recent call last)",
      "\u001b[1;32m/Users/dudynets/Developer/University/2nd Year/python-course-assignments/src/classworks/04_10_2023/multiple_inheritance_2.ipynb Cell 9\u001b[0m line \u001b[0;36m4\n\u001b[1;32m      <a href='vscode-notebook-cell:/Users/dudynets/Developer/University/2nd%20Year/python-course-assignments/src/classworks/04_10_2023/multiple_inheritance_2.ipynb#X13sZmlsZQ%3D%3D?line=0'>1</a>\u001b[0m sasha \u001b[39m=\u001b[39m VipClient(\u001b[39m'\u001b[39m\u001b[39mSasha\u001b[39m\u001b[39m'\u001b[39m, \u001b[39m'\u001b[39m\u001b[39mDudynets\u001b[39m\u001b[39m'\u001b[39m, \u001b[39m'\u001b[39m\u001b[39m2004-12-17\u001b[39m\u001b[39m'\u001b[39m)\n\u001b[1;32m      <a href='vscode-notebook-cell:/Users/dudynets/Developer/University/2nd%20Year/python-course-assignments/src/classworks/04_10_2023/multiple_inheritance_2.ipynb#X13sZmlsZQ%3D%3D?line=2'>3</a>\u001b[0m sasha\u001b[39m.\u001b[39mbank_account\u001b[39m.\u001b[39mtop_up(\u001b[39m1000\u001b[39m)\n\u001b[0;32m----> <a href='vscode-notebook-cell:/Users/dudynets/Developer/University/2nd%20Year/python-course-assignments/src/classworks/04_10_2023/multiple_inheritance_2.ipynb#X13sZmlsZQ%3D%3D?line=3'>4</a>\u001b[0m sasha\u001b[39m.\u001b[39missue_credit(\u001b[39m500\u001b[39m)\n\u001b[1;32m      <a href='vscode-notebook-cell:/Users/dudynets/Developer/University/2nd%20Year/python-course-assignments/src/classworks/04_10_2023/multiple_inheritance_2.ipynb#X13sZmlsZQ%3D%3D?line=4'>5</a>\u001b[0m sasha\u001b[39m.\u001b[39missue_credit(\u001b[39m500\u001b[39m)\n\u001b[1;32m      <a href='vscode-notebook-cell:/Users/dudynets/Developer/University/2nd%20Year/python-course-assignments/src/classworks/04_10_2023/multiple_inheritance_2.ipynb#X13sZmlsZQ%3D%3D?line=5'>6</a>\u001b[0m sasha\u001b[39m.\u001b[39missue_credit(\u001b[39m500\u001b[39m)\n",
      "\u001b[1;32m/Users/dudynets/Developer/University/2nd Year/python-course-assignments/src/classworks/04_10_2023/multiple_inheritance_2.ipynb Cell 9\u001b[0m line \u001b[0;36m2\n\u001b[1;32m     <a href='vscode-notebook-cell:/Users/dudynets/Developer/University/2nd%20Year/python-course-assignments/src/classworks/04_10_2023/multiple_inheritance_2.ipynb#X13sZmlsZQ%3D%3D?line=22'>23</a>\u001b[0m \u001b[39melse\u001b[39;00m:\n\u001b[1;32m     <a href='vscode-notebook-cell:/Users/dudynets/Developer/University/2nd%20Year/python-course-assignments/src/classworks/04_10_2023/multiple_inheritance_2.ipynb#X13sZmlsZQ%3D%3D?line=23'>24</a>\u001b[0m     percent \u001b[39m=\u001b[39m p \u001b[39m/\u001b[39m \u001b[39m2\u001b[39m\n\u001b[0;32m---> <a href='vscode-notebook-cell:/Users/dudynets/Developer/University/2nd%20Year/python-course-assignments/src/classworks/04_10_2023/multiple_inheritance_2.ipynb#X13sZmlsZQ%3D%3D?line=25'>26</a>\u001b[0m max_allowed_credit_sum \u001b[39m=\u001b[39m \u001b[39mself\u001b[39m\u001b[39m.\u001b[39msuper()\u001b[39m.\u001b[39m__bank_account\u001b[39m.\u001b[39mbalance \u001b[39m*\u001b[39m percent\n\u001b[1;32m     <a href='vscode-notebook-cell:/Users/dudynets/Developer/University/2nd%20Year/python-course-assignments/src/classworks/04_10_2023/multiple_inheritance_2.ipynb#X13sZmlsZQ%3D%3D?line=27'>28</a>\u001b[0m \u001b[39mif\u001b[39;00m (max_allowed_credit_sum \u001b[39m<\u001b[39m amount):\n\u001b[1;32m     <a href='vscode-notebook-cell:/Users/dudynets/Developer/University/2nd%20Year/python-course-assignments/src/classworks/04_10_2023/multiple_inheritance_2.ipynb#X13sZmlsZQ%3D%3D?line=28'>29</a>\u001b[0m     amount \u001b[39m=\u001b[39m max_allowed_credit_sum\n",
      "\u001b[0;31mAttributeError\u001b[0m: 'VipClient' object has no attribute 'super'"
     ]
    }
   ],
   "source": [
    "sasha = VipClient('Sasha', 'Dudynets', '2004-12-17')\n",
    "\n",
    "sasha.bank_account.top_up(1000)\n",
    "sasha.issue_credit(500)\n",
    "sasha.issue_credit(500)\n",
    "sasha.issue_credit(500)\n",
    "\n",
    "sasha.credit_account.widthdraw(1000)\n",
    "\n",
    "\n",
    "print(sasha)\n",
    "\n",
    "\n",
    "\n",
    "print('------------------------')\n",
    "oleksandr = Client('Oleksandr', 'Dudynets', '1976-12-17')\n",
    "print(oleksandr)"
   ]
  }
 ],
 "metadata": {
  "kernelspec": {
   "display_name": "base",
   "language": "python",
   "name": "python3"
  },
  "language_info": {
   "codemirror_mode": {
    "name": "ipython",
    "version": 3
   },
   "file_extension": ".py",
   "mimetype": "text/x-python",
   "name": "python",
   "nbconvert_exporter": "python",
   "pygments_lexer": "ipython3",
   "version": "3.11.4"
  }
 },
 "nbformat": 4,
 "nbformat_minor": 2
}
