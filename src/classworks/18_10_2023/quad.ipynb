{
 "cells": [
  {
   "cell_type": "markdown",
   "source": [
    "# Quad"
   ],
   "metadata": {
    "collapsed": false
   },
   "id": "eb255d338216d235"
  },
  {
   "cell_type": "code",
   "execution_count": 12,
   "outputs": [],
   "source": [
    "import numpy as np\n",
    "from scipy.integrate import quad as squad"
   ],
   "metadata": {
    "collapsed": false,
    "ExecuteTime": {
     "end_time": "2023-11-01T09:53:37.885041Z",
     "start_time": "2023-11-01T09:53:37.873136Z"
    }
   },
   "id": "26ffb0224bde76b4"
  },
  {
   "cell_type": "code",
   "execution_count": 13,
   "id": "initial_id",
   "metadata": {
    "collapsed": true,
    "ExecuteTime": {
     "end_time": "2023-11-01T09:53:37.885761Z",
     "start_time": "2023-11-01T09:53:37.877683Z"
    }
   },
   "outputs": [],
   "source": [
    "def quad(f, a, b, N=10000):\n",
    "    x = np.linspace(a, b, N)\n",
    "    s = sum([f(i) for i in x])\n",
    "    return s * abs(b - a) / N"
   ]
  },
  {
   "cell_type": "code",
   "execution_count": 14,
   "outputs": [
    {
     "name": "stdout",
     "output_type": "stream",
     "text": [
      "Custom quad function:\n",
      "1.6279829803292967\n",
      "1.2907809959423455\n",
      "1.257060823178184\n",
      "1.253688805901758\n",
      "\n",
      "Scipy quad function:\n",
      "(1.2533141373155003, 1.0867525664906477e-09)\n"
     ]
    }
   ],
   "source": [
    "func = lambda t: np.exp(-t ** 2 / 2)\n",
    "\n",
    "print('Custom quad function:')\n",
    "print(quad(func, 0, 10, 10))\n",
    "print(quad(func, 0, 10, 100))\n",
    "print(quad(func, 0, 10, 1000))\n",
    "print(quad(func, 0, 10, 10000))\n",
    "# print(quad(func, 0, 10, 100000000))\n",
    "\n",
    "print('\\nScipy quad function:')\n",
    "print(squad(func, 0, 10))"
   ],
   "metadata": {
    "collapsed": false,
    "ExecuteTime": {
     "end_time": "2023-11-01T09:53:37.897641Z",
     "start_time": "2023-11-01T09:53:37.883105Z"
    }
   },
   "id": "ff1d47a25479954d"
  }
 ],
 "metadata": {
  "kernelspec": {
   "display_name": "Python 3",
   "language": "python",
   "name": "python3"
  },
  "language_info": {
   "codemirror_mode": {
    "name": "ipython",
    "version": 2
   },
   "file_extension": ".py",
   "mimetype": "text/x-python",
   "name": "python",
   "nbconvert_exporter": "python",
   "pygments_lexer": "ipython2",
   "version": "2.7.6"
  }
 },
 "nbformat": 4,
 "nbformat_minor": 5
}
