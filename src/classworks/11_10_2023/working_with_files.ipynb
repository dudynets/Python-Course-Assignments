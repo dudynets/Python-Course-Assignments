{
 "cells": [
  {
   "cell_type": "markdown",
   "source": [
    "# Working with files\n",
    "> Not finished"
   ],
   "metadata": {
    "collapsed": false
   },
   "id": "e568ceb69030eac4"
  },
  {
   "cell_type": "code",
   "execution_count": 48,
   "outputs": [],
   "source": [
    "from datetime import datetime\n",
    "import csv"
   ],
   "metadata": {
    "collapsed": false,
    "ExecuteTime": {
     "end_time": "2023-10-11T10:11:23.669241Z",
     "start_time": "2023-10-11T10:11:23.647111Z"
    }
   },
   "id": "19ce5f7086093466"
  },
  {
   "cell_type": "code",
   "execution_count": 49,
   "outputs": [],
   "source": [
    "class OperatingSystem:\n",
    "    def __init__(self, identifier=0, name=\"None\", price=0):\n",
    "        self.identifier = identifier\n",
    "        self.name = name\n",
    "        self.price = price\n",
    "\n",
    "    @property\n",
    "    def identifier(self):\n",
    "        return self._identifier\n",
    "\n",
    "    @identifier.setter\n",
    "    def identifier(self, value):\n",
    "        if value < 0:\n",
    "            raise ValueError(\"Identifier must be positive\")\n",
    "        self._identifier = value\n",
    "\n",
    "    @property\n",
    "    def name(self):\n",
    "        return self._name\n",
    "\n",
    "    @name.setter\n",
    "    def name(self, value):\n",
    "        if len(value) == 0:\n",
    "            raise ValueError(\"Name must not be empty\")\n",
    "        self._name = value\n",
    "\n",
    "    @property\n",
    "    def price(self):\n",
    "        return self._price\n",
    "\n",
    "    @price.setter\n",
    "    def price(self, value):\n",
    "        if value < 0:\n",
    "            raise ValueError(\"Price must be positive\")\n",
    "        self._price = value\n",
    "\n",
    "    @staticmethod\n",
    "    def export_csv(filename, operating_systems):\n",
    "        with open(filename, \"w\") as file:\n",
    "            writer = csv.writer(file)\n",
    "            writer.writerow([\"Identifier\", \"Name\", \"Price\"])\n",
    "            for os in operating_systems:\n",
    "                writer.writerow([os.identifier, os.name, os.price])"
   ],
   "metadata": {
    "collapsed": false,
    "ExecuteTime": {
     "end_time": "2023-10-11T10:11:23.682964Z",
     "start_time": "2023-10-11T10:11:23.651209Z"
    }
   },
   "id": "e9f8b77c59eae8a5"
  },
  {
   "cell_type": "code",
   "execution_count": 50,
   "outputs": [],
   "source": [
    "class Computer:\n",
    "    def __init__(self, identifier, brand, price):\n",
    "        self.identifier = identifier\n",
    "        self.brand = brand\n",
    "        self.price = price\n",
    "\n",
    "    def __str__(self):\n",
    "        return f\"Computer {self.identifier}, Brand: {self.brand}, Price: {self.price} USD\"\n",
    "\n",
    "    @property\n",
    "    def identifier(self):\n",
    "        return self._identifier\n",
    "\n",
    "    @identifier.setter\n",
    "    def identifier(self, value):\n",
    "        if value < 0:\n",
    "            raise ValueError(\"Identifier must be positive\")\n",
    "        self._identifier = value\n",
    "\n",
    "    @property\n",
    "    def brand(self):\n",
    "        return self._brand\n",
    "\n",
    "    @brand.setter\n",
    "    def brand(self, value):\n",
    "        if len(value) == 0:\n",
    "            raise ValueError(\"Brand must not be empty\")\n",
    "        self._brand = value\n",
    "\n",
    "    @property\n",
    "    def price(self):\n",
    "        return self._price\n",
    "\n",
    "    @price.setter\n",
    "    def price(self, value):\n",
    "        if value < 0:\n",
    "            raise ValueError(\"Price must be positive\")\n",
    "        self._price = value\n",
    "\n",
    "    @staticmethod\n",
    "    def export_csv(filename, computers):\n",
    "        with open(filename, \"w\") as file:\n",
    "            writer = csv.writer(file)\n",
    "            writer.writerow([\"Identifier\", \"Brand\", \"Price\"])\n",
    "            for computer in computers:\n",
    "                writer.writerow([computer.identifier, computer.brand, computer.price])"
   ],
   "metadata": {
    "collapsed": false,
    "ExecuteTime": {
     "end_time": "2023-10-11T10:11:23.683624Z",
     "start_time": "2023-10-11T10:11:23.661353Z"
    }
   },
   "id": "c2d336ab7ff30143"
  },
  {
   "cell_type": "code",
   "execution_count": 51,
   "outputs": [],
   "source": [
    "class Receipt:\n",
    "    computers = []\n",
    "\n",
    "    def __init__(self, computer_id, os_id):\n",
    "        self.computer_id = computer_id\n",
    "        self.os_id = os_id\n",
    "        self.date = None\n",
    "\n",
    "    def add_computer(self, computer, os=None):\n",
    "        pass\n",
    "\n",
    "    def import_csv(self, filename):\n",
    "        pass\n",
    "\n",
    "    def export_csv(self, filename):\n",
    "        pass"
   ],
   "metadata": {
    "collapsed": false,
    "ExecuteTime": {
     "end_time": "2023-10-11T10:11:23.683701Z",
     "start_time": "2023-10-11T10:11:23.665576Z"
    }
   },
   "id": "a6c81190a2f939d0"
  },
  {
   "cell_type": "code",
   "execution_count": 52,
   "outputs": [],
   "source": [
    "computer1 = Computer(1, \"Apple\", 1000)\n",
    "computer2 = Computer(2, \"Dell\", 500)\n",
    "computer3 = Computer(3, \"HP\", 300)\n",
    "computer4 = Computer(4, \"Lenovo\", 400)\n",
    "computer5 = Computer(5, \"Asus\", 600)\n",
    "computer6 = Computer(6, \"Acer\", 700)\n",
    "computer7 = Computer(7, \"MSI\", 800)\n",
    "computer8 = Computer(8, \"Razer\", 900)\n",
    "computer9 = Computer(9, \"Alienware\", 1000)\n",
    "computer10 = Computer(10, \"Microsoft\", 1100)\n",
    "computers = [computer1, computer2, computer3, computer4, computer5, computer6, computer7, computer8, computer9,\n",
    "             computer10]\n",
    "Computer.export_csv(\"files/computers.csv\", computers)\n"
   ],
   "metadata": {
    "collapsed": false,
    "ExecuteTime": {
     "end_time": "2023-10-11T10:11:23.683931Z",
     "start_time": "2023-10-11T10:11:23.670857Z"
    }
   },
   "id": "1c8cef751bfc5e52"
  },
  {
   "cell_type": "code",
   "execution_count": 53,
   "outputs": [],
   "source": [
    "os1 = OperatingSystem(1, \"Windows\", 200)\n",
    "os2 = OperatingSystem(2, \"Debian\", 0)\n",
    "os3 = OperatingSystem(3, \"MacOS\", 0)\n",
    "os4 = OperatingSystem(4, \"ChromeOS\", 0)\n",
    "os5 = OperatingSystem(5, \"Android\", 0)\n",
    "os6 = OperatingSystem(6, \"iOS\", 0)\n",
    "os7 = OperatingSystem(7, \"Ubuntu\", 0)\n",
    "operating_systems = [os1, os2, os3, os4, os5, os6, os7]\n",
    "OperatingSystem.export_csv(\"files/operating_systems.csv\", operating_systems)"
   ],
   "metadata": {
    "collapsed": false,
    "ExecuteTime": {
     "end_time": "2023-10-11T10:11:23.684164Z",
     "start_time": "2023-10-11T10:11:23.674223Z"
    }
   },
   "id": "5d06281833052cd5"
  }
 ],
 "metadata": {
  "kernelspec": {
   "display_name": "Python 3",
   "language": "python",
   "name": "python3"
  },
  "language_info": {
   "codemirror_mode": {
    "name": "ipython",
    "version": 2
   },
   "file_extension": ".py",
   "mimetype": "text/x-python",
   "name": "python",
   "nbconvert_exporter": "python",
   "pygments_lexer": "ipython2",
   "version": "2.7.6"
  }
 },
 "nbformat": 4,
 "nbformat_minor": 5
}
