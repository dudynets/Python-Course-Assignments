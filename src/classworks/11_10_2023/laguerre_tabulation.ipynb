{
 "cells": [
  {
   "cell_type": "markdown",
   "source": [
    "# Laguerre polynomials"
   ],
   "metadata": {
    "collapsed": false
   },
   "id": "153d9ac1572afd39"
  },
  {
   "cell_type": "code",
   "execution_count": 32,
   "outputs": [],
   "source": [
    "import numpy as np\n",
    "from tabulate import tabulate"
   ],
   "metadata": {
    "collapsed": false,
    "ExecuteTime": {
     "end_time": "2023-10-11T08:40:29.303457Z",
     "start_time": "2023-10-11T08:40:29.300548Z"
    }
   },
   "id": "f27aa666438d2264"
  },
  {
   "cell_type": "code",
   "execution_count": 33,
   "outputs": [],
   "source": [
    "def laguerre_polymonials(t, n, beta=2, omega=4):\n",
    "    # Validators\n",
    "    if beta < 0:\n",
    "        raise ValueError(\"Value \\\"beta\\\" must be positive\")\n",
    "\n",
    "    if omega < beta:\n",
    "        raise ValueError(\"Value \\\"omega\\\" must be greater than beta\")\n",
    "\n",
    "    if n < 0:\n",
    "        raise ValueError(\"Value \\\"n\\\" must be positive\")\n",
    "\n",
    "    # Calculation\n",
    "    result = np.zeros(n + 1)\n",
    "    result[0] = np.sqrt(omega) * np.exp(-beta * t / 2)\n",
    "    result[1] = np.sqrt(omega) * (1 - omega * t) * np.exp(-beta * t / 2)\n",
    "\n",
    "    for i in np.arange(2, n + 1):\n",
    "        result[i] = ((2 * i - 1 - omega * t) / i) * result[i - 1] - ((i - 1) / i) * result[i - 2]\n",
    "\n",
    "    return result[n]"
   ],
   "metadata": {
    "collapsed": false,
    "ExecuteTime": {
     "end_time": "2023-10-11T08:40:29.626064Z",
     "start_time": "2023-10-11T08:40:29.622824Z"
    }
   },
   "id": "initial_id"
  },
  {
   "cell_type": "code",
   "execution_count": 34,
   "outputs": [
    {
     "name": "stdout",
     "output_type": "stream",
     "text": [
      "+-----+------------+\n",
      "|   t |     result |\n",
      "+=====+============+\n",
      "| 0   |  2         |\n",
      "+-----+------------+\n",
      "| 0.1 |  0.0530838 |\n",
      "+-----+------------+\n",
      "| 0.2 | -0.860213  |\n",
      "+-----+------------+\n",
      "| 0.3 | -1.07863   |\n",
      "+-----+------------+\n",
      "| 0.4 | -0.861585  |\n",
      "+-----+------------+\n",
      "| 0.5 | -0.404354  |\n",
      "+-----+------------+\n",
      "| 0.6 |  0.149277  |\n",
      "+-----+------------+\n",
      "| 0.7 |  0.696544  |\n",
      "+-----+------------+\n",
      "| 0.8 |  1.16706   |\n",
      "+-----+------------+\n",
      "| 0.9 |  1.51569   |\n",
      "+-----+------------+\n"
     ]
    }
   ],
   "source": [
    "def laguerre_polymonials_tabulation(f, n, beta, omega, t_max, step):\n",
    "    results = []\n",
    "\n",
    "    for t in np.arange(0, t_max, step):\n",
    "        results.append({\n",
    "            't': t,\n",
    "            'result': f(t, n, beta, omega)\n",
    "        })\n",
    "\n",
    "    table_headers = ['t', 'result']\n",
    "    table_rows = [[row['t'], row['result']] for row in results]\n",
    "\n",
    "    print(tabulate(table_rows, table_headers, tablefmt=\"grid\"))\n",
    "\n",
    "\n",
    "laguerre_polymonials_tabulation(laguerre_polymonials, 3, 2, 4, 1, 0.1)"
   ],
   "metadata": {
    "collapsed": false,
    "ExecuteTime": {
     "end_time": "2023-10-11T08:40:29.990765Z",
     "start_time": "2023-10-11T08:40:29.987939Z"
    }
   },
   "id": "2a1f21fc1487c410"
  }
 ],
 "metadata": {
  "kernelspec": {
   "display_name": "Python 3",
   "language": "python",
   "name": "python3"
  },
  "language_info": {
   "codemirror_mode": {
    "name": "ipython",
    "version": 2
   },
   "file_extension": ".py",
   "mimetype": "text/x-python",
   "name": "python",
   "nbconvert_exporter": "python",
   "pygments_lexer": "ipython2",
   "version": "2.7.6"
  }
 },
 "nbformat": 4,
 "nbformat_minor": 5
}
