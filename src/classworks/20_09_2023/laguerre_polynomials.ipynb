{
 "cells": [
  {
   "cell_type": "markdown",
   "metadata": {},
   "source": [
    "# Laguerre polynomials"
   ]
  },
  {
   "cell_type": "code",
   "execution_count": 36,
   "metadata": {},
   "outputs": [],
   "source": [
    "import numpy as np"
   ]
  },
  {
   "cell_type": "code",
   "execution_count": 37,
   "metadata": {},
   "outputs": [],
   "source": [
    "def laguerre_polymonial(t, n, beta, omega):\n",
    "    # Validators\n",
    "    if (beta < 0):\n",
    "        raise ValueError(\"Value \\\"beta\\\" must be positive\")\n",
    "    \n",
    "    if (omega < beta):\n",
    "        raise ValueError(\"Value \\\"omega\\\" must be greater than beta\")\n",
    "    \n",
    "    if (n < 0):\n",
    "        raise ValueError(\"Value \\\"n\\\" must be positive\")\n",
    "    \n",
    "    # Best cases\n",
    "    if (n == 0):\n",
    "        return np.sqrt(omega) * np.exp(-beta * t / 2)\n",
    "    \n",
    "    if (n == 1):\n",
    "        return np.sqrt(omega) * (1 - omega * t) * np.exp(-beta * t / 2)\n",
    "    \n",
    "    # Recursion\n",
    "    return ((2 * n - 1 - omega * t) / n) * laguerre_polymonial(t, n - 1, beta, omega) - ((n - 1) / n) * laguerre_polymonial(t, n - 2, beta, omega)"
   ]
  },
  {
   "cell_type": "code",
   "execution_count": 38,
   "metadata": {},
   "outputs": [],
   "source": [
    "def non_recursive_laguerre_polymonial(t, n, beta, omega):\n",
    "    # Validators\n",
    "    if (beta < 0):\n",
    "        raise ValueError(\"Value \\\"beta\\\" must be positive\")\n",
    "    \n",
    "    if (omega < beta):\n",
    "        raise ValueError(\"Value \\\"omega\\\" must be greater than beta\")\n",
    "    \n",
    "    if (n < 0):\n",
    "        raise ValueError(\"Value \\\"n\\\" must be positive\")\n",
    "    \n",
    "    # Calculation\n",
    "    result = np.zeros(n + 1)\n",
    "    result[0] = np.sqrt(omega) * np.exp(-beta * t / 2)\n",
    "    result[1] = np.sqrt(omega) * (1 - omega * t) * np.exp(-beta * t / 2)\n",
    "\n",
    "    for i in range(2, n + 1):\n",
    "        result[i] = ((2 * i - 1 - omega * t) / i) * result[i - 1] - ((i - 1) / i) * result[i - 2]\n",
    "\n",
    "    return result[n]"
   ]
  },
  {
   "cell_type": "code",
   "execution_count": 39,
   "metadata": {},
   "outputs": [],
   "source": [
    "def alternate_laguerre(t, n, b, omega):\n",
    "    if b < 0 or b > omega:\n",
    "        raise ValueError(\"\")\n",
    "\n",
    "    result = 0\n",
    "\n",
    "    if n == 0:\n",
    "        return np.sqrt(omega) * np.exp(-b*t/2)\n",
    "    elif n == 1:\n",
    "        return np.sqrt(omega) * (1 - omega*t) * np.exp(-b*t/2)\n",
    "    else:\n",
    "        prevprev = np.sqrt(omega) * np.exp(-b*t/2)\n",
    "        prev = np.sqrt(omega) * (1 - omega*t) * np.exp(-b*t/2)\n",
    "\n",
    "        for k in range(2, n+1):\n",
    "            result = (2*k - 1 - omega*t) * prev / k - (k - 1) * prevprev / k\n",
    "            prevprev, prev = prev, result\n",
    "\n",
    "        return result"
   ]
  },
  {
   "cell_type": "code",
   "execution_count": 40,
   "metadata": {},
   "outputs": [
    {
     "name": "stdout",
     "output_type": "stream",
     "text": [
      "-0.020812558717565398\n",
      "-0.020812558717565398\n",
      "-0.020812558717565405\n"
     ]
    }
   ],
   "source": [
    "t = 10\n",
    "n = 5\n",
    "beta = 4\n",
    "omega = 6\n",
    "\n",
    "print(laguerre_polymonial(t, n, beta, omega))\n",
    "print(non_recursive_laguerre_polymonial(t, n, beta, omega))\n",
    "print(alternate_laguerre(t, n, beta, omega))\n"
   ]
  },
  {
   "cell_type": "code",
   "execution_count": 41,
   "metadata": {},
   "outputs": [
    {
     "name": "stdout",
     "output_type": "stream",
     "text": [
      "9.75 µs ± 119 ns per loop (mean ± std. dev. of 7 runs, 100,000 loops each)\n",
      "3.29 µs ± 7.85 ns per loop (mean ± std. dev. of 7 runs, 100,000 loops each)\n",
      "2.87 µs ± 11.1 ns per loop (mean ± std. dev. of 7 runs, 100,000 loops each)\n"
     ]
    }
   ],
   "source": [
    "# Benchmark\n",
    "%timeit laguerre_polymonial(t, n, beta, omega)\n",
    "%timeit non_recursive_laguerre_polymonial(t, n, beta, omega)\n",
    "%timeit alternate_laguerre(t, n, beta, omega)"
   ]
  }
 ],
 "metadata": {
  "kernelspec": {
   "display_name": "base",
   "language": "python",
   "name": "python3"
  },
  "language_info": {
   "codemirror_mode": {
    "name": "ipython",
    "version": 3
   },
   "file_extension": ".py",
   "mimetype": "text/x-python",
   "name": "python",
   "nbconvert_exporter": "python",
   "pygments_lexer": "ipython3",
   "version": "3.11.4"
  }
 },
 "nbformat": 4,
 "nbformat_minor": 2
}
