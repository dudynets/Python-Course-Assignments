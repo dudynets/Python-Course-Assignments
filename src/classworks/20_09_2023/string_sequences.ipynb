{
 "cells": [
  {
   "cell_type": "markdown",
   "metadata": {},
   "source": [
    "# String sequences\n",
    "\n",
    "Побудувати функцiю, яка отримує список, що мiстить послiдовностi, складенi з англiйських букв, i виконує над ним такий алгоритм:\n",
    "\n",
    "1. у кожному внутрiшньому списку знаходить послiдовностi, якi побудованi за таким правилом:\n",
    "    - починається i завершується приголосною\n",
    "    - приголоснi i голоснi чергуються\n",
    "2. знайденi послiдовностi повертає як список спискiв, який впорядкований за довжиною послiдовностей."
   ]
  },
  {
   "cell_type": "code",
   "execution_count": 53,
   "metadata": {},
   "outputs": [],
   "source": [
    "import re\n",
    "\n",
    "consonant_bounds_pattern = '^[^aeiou].*[^aeiou]$'\n",
    "alternating_pattern = '^[aeiou]?([^aeiou][aeiou])+[^aeiou]?$'"
   ]
  },
  {
   "cell_type": "code",
   "execution_count": 54,
   "metadata": {},
   "outputs": [],
   "source": [
    "def string_sequences(sequences):\n",
    "    result = []\n",
    "    \n",
    "    for sequence in sequences:\n",
    "        sequence_text = ''.join(sequence)\n",
    "\n",
    "        consonant_bounds_match = re.match(consonant_bounds_pattern, sequence_text)\n",
    "        alternating_match = re.match(alternating_pattern, sequence_text)\n",
    "\n",
    "        if consonant_bounds_match and alternating_match:\n",
    "            result.append(sequence)\n",
    "\n",
    "    return sorted(result, key=len, reverse=True)"
   ]
  },
  {
   "cell_type": "code",
   "execution_count": 56,
   "metadata": {},
   "outputs": [
    {
     "name": "stdout",
     "output_type": "stream",
     "text": [
      "[['b', 'a', 'b', 'a', 'b'], ['b', 'a', 'b']]\n"
     ]
    }
   ],
   "source": [
    "sequences = [\n",
    "    ['a', 'a', 'a', 'a', 'a'],\n",
    "    ['b', 'b', 'b', 'b', 'b'],\n",
    "    ['a'],\n",
    "    ['b'],\n",
    "    ['a', 'b', 'a', 'b', 'a'],\n",
    "    ['b', 'a', 'b', 'a', 'b'],  # Match\n",
    "    ['a', 'b', 'a', 'b', 'a', 'b'],\n",
    "    ['b', 'a', 'b', 'a', 'b', 'a'],\n",
    "    ['b', 'a', 'b']  # Match\n",
    "]\n",
    "\n",
    "print(string_sequences(sequences))"
   ]
  }
 ],
 "metadata": {
  "kernelspec": {
   "display_name": "base",
   "language": "python",
   "name": "python3"
  },
  "language_info": {
   "codemirror_mode": {
    "name": "ipython",
    "version": 3
   },
   "file_extension": ".py",
   "mimetype": "text/x-python",
   "name": "python",
   "nbconvert_exporter": "python",
   "pygments_lexer": "ipython3",
   "version": "3.11.4"
  }
 },
 "nbformat": 4,
 "nbformat_minor": 2
}
