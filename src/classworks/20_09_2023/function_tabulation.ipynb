{
 "cells": [
  {
   "cell_type": "markdown",
   "metadata": {},
   "source": [
    "# Function tabulation"
   ]
  },
  {
   "cell_type": "code",
   "execution_count": null,
   "outputs": [],
   "source": [
    "import numpy as np\n",
    "from tabulate import tabulate\n"
   ],
   "metadata": {
    "collapsed": false
   }
  },
  {
   "cell_type": "code",
   "execution_count": null,
   "outputs": [],
   "source": [
    "a = 0\n",
    "b = 1\n",
    "c = 0\n",
    "d = 1\n",
    "hx = 0.1\n",
    "hy = 0.2"
   ],
   "metadata": {
    "collapsed": false
   }
  },
  {
   "cell_type": "code",
   "execution_count": null,
   "outputs": [],
   "source": [
    "def f1(x, y):\n",
    "    if x + y != 0:\n",
    "        return (np.sin(x + y) + 2 * np.cos(x + y)) / (x + y)\n",
    "    else:\n",
    "        return np.exp(x / 2) + np.exp(y)\n",
    "\n",
    "\n",
    "def f2(x, y):\n",
    "    if x > y:\n",
    "        return ((x + y) ** 2 + 5 * (x - y) + x ** 3) / (x - y)\n",
    "    else:\n",
    "        return (2 * ((x + y) ** 2) + np.exp(x - y)) / (np.exp(2 * x + 7 * y))\n",
    "\n",
    "\n",
    "def tabulation(f, a, b, c, d, hx, hy):\n",
    "    headers = [\"x\", \"y\", \"f(x, y)\"]\n",
    "    values = []\n",
    "\n",
    "    for x in np.arange(a, b + hx, hx):\n",
    "        for y in np.arange(c, d + hy, hy):\n",
    "            values.append([x, y, round(f(x, y), 2)])\n",
    "\n",
    "    print(tabulate(values, headers=headers, tablefmt=\"fancy_grid\"))\n",
    "\n"
   ],
   "metadata": {
    "collapsed": false
   }
  },
  {
   "cell_type": "code",
   "execution_count": null,
   "outputs": [],
   "source": [
    "print(\"=== f1(x, y): ===\\n\")\n",
    "tabulation(f1, a, b, c, d, hx, hy)\n",
    "\n",
    "print(\"\\n\\n=== f2(x, y): ===\\n\")\n",
    "tabulation(f2, a, b, c, d, hx, hy)"
   ],
   "metadata": {
    "collapsed": false
   }
  }
 ],
 "metadata": {
  "kernelspec": {
   "display_name": "base",
   "language": "python",
   "name": "python3"
  },
  "language_info": {
   "codemirror_mode": {
    "name": "ipython",
    "version": 3
   },
   "file_extension": ".py",
   "mimetype": "text/x-python",
   "name": "python",
   "nbconvert_exporter": "python",
   "pygments_lexer": "ipython3",
   "version": "3.11.4"
  }
 },
 "nbformat": 4,
 "nbformat_minor": 2
}
