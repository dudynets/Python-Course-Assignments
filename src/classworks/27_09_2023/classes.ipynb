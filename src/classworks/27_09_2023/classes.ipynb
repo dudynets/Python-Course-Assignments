{
 "cells": [
  {
   "cell_type": "markdown",
   "metadata": {},
   "source": [
    "# Classes"
   ]
  },
  {
   "cell_type": "code",
   "execution_count": 93,
   "metadata": {
    "ExecuteTime": {
     "end_time": "2023-09-28T05:13:44.484392Z",
     "start_time": "2023-09-28T05:13:44.453500Z"
    }
   },
   "outputs": [],
   "source": [
    "ROW_WIDTH = 24"
   ]
  },
  {
   "cell_type": "code",
   "execution_count": null,
   "outputs": [],
   "source": [
    "def get_previous_month(month_index):\n",
    "    return month_index - 1 if month_index > 1 else 12\n",
    "\n",
    "\n",
    "def get_month_name(month_index):\n",
    "    months = [\n",
    "        \"January\",\n",
    "        \"February\",\n",
    "        \"March\",\n",
    "        \"April\",\n",
    "        \"May\",\n",
    "        \"June\",\n",
    "        \"July\",\n",
    "        \"August\",\n",
    "        \"September\",\n",
    "        \"October\",\n",
    "        \"November\",\n",
    "        \"December\",\n",
    "    ]\n",
    "    return months[month_index - 1]\n",
    "\n",
    "\n",
    "def get_quarter_name(quarter_index):\n",
    "    quarters = [\n",
    "        \"First quarter\",\n",
    "        \"Second quarter\",\n",
    "        \"Third quarter\",\n",
    "        \"Fourth quarter\",\n",
    "    ]\n",
    "    return quarters[quarter_index - 1]\n",
    "\n"
   ],
   "metadata": {
    "collapsed": false
   }
  },
  {
   "cell_type": "code",
   "execution_count": null,
   "outputs": [],
   "source": [
    "class WaterCounter:\n",
    "    counters = []\n",
    "\n",
    "    def __init__(self, flat_number, month_index, current_counter_value):\n",
    "        if not isinstance(flat_number, int) or flat_number < 1:\n",
    "            raise ValueError(\n",
    "                \"Flat number must be greater than 0 and be an integer\"\n",
    "            )\n",
    "\n",
    "        if (\n",
    "            not isinstance(month_index, int)\n",
    "            or month_index < 1\n",
    "            or month_index > 12\n",
    "        ):\n",
    "            raise ValueError(\n",
    "                \"Month must be in range from 1 to 12 and be an integer\"\n",
    "            )\n",
    "\n",
    "        if (\n",
    "            not isinstance(current_counter_value, int)\n",
    "            or current_counter_value < 0\n",
    "        ):\n",
    "            raise ValueError(\n",
    "                \"Current counter value must be greater than 0 and be an integer\"\n",
    "            )\n",
    "\n",
    "        self.__flat_number = flat_number\n",
    "        self.__month_index = month_index\n",
    "        self.__current_counter_value = current_counter_value\n",
    "\n",
    "        flat_counters = [\n",
    "            _counter\n",
    "            for _counter in WaterCounter.counters\n",
    "            if _counter.__flat_number == flat_number\n",
    "        ]\n",
    "        previous_counter = (\n",
    "            [\n",
    "                _counter\n",
    "                for _counter in flat_counters\n",
    "                if _counter.__month_index == get_previous_month(month_index)\n",
    "            ][0].current_counter_value\n",
    "            if flat_counters\n",
    "            else None\n",
    "        )\n",
    "        self.__previous_counter_value = previous_counter or None\n",
    "        WaterCounter.counters.append(self)\n",
    "\n",
    "    def __str__(self):\n",
    "        return (\n",
    "            f\"{str(self.__flat_number).ljust(ROW_WIDTH)}\"\n",
    "            + f\"{str(get_month_name(self.__month_index)).ljust(ROW_WIDTH)}\"\n",
    "            + f\"{str(self.__current_counter_value).ljust(ROW_WIDTH)}\"\n",
    "            + f'{str(self.__previous_counter_value).ljust(ROW_WIDTH) if self.__previous_counter_value is not None else \"—\"}'\n",
    "        )\n",
    "\n",
    "    @property\n",
    "    def month_index(self):\n",
    "        return self.__month_index\n",
    "\n",
    "    @month_index.setter\n",
    "    def month_index(self, value):\n",
    "        self.__month_index = value\n",
    "\n",
    "    @property\n",
    "    def current_counter_value(self):\n",
    "        return self.__current_counter_value\n",
    "\n",
    "    @staticmethod\n",
    "    def get_counters_by_month(month_index):\n",
    "        return [\n",
    "            _counter\n",
    "            for _counter in WaterCounter.counters\n",
    "            if _counter.month_index == month_index\n",
    "        ]\n",
    "\n",
    "    @staticmethod\n",
    "    def get_counters_by_quarter(quarter_index):\n",
    "        _quarters = [[1, 2, 3], [4, 5, 6], [7, 8, 9], [10, 11, 12]]\n",
    "        _quarter = _quarters[quarter_index - 1]\n",
    "\n",
    "        counters_by_quarter = [\n",
    "            _counter\n",
    "            for _counter in WaterCounter.counters\n",
    "            if _counter.__month_index in _quarter\n",
    "        ]\n",
    "        result = []\n",
    "\n",
    "        for _counter in counters_by_quarter:\n",
    "            if any(\n",
    "                flat[\"flat_number\"] == _counter.__flat_number\n",
    "                for flat in result\n",
    "            ):\n",
    "                for flat in result:\n",
    "                    if flat[\"flat_number\"] == _counter.__flat_number:\n",
    "                        flat[\"water_usage\"] += (\n",
    "                            _counter.__current_counter_value\n",
    "                            - _counter.__previous_counter_value\n",
    "                            if _counter.__previous_counter_value is not None\n",
    "                            else _counter.__current_counter_value\n",
    "                        )\n",
    "            else:\n",
    "                result.append(\n",
    "                    {\n",
    "                        \"flat_number\": _counter.__flat_number,\n",
    "                        \"quarter\": quarter_index,\n",
    "                        \"water_usage\": _counter.__current_counter_value\n",
    "                        - _counter.__previous_counter_value\n",
    "                        if _counter.__previous_counter_value is not None\n",
    "                        else _counter.__current_counter_value,\n",
    "                    }\n",
    "                )\n",
    "\n",
    "        return result\n",
    "\n"
   ],
   "metadata": {
    "collapsed": false
   }
  },
  {
   "cell_type": "code",
   "execution_count": null,
   "outputs": [],
   "source": [
    "flats = [\n",
    "    WaterCounter(1, 1, 100),\n",
    "    WaterCounter(2, 1, 100),\n",
    "    WaterCounter(3, 1, 100),\n",
    "    WaterCounter(4, 1, 100),\n",
    "    WaterCounter(5, 1, 100),\n",
    "    WaterCounter(1, 2, 150),\n",
    "    WaterCounter(2, 2, 150),\n",
    "    WaterCounter(3, 2, 150),\n",
    "    WaterCounter(4, 2, 150),\n",
    "    WaterCounter(5, 2, 150),\n",
    "    WaterCounter(1, 3, 200),\n",
    "    WaterCounter(2, 3, 200),\n",
    "    WaterCounter(3, 3, 200),\n",
    "    WaterCounter(4, 3, 200),\n",
    "    WaterCounter(5, 3, 200),\n",
    "]"
   ],
   "metadata": {
    "collapsed": false
   }
  },
  {
   "cell_type": "code",
   "execution_count": null,
   "outputs": [],
   "source": [
    "# Print all flats\n",
    "print(\n",
    "    f'{\"Flat #:\".ljust(ROW_WIDTH)}{\"Month #:\".ljust(ROW_WIDTH)}{\"Current usage (m3):\".ljust(ROW_WIDTH)}{\"Previous usage (m3):\".ljust(ROW_WIDTH)}'\n",
    ")\n",
    "print(\"-\" * (ROW_WIDTH * 4))\n",
    "for counter in WaterCounter.counters:\n",
    "    print(counter)"
   ],
   "metadata": {
    "collapsed": false
   }
  },
  {
   "cell_type": "code",
   "execution_count": null,
   "outputs": [],
   "source": [
    "# Print all flats by month\n",
    "month = input(\"Enter month number: \")\n",
    "\n",
    "print(\n",
    "    f'{\"Flat #:\".ljust(ROW_WIDTH)}{\"Month #:\".ljust(ROW_WIDTH)}{\"Current usage (m3):\".ljust(ROW_WIDTH)}{\"Previous usage (m3):\".ljust(ROW_WIDTH)}'\n",
    ")\n",
    "print(\"-\" * (ROW_WIDTH * 4))\n",
    "for counter in WaterCounter.get_counters_by_month(int(month)):\n",
    "    print(counter)\n"
   ],
   "metadata": {
    "collapsed": false
   }
  },
  {
   "cell_type": "code",
   "execution_count": null,
   "outputs": [],
   "source": [
    "# Print sum of flat water usage by specified quarter\n",
    "quarter = int(input(\"Enter quarter number: \"))\n",
    "\n",
    "print(\n",
    "    f'{\"Flat #:\".ljust(ROW_WIDTH)}{\"Quarter:\".ljust(ROW_WIDTH)}{\"Usage (m3):\".ljust(ROW_WIDTH)}'\n",
    ")\n",
    "print(\"-\" * (ROW_WIDTH * 3))\n",
    "for counter in WaterCounter.get_counters_by_quarter(quarter):\n",
    "    print(\n",
    "        f'{str(counter[\"flat_number\"]).ljust(ROW_WIDTH)}{get_quarter_name(counter[\"quarter\"]).ljust(ROW_WIDTH)}{str(counter[\"water_usage\"]).ljust(ROW_WIDTH)}'\n",
    "    )\n"
   ],
   "metadata": {
    "collapsed": false
   }
  }
 ],
 "metadata": {
  "kernelspec": {
   "display_name": "base",
   "language": "python",
   "name": "python3"
  },
  "language_info": {
   "codemirror_mode": {
    "name": "ipython",
    "version": 3
   },
   "file_extension": ".py",
   "mimetype": "text/x-python",
   "name": "python",
   "nbconvert_exporter": "python",
   "pygments_lexer": "ipython3",
   "version": "3.11.4"
  }
 },
 "nbformat": 4,
 "nbformat_minor": 2
}
