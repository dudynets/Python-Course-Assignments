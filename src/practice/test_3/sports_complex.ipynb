{
 "cells": [
  {
   "cell_type": "markdown",
   "id": "7e9dfb0340e8875a",
   "metadata": {
    "collapsed": false
   },
   "source": [
    "# Sports Complex"
   ]
  },
  {
   "cell_type": "code",
   "execution_count": 1,
   "id": "1b52d2d94de11f7",
   "metadata": {
    "collapsed": false,
    "ExecuteTime": {
     "end_time": "2023-11-21T22:00:06.341447Z",
     "start_time": "2023-11-21T22:00:05.725391Z"
    }
   },
   "outputs": [],
   "source": [
    "from datetime import datetime\n",
    "import pandas as pd\n",
    "import matplotlib.pyplot as plt"
   ]
  },
  {
   "cell_type": "code",
   "execution_count": 2,
   "id": "adbb0a33358443d0",
   "metadata": {
    "collapsed": false,
    "ExecuteTime": {
     "end_time": "2023-11-21T22:00:06.348195Z",
     "start_time": "2023-11-21T22:00:06.342245Z"
    }
   },
   "outputs": [],
   "source": [
    "class Visitor:\n",
    "    def __init__(self, id, surname, balance):\n",
    "        self.id = id\n",
    "        self.surname = surname\n",
    "        self.balance = balance\n",
    "\n",
    "    @property\n",
    "    def id(self):\n",
    "        return self.__id\n",
    "\n",
    "    @id.setter\n",
    "    def id(self, value):\n",
    "        self.__id = value\n",
    "\n",
    "    @property\n",
    "    def surname(self):\n",
    "        return self.__surname\n",
    "\n",
    "    @surname.setter\n",
    "    def surname(self, value):\n",
    "        self.__surname = value\n",
    "\n",
    "    @property\n",
    "    def balance(self):\n",
    "        return self.__balance\n",
    "\n",
    "    @balance.setter\n",
    "    def balance(self, value):\n",
    "        self.__balance = value"
   ]
  },
  {
   "cell_type": "code",
   "execution_count": 3,
   "id": "a368b922a5708c85",
   "metadata": {
    "collapsed": false,
    "ExecuteTime": {
     "end_time": "2023-11-21T22:00:06.348581Z",
     "start_time": "2023-11-21T22:00:06.345987Z"
    }
   },
   "outputs": [],
   "source": [
    "class TrainingType:\n",
    "    def __init__(self, id, title, price):\n",
    "        self.id = id\n",
    "        self.title = title\n",
    "        self.price = price\n",
    "\n",
    "    @property\n",
    "    def id(self):\n",
    "        return self.__id\n",
    "\n",
    "    @id.setter\n",
    "    def id(self, value):\n",
    "        self.__id = value\n",
    "\n",
    "    @property\n",
    "    def title(self):\n",
    "        return self.__title\n",
    "\n",
    "    @title.setter\n",
    "    def title(self, value):\n",
    "        self.__title = value\n",
    "\n",
    "    @property\n",
    "    def price(self):\n",
    "        return self.__price\n",
    "\n",
    "    @price.setter\n",
    "    def price(self, value):\n",
    "        self.__price = value"
   ]
  },
  {
   "cell_type": "code",
   "execution_count": 4,
   "id": "ffe9efd868403387",
   "metadata": {
    "collapsed": false,
    "ExecuteTime": {
     "end_time": "2023-11-21T22:00:06.354643Z",
     "start_time": "2023-11-21T22:00:06.349940Z"
    }
   },
   "outputs": [],
   "source": [
    "class TrainingDetails:\n",
    "    def __init__(self, visitor_id, training_type_id, date):\n",
    "        self.visitor_id = visitor_id\n",
    "        self.training_type_id = training_type_id\n",
    "        self.date = date\n",
    "\n",
    "    @property\n",
    "    def visitor_id(self):\n",
    "        return self.__visitor_id\n",
    "\n",
    "    @visitor_id.setter\n",
    "    def visitor_id(self, value):\n",
    "        self.__visitor_id = value\n",
    "\n",
    "    @property\n",
    "    def training_type_id(self):\n",
    "        return self.__training_type_id\n",
    "\n",
    "    @training_type_id.setter\n",
    "    def training_type_id(self, value):\n",
    "        self.__training_type_id = value\n",
    "\n",
    "    @property\n",
    "    def date(self):\n",
    "        return self.__date\n",
    "\n",
    "    @date.setter\n",
    "    def date(self, value):\n",
    "        self.__date = datetime.strptime(value, '%d/%m/%Y')\n",
    "\n",
    "    @property\n",
    "    def date_string(self):\n",
    "        return self.date.strftime('%d/%m/%Y')"
   ]
  },
  {
   "cell_type": "code",
   "execution_count": 5,
   "id": "f5d56b5a2ff9a1f1",
   "metadata": {
    "collapsed": false,
    "ExecuteTime": {
     "end_time": "2023-11-21T22:00:06.361614Z",
     "start_time": "2023-11-21T22:00:06.352750Z"
    }
   },
   "outputs": [],
   "source": [
    "visitors = pd.read_csv('files/sports_complex/visitors.csv')\n",
    "training_types = pd.read_csv('files/sports_complex/training_types.csv')\n",
    "training_details = pd.read_csv('files/sports_complex/training_details.csv')"
   ]
  },
  {
   "cell_type": "markdown",
   "id": "ad0aefb783f19d18",
   "metadata": {
    "collapsed": false
   },
   "source": [
    "## Task 1"
   ]
  },
  {
   "cell_type": "code",
   "execution_count": 6,
   "id": "95739cafa7bae0e1",
   "metadata": {
    "collapsed": false,
    "ExecuteTime": {
     "end_time": "2023-11-21T22:00:06.385242Z",
     "start_time": "2023-11-21T22:00:06.361223Z"
    }
   },
   "outputs": [
    {
     "data": {
      "text/plain": "                 training_type_title  count\ntraining_type_id                           \n1                         Training 1     11\n2                         Training 2      2\n3                         Training 3      1\n4                         Training 4      2\n5                         Training 5      1",
      "text/html": "<div>\n<style scoped>\n    .dataframe tbody tr th:only-of-type {\n        vertical-align: middle;\n    }\n\n    .dataframe tbody tr th {\n        vertical-align: top;\n    }\n\n    .dataframe thead th {\n        text-align: right;\n    }\n</style>\n<table border=\"1\" class=\"dataframe\">\n  <thead>\n    <tr style=\"text-align: right;\">\n      <th></th>\n      <th>training_type_title</th>\n      <th>count</th>\n    </tr>\n    <tr>\n      <th>training_type_id</th>\n      <th></th>\n      <th></th>\n    </tr>\n  </thead>\n  <tbody>\n    <tr>\n      <th>1</th>\n      <td>Training 1</td>\n      <td>11</td>\n    </tr>\n    <tr>\n      <th>2</th>\n      <td>Training 2</td>\n      <td>2</td>\n    </tr>\n    <tr>\n      <th>3</th>\n      <td>Training 3</td>\n      <td>1</td>\n    </tr>\n    <tr>\n      <th>4</th>\n      <td>Training 4</td>\n      <td>2</td>\n    </tr>\n    <tr>\n      <th>5</th>\n      <td>Training 5</td>\n      <td>1</td>\n    </tr>\n  </tbody>\n</table>\n</div>"
     },
     "execution_count": 6,
     "metadata": {},
     "output_type": "execute_result"
    }
   ],
   "source": [
    "count_for_each_training_type = []\n",
    "for training_type in training_types.itertuples():\n",
    "    count = 0\n",
    "    for training_detail in training_details.itertuples():\n",
    "        if training_type.id == training_detail.training_type_id:\n",
    "            count += 1\n",
    "\n",
    "    count_for_each_training_type.append({\n",
    "        'training_type_id': training_type.id,\n",
    "        'training_type_title': training_type.title,\n",
    "        'count': count\n",
    "    })\n",
    "\n",
    "df = pd.DataFrame(count_for_each_training_type).set_index('training_type_id')\n",
    "df"
   ]
  },
  {
   "cell_type": "markdown",
   "id": "ab3bfc87bef0cfcf",
   "metadata": {
    "collapsed": false
   },
   "source": [
    "## Task 2"
   ]
  },
  {
   "cell_type": "code",
   "execution_count": 7,
   "id": "ed71ddb21295436a",
   "metadata": {
    "collapsed": false,
    "ExecuteTime": {
     "end_time": "2023-11-21T22:00:06.487566Z",
     "start_time": "2023-11-21T22:00:06.369312Z"
    }
   },
   "outputs": [
    {
     "data": {
      "text/plain": "<Axes: title={'center': 'Number of trainings for each training type'}, xlabel='training_type_title'>"
     },
     "execution_count": 7,
     "metadata": {},
     "output_type": "execute_result"
    },
    {
     "data": {
      "text/plain": "<Figure size 640x480 with 1 Axes>",
      "image/png": "[encoded data removed]"
     },
     "metadata": {},
     "output_type": "display_data"
    }
   ],
   "source": [
    "df.plot(\n",
    "    kind='bar',\n",
    "    x='training_type_title',\n",
    "    y='count',\n",
    "    title='Number of trainings for each training type'\n",
    ")"
   ]
  },
  {
   "cell_type": "markdown",
   "id": "21c817080a600dbc",
   "metadata": {
    "collapsed": false
   },
   "source": [
    "## Task 3"
   ]
  },
  {
   "cell_type": "code",
   "execution_count": 8,
   "id": "8ed1f8f3e2e7d0d0",
   "metadata": {
    "collapsed": false,
    "ExecuteTime": {
     "end_time": "2023-11-21T22:00:06.487835Z",
     "start_time": "2023-11-21T22:00:06.475867Z"
    }
   },
   "outputs": [],
   "source": [
    "def get_visitor_by_id(id, visitors):\n",
    "    try:\n",
    "        return list(filter(\n",
    "            lambda visitor: visitor.id == id,\n",
    "            visitors\n",
    "        ))[0]\n",
    "    except IndexError:\n",
    "        return None\n",
    "\n",
    "\n",
    "def get_training_type_by_id(id, training_types):\n",
    "    try:\n",
    "        return list(filter(\n",
    "            lambda training_type: training_type.id == id,\n",
    "            training_types\n",
    "        ))[0]\n",
    "    except IndexError:\n",
    "        return None"
   ]
  },
  {
   "cell_type": "code",
   "execution_count": 9,
   "id": "9f02c1c09c249497",
   "metadata": {
    "collapsed": false,
    "ExecuteTime": {
     "end_time": "2023-11-21T22:00:06.496867Z",
     "start_time": "2023-11-21T22:00:06.489421Z"
    }
   },
   "outputs": [
    {
     "data": {
      "text/plain": "           visitor_surname training_type_title  training_type_price  \\\nvisitor_id                                                            \n1                    Smith          Training 1                  100   \n1                    Smith          Training 1                  100   \n1                    Smith          Training 1                  100   \n2                  Johnson          Training 1                  100   \n2                  Johnson          Training 1                  100   \n2                  Johnson          Training 2                  200   \n3                 Williams          Training 1                  100   \n3                 Williams          Training 1                  100   \n4                    Jones          Training 1                  100   \n5                    Brown          Training 1                  100   \n5                    Brown          Training 1                  100   \n\n           training_date  has_discount  discount  total  balance  \nvisitor_id                                                        \n1             01/01/2023          True      40.0   60.0     40.0  \n1             01/01/2023          True      40.0   60.0    -20.0  \n1             01/01/2023          True      40.0   60.0    -80.0  \n2             01/01/2023          True      40.0   60.0    140.0  \n2             01/01/2023          True      40.0   60.0     80.0  \n2             01/01/2023          True      80.0  120.0    -40.0  \n3             01/01/2023          True      40.0   60.0    240.0  \n3             01/01/2023          True      40.0   60.0    180.0  \n4             01/01/2023         False       0.0  100.0    300.0  \n5             01/01/2023          True      40.0   60.0    440.0  \n5             01/01/2023          True      40.0   60.0    380.0  ",
      "text/html": "<div>\n<style scoped>\n    .dataframe tbody tr th:only-of-type {\n        vertical-align: middle;\n    }\n\n    .dataframe tbody tr th {\n        vertical-align: top;\n    }\n\n    .dataframe thead th {\n        text-align: right;\n    }\n</style>\n<table border=\"1\" class=\"dataframe\">\n  <thead>\n    <tr style=\"text-align: right;\">\n      <th></th>\n      <th>visitor_surname</th>\n      <th>training_type_title</th>\n      <th>training_type_price</th>\n      <th>training_date</th>\n      <th>has_discount</th>\n      <th>discount</th>\n      <th>total</th>\n      <th>balance</th>\n    </tr>\n    <tr>\n      <th>visitor_id</th>\n      <th></th>\n      <th></th>\n      <th></th>\n      <th></th>\n      <th></th>\n      <th></th>\n      <th></th>\n      <th></th>\n    </tr>\n  </thead>\n  <tbody>\n    <tr>\n      <th>1</th>\n      <td>Smith</td>\n      <td>Training 1</td>\n      <td>100</td>\n      <td>01/01/2023</td>\n      <td>True</td>\n      <td>40.0</td>\n      <td>60.0</td>\n      <td>40.0</td>\n    </tr>\n    <tr>\n      <th>1</th>\n      <td>Smith</td>\n      <td>Training 1</td>\n      <td>100</td>\n      <td>01/01/2023</td>\n      <td>True</td>\n      <td>40.0</td>\n      <td>60.0</td>\n      <td>-20.0</td>\n    </tr>\n    <tr>\n      <th>1</th>\n      <td>Smith</td>\n      <td>Training 1</td>\n      <td>100</td>\n      <td>01/01/2023</td>\n      <td>True</td>\n      <td>40.0</td>\n      <td>60.0</td>\n      <td>-80.0</td>\n    </tr>\n    <tr>\n      <th>2</th>\n      <td>Johnson</td>\n      <td>Training 1</td>\n      <td>100</td>\n      <td>01/01/2023</td>\n      <td>True</td>\n      <td>40.0</td>\n      <td>60.0</td>\n      <td>140.0</td>\n    </tr>\n    <tr>\n      <th>2</th>\n      <td>Johnson</td>\n      <td>Training 1</td>\n      <td>100</td>\n      <td>01/01/2023</td>\n      <td>True</td>\n      <td>40.0</td>\n      <td>60.0</td>\n      <td>80.0</td>\n    </tr>\n    <tr>\n      <th>2</th>\n      <td>Johnson</td>\n      <td>Training 2</td>\n      <td>200</td>\n      <td>01/01/2023</td>\n      <td>True</td>\n      <td>80.0</td>\n      <td>120.0</td>\n      <td>-40.0</td>\n    </tr>\n    <tr>\n      <th>3</th>\n      <td>Williams</td>\n      <td>Training 1</td>\n      <td>100</td>\n      <td>01/01/2023</td>\n      <td>True</td>\n      <td>40.0</td>\n      <td>60.0</td>\n      <td>240.0</td>\n    </tr>\n    <tr>\n      <th>3</th>\n      <td>Williams</td>\n      <td>Training 1</td>\n      <td>100</td>\n      <td>01/01/2023</td>\n      <td>True</td>\n      <td>40.0</td>\n      <td>60.0</td>\n      <td>180.0</td>\n    </tr>\n    <tr>\n      <th>4</th>\n      <td>Jones</td>\n      <td>Training 1</td>\n      <td>100</td>\n      <td>01/01/2023</td>\n      <td>False</td>\n      <td>0.0</td>\n      <td>100.0</td>\n      <td>300.0</td>\n    </tr>\n    <tr>\n      <th>5</th>\n      <td>Brown</td>\n      <td>Training 1</td>\n      <td>100</td>\n      <td>01/01/2023</td>\n      <td>True</td>\n      <td>40.0</td>\n      <td>60.0</td>\n      <td>440.0</td>\n    </tr>\n    <tr>\n      <th>5</th>\n      <td>Brown</td>\n      <td>Training 1</td>\n      <td>100</td>\n      <td>01/01/2023</td>\n      <td>True</td>\n      <td>40.0</td>\n      <td>60.0</td>\n      <td>380.0</td>\n    </tr>\n  </tbody>\n</table>\n</div>"
     },
     "execution_count": 9,
     "metadata": {},
     "output_type": "execute_result"
    }
   ],
   "source": [
    "def get_invoices(surname=None, start_date=None, end_date=None):\n",
    "    training_instances = []\n",
    "    visitor_instances = []\n",
    "    training_type_instances = []\n",
    "\n",
    "    for training in training_details.itertuples():\n",
    "        training_instances.append(\n",
    "            TrainingDetails(\n",
    "                training.visitor_id,\n",
    "                training.training_type_id,\n",
    "                training.date\n",
    "            )\n",
    "        )\n",
    "\n",
    "    for visitor in visitors.itertuples():\n",
    "        visitor_instances.append(\n",
    "            Visitor(\n",
    "                visitor.id,\n",
    "                visitor.surname,\n",
    "                visitor.balance\n",
    "            )\n",
    "        )\n",
    "\n",
    "    for training_type in training_types.itertuples():\n",
    "        training_type_instances.append(\n",
    "            TrainingType(\n",
    "                training_type.id,\n",
    "                training_type.title,\n",
    "                training_type.price\n",
    "            )\n",
    "        )\n",
    "\n",
    "    if start_date is not None and end_date is not None:\n",
    "        start_date = datetime.strptime(start_date, '%d/%m/%Y')\n",
    "        end_date = datetime.strptime(end_date, '%d/%m/%Y')\n",
    "\n",
    "        trainings_in_range = list(filter(\n",
    "            lambda training: start_date <= training.date <= end_date,\n",
    "            training_instances\n",
    "        ))\n",
    "    else:\n",
    "        trainings_in_range = training_instances\n",
    "\n",
    "    if surname is not None:\n",
    "        trainings_in_range = list(filter(\n",
    "            lambda training: get_visitor_by_id(training.visitor_id, visitor_instances).surname == surname,\n",
    "            training_instances\n",
    "        ))\n",
    "\n",
    "    invoices = []\n",
    "\n",
    "    for training in trainings_in_range:\n",
    "        visitor = get_visitor_by_id(training.visitor_id, visitor_instances)\n",
    "        training_type = get_training_type_by_id(training.training_type_id, training_type_instances)\n",
    "\n",
    "        if visitor is not None:\n",
    "            has_discount = False\n",
    "            if len(list(filter(\n",
    "                    lambda _training: _training.date == training.date and _training.visitor_id == training.visitor_id,\n",
    "                    trainings_in_range\n",
    "            ))) > 1:\n",
    "                has_discount = True\n",
    "\n",
    "            visitor.balance -= training_type.price * (0.6 if has_discount else 1)\n",
    "\n",
    "            invoices.append({\n",
    "                'visitor_id': visitor.id,\n",
    "                'visitor_surname': visitor.surname,\n",
    "                'training_type_title': training_type.title,\n",
    "                'training_type_price': training_type.price,\n",
    "                'training_date': training.date_string,\n",
    "                'has_discount': has_discount,\n",
    "                'discount': training_type.price * (0.4 if has_discount else 0),\n",
    "                'total': training_type.price * (0.6 if has_discount else 1),\n",
    "                'balance': visitor.balance\n",
    "            })\n",
    "\n",
    "    return pd.DataFrame(invoices).sort_values(by=['visitor_id']).set_index('visitor_id')\n",
    "\n",
    "\n",
    "invoices_by_date_range = get_invoices(start_date='01/01/2023', end_date='31/12/2023')\n",
    "invoices_by_date_range"
   ]
  },
  {
   "cell_type": "markdown",
   "id": "aa0cc41b864867d6",
   "metadata": {
    "collapsed": false
   },
   "source": [
    "## Task 4"
   ]
  },
  {
   "cell_type": "code",
   "execution_count": 10,
   "id": "b1a01e86bbf5b4df",
   "metadata": {
    "collapsed": false,
    "ExecuteTime": {
     "end_time": "2023-11-21T22:00:06.608065Z",
     "start_time": "2023-11-21T22:00:06.504318Z"
    }
   },
   "outputs": [
    {
     "data": {
      "text/plain": "<Axes: title={'center': 'Total amount of money for each visitor'}>"
     },
     "execution_count": 10,
     "metadata": {},
     "output_type": "execute_result"
    },
    {
     "data": {
      "text/plain": "<Figure size 640x480 with 1 Axes>",
      "image/png": "[encoded data removed]"
     },
     "metadata": {},
     "output_type": "display_data"
    }
   ],
   "source": [
    "invoices_by_date_range.groupby(['visitor_id', 'visitor_surname']).sum().plot(\n",
    "    kind='pie',\n",
    "    y='total',\n",
    "    title='Total amount of money for each visitor',\n",
    "    legend=False,\n",
    "    ylabel=''\n",
    ")"
   ]
  },
  {
   "cell_type": "markdown",
   "id": "e55d7fce19937792",
   "metadata": {
    "collapsed": false
   },
   "source": [
    "## Task 5"
   ]
  },
  {
   "cell_type": "code",
   "execution_count": 11,
   "id": "67496c38cd7d66fa",
   "metadata": {
    "collapsed": false,
    "ExecuteTime": {
     "end_time": "2023-11-21T22:00:06.608894Z",
     "start_time": "2023-11-21T22:00:06.550185Z"
    }
   },
   "outputs": [
    {
     "data": {
      "text/plain": "           training_type_title  total\nvisitor_id                           \n2                   Training 1  100.0\n2                   Training 4  400.0\n2                   Training 1   60.0\n2                   Training 1   60.0\n2                   Training 2  120.0",
      "text/html": "<div>\n<style scoped>\n    .dataframe tbody tr th:only-of-type {\n        vertical-align: middle;\n    }\n\n    .dataframe tbody tr th {\n        vertical-align: top;\n    }\n\n    .dataframe thead th {\n        text-align: right;\n    }\n</style>\n<table border=\"1\" class=\"dataframe\">\n  <thead>\n    <tr style=\"text-align: right;\">\n      <th></th>\n      <th>training_type_title</th>\n      <th>total</th>\n    </tr>\n    <tr>\n      <th>visitor_id</th>\n      <th></th>\n      <th></th>\n    </tr>\n  </thead>\n  <tbody>\n    <tr>\n      <th>2</th>\n      <td>Training 1</td>\n      <td>100.0</td>\n    </tr>\n    <tr>\n      <th>2</th>\n      <td>Training 4</td>\n      <td>400.0</td>\n    </tr>\n    <tr>\n      <th>2</th>\n      <td>Training 1</td>\n      <td>60.0</td>\n    </tr>\n    <tr>\n      <th>2</th>\n      <td>Training 1</td>\n      <td>60.0</td>\n    </tr>\n    <tr>\n      <th>2</th>\n      <td>Training 2</td>\n      <td>120.0</td>\n    </tr>\n  </tbody>\n</table>\n</div>"
     },
     "execution_count": 11,
     "metadata": {},
     "output_type": "execute_result"
    }
   ],
   "source": [
    "invoices_by_surname = get_invoices(surname='Johnson')[['training_type_title', 'total']]\n",
    "invoices_by_surname"
   ]
  },
  {
   "cell_type": "markdown",
   "id": "d153f56fd9476ff2",
   "metadata": {
    "collapsed": false
   },
   "source": [
    "## Task 6"
   ]
  },
  {
   "cell_type": "code",
   "execution_count": 12,
   "id": "b35164038a54cbb",
   "metadata": {
    "collapsed": false,
    "ExecuteTime": {
     "end_time": "2023-11-21T22:00:06.698967Z",
     "start_time": "2023-11-21T22:00:06.568905Z"
    }
   },
   "outputs": [
    {
     "data": {
      "text/plain": "<Axes: title={'center': 'Total amount of money for each training type for visitor with surname Johnson'}>"
     },
     "execution_count": 12,
     "metadata": {},
     "output_type": "execute_result"
    },
    {
     "data": {
      "text/plain": "<Figure size 640x480 with 1 Axes>",
      "image/png": "[encoded data removed]"
     },
     "metadata": {},
     "output_type": "display_data"
    }
   ],
   "source": [
    "invoices_by_surname.groupby(['training_type_title']).sum().plot(\n",
    "    kind='bar',\n",
    "    y='total',\n",
    "    title='Total amount of money for each training type for visitor with surname Johnson',\n",
    "    legend=False,\n",
    "    xlabel='',\n",
    "    ylabel=''\n",
    ")"
   ]
  }
 ],
 "metadata": {
  "kernelspec": {
   "display_name": "Python 3 (ipykernel)",
   "language": "python",
   "name": "python3"
  },
  "language_info": {
   "codemirror_mode": {
    "name": "ipython",
    "version": 3
   },
   "file_extension": ".py",
   "mimetype": "text/x-python",
   "name": "python",
   "nbconvert_exporter": "python",
   "pygments_lexer": "ipython3",
   "version": "3.12.0"
  }
 },
 "nbformat": 4,
 "nbformat_minor": 5
}
