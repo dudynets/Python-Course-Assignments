{
 "cells": [
  {
   "cell_type": "code",
   "execution_count": 188,
   "id": "initial_id",
   "metadata": {
    "collapsed": true,
    "ExecuteTime": {
     "end_time": "2023-10-17T19:28:41.862946Z",
     "start_time": "2023-10-17T19:28:41.856094Z"
    }
   },
   "outputs": [],
   "source": [
    "import csv\n",
    "\n",
    "\n",
    "class Book:\n",
    "    def __init__(self, id, author_surname, title, price):\n",
    "        self.id = id\n",
    "        self.author_surname = author_surname\n",
    "        self.title = title\n",
    "        self.price = price\n",
    "\n",
    "    def __str__(self):\n",
    "        return f\"Book id: {self.id}, author surname: {self.author_surname}, title: {self.title}, price: {self.price}\"\n",
    "\n",
    "    @property\n",
    "    def id(self):\n",
    "        return self.__id\n",
    "\n",
    "    @id.setter\n",
    "    def id(self, id):\n",
    "        if id < 0:\n",
    "            raise ValueError(\"Id must be positive\")\n",
    "        self.__id = id\n",
    "\n",
    "    @property\n",
    "    def author_surname(self):\n",
    "        return self.__author_surname\n",
    "\n",
    "    @author_surname.setter\n",
    "    def author_surname(self, author_surname):\n",
    "        if len(author_surname) < 3:\n",
    "            raise ValueError(\"Author surname must be at least 3 characters long\")\n",
    "        self.__author_surname = author_surname\n",
    "\n",
    "    @property\n",
    "    def title(self):\n",
    "        return self.__title\n",
    "\n",
    "    @title.setter\n",
    "    def title(self, title):\n",
    "        if len(title) < 3:\n",
    "            raise ValueError(\"Title must be at least 3 characters long\")\n",
    "        self.__title = title\n",
    "\n",
    "    @property\n",
    "    def price(self):\n",
    "        return self.__price\n",
    "\n",
    "    @price.setter\n",
    "    def price(self, price):\n",
    "        if price < 0:\n",
    "            raise ValueError(\"Price must be positive\")\n",
    "        self.__price = price"
   ]
  },
  {
   "cell_type": "code",
   "execution_count": 189,
   "outputs": [],
   "source": [
    "class Buyer:\n",
    "    def __init__(self, id, surname, country):\n",
    "        self.id = id\n",
    "        self.surname = surname\n",
    "        self.country = country\n",
    "\n",
    "    def __str__(self):\n",
    "        return f\"Buyer id: {self.id}, surname: {self.surname}, country: {self.country}\"\n",
    "\n",
    "    @property\n",
    "    def id(self):\n",
    "        return self.__id\n",
    "\n",
    "    @id.setter\n",
    "    def id(self, id):\n",
    "        if id < 0:\n",
    "            raise ValueError(\"Id must be positive\")\n",
    "        self.__id = id\n",
    "\n",
    "    @property\n",
    "    def surname(self):\n",
    "        return self.__surname\n",
    "\n",
    "    @surname.setter\n",
    "    def surname(self, surname):\n",
    "        if len(surname) < 3:\n",
    "            raise ValueError(\"Surname must be at least 3 characters long\")\n",
    "        self.__surname = surname\n",
    "\n",
    "    @property\n",
    "    def country(self):\n",
    "        return self.__country\n",
    "\n",
    "    @country.setter\n",
    "    def country(self, country):\n",
    "        if len(country) < 3:\n",
    "            raise ValueError(\"Country must be at least 3 characters long\")\n",
    "        self.__country = country\n"
   ],
   "metadata": {
    "collapsed": false,
    "ExecuteTime": {
     "end_time": "2023-10-17T19:28:41.873824Z",
     "start_time": "2023-10-17T19:28:41.862806Z"
    }
   },
   "id": "5ba1989cbfc0f9ad"
  },
  {
   "cell_type": "code",
   "execution_count": 190,
   "outputs": [],
   "source": [
    "class Order:\n",
    "    def __init__(self, book_id, buyer_id, quantity):\n",
    "        self.book_id = book_id\n",
    "        self.buyer_id = buyer_id\n",
    "        self.quantity = quantity\n",
    "\n",
    "    def __str__(self):\n",
    "        return f\"Order book id: {self.book_id}, buyer id: {self.buyer_id}, quantity: {self.quantity}\"\n",
    "\n",
    "    @property\n",
    "    def book_id(self):\n",
    "        return self.__book_id\n",
    "\n",
    "    @book_id.setter\n",
    "    def book_id(self, book_id):\n",
    "        if book_id < 0:\n",
    "            raise ValueError(\"Book id must be positive\")\n",
    "        self.__book_id = book_id\n",
    "\n",
    "    @property\n",
    "    def buyer_id(self):\n",
    "        return self.__buyer_id\n",
    "\n",
    "    @buyer_id.setter\n",
    "    def buyer_id(self, buyer_id):\n",
    "        if buyer_id < 0:\n",
    "            raise ValueError(\"Buyer id must be positive\")\n",
    "        self.__buyer_id = buyer_id\n",
    "\n",
    "    @property\n",
    "    def quantity(self):\n",
    "        return self.__quantity\n",
    "\n",
    "    @quantity.setter\n",
    "    def quantity(self, quantity):\n",
    "        if quantity < 0:\n",
    "            raise ValueError(\"Quantity must be positive\")\n",
    "        self.__quantity = quantity"
   ],
   "metadata": {
    "collapsed": false,
    "ExecuteTime": {
     "end_time": "2023-10-17T19:28:41.874110Z",
     "start_time": "2023-10-17T19:28:41.868885Z"
    }
   },
   "id": "e26fad5a8f7050a8"
  },
  {
   "cell_type": "code",
   "execution_count": 191,
   "outputs": [],
   "source": [
    "def read_books(csv_file_path):\n",
    "    books = []\n",
    "    with open(csv_file_path, \"r\") as csv_file:\n",
    "        csv_reader = csv.DictReader(csv_file)\n",
    "        for row in csv_reader:\n",
    "            book = Book(int(row[\"id\"]), row[\"author_surname\"].strip(), row[\"title\"].strip(), float(row[\"price\"]))\n",
    "            books.append(book)\n",
    "    return books"
   ],
   "metadata": {
    "collapsed": false,
    "ExecuteTime": {
     "end_time": "2023-10-17T19:28:41.882111Z",
     "start_time": "2023-10-17T19:28:41.872919Z"
    }
   },
   "id": "a596f9a9692e2ac3"
  },
  {
   "cell_type": "code",
   "execution_count": 192,
   "outputs": [],
   "source": [
    "def read_buyers(csv_file_path):\n",
    "    buyers = []\n",
    "    with open(csv_file_path, \"r\") as csv_file:\n",
    "        csv_reader = csv.DictReader(csv_file)\n",
    "        for row in csv_reader:\n",
    "            buyer = Buyer(int(row[\"id\"]), row[\"surname\"].strip(), row[\"country\"].strip())\n",
    "            buyers.append(buyer)\n",
    "    return buyers"
   ],
   "metadata": {
    "collapsed": false,
    "ExecuteTime": {
     "end_time": "2023-10-17T19:28:41.882346Z",
     "start_time": "2023-10-17T19:28:41.878449Z"
    }
   },
   "id": "31293bae5d68157d"
  },
  {
   "cell_type": "code",
   "execution_count": 193,
   "outputs": [],
   "source": [
    "def read_orders(csv_file_path):\n",
    "    orders = []\n",
    "    with open(csv_file_path, \"r\") as csv_file:\n",
    "        csv_reader = csv.DictReader(csv_file)\n",
    "        for row in csv_reader:\n",
    "            order = Order(int(row[\"book_id\"]), int(row[\"buyer_id\"]), int(row[\"quantity\"]))\n",
    "            orders.append(order)\n",
    "    return orders"
   ],
   "metadata": {
    "collapsed": false,
    "ExecuteTime": {
     "end_time": "2023-10-17T19:28:41.888841Z",
     "start_time": "2023-10-17T19:28:41.883634Z"
    }
   },
   "id": "4d9cc923e813e3bc"
  },
  {
   "cell_type": "code",
   "execution_count": 194,
   "outputs": [],
   "source": [
    "books = read_books(\"files/book_store/books.csv\")\n",
    "buyers = read_buyers(\"files/book_store/buyers.csv\")\n",
    "orders = read_orders(\"files/book_store/orders.csv\")"
   ],
   "metadata": {
    "collapsed": false,
    "ExecuteTime": {
     "end_time": "2023-10-17T19:28:41.889482Z",
     "start_time": "2023-10-17T19:28:41.886774Z"
    }
   },
   "id": "90c9a18ee55def3"
  },
  {
   "cell_type": "code",
   "execution_count": 195,
   "outputs": [],
   "source": [
    "def get_book_by_id(books, book_id):\n",
    "    for book in books:\n",
    "        if book.id == book_id:\n",
    "            return book\n",
    "    return None\n",
    "\n",
    "\n",
    "def get_buyer_orders(orders, buyer_id):\n",
    "    return list(filter(lambda order: order.buyer_id == buyer_id, orders))\n",
    "\n",
    "\n",
    "def get_buyers_by_country(buyers, country):\n",
    "    return list(filter(lambda buyer: buyer.country == country, buyers))\n",
    "\n",
    "\n",
    "def get_books_by_author_surname(books, author_surname):\n",
    "    return list(filter(lambda book: book.author_surname == author_surname, books))\n",
    "\n",
    "\n",
    "def get_orders_by_book_id(orders, book_id):\n",
    "    return list(filter(lambda order: order.book_id == book_id, orders))"
   ],
   "metadata": {
    "collapsed": false,
    "ExecuteTime": {
     "end_time": "2023-10-17T19:28:41.893402Z",
     "start_time": "2023-10-17T19:28:41.891803Z"
    }
   },
   "id": "8e65112543e5ae3d"
  },
  {
   "cell_type": "code",
   "execution_count": 196,
   "outputs": [
    {
     "name": "stdout",
     "output_type": "stream",
     "text": [
      "Buyer: Kowalski\n",
      "Orders:\n",
      "  Harry Potter by Rowling\n",
      "  Quantity: 1\n",
      "  Total price: 100.0 UAH (100.0 UAH per book)\n",
      "\n",
      "  Lord of the Rings by Tolkien\n",
      "  Quantity: 5\n",
      "  Total price: 1000.0 UAH (200.0 UAH per book)\n",
      "\n",
      "\n",
      "Buyer: Nowak\n",
      "Orders:\n",
      "  Lord of the Rings by Tolkien\n",
      "  Quantity: 2\n",
      "  Total price: 400.0 UAH (200.0 UAH per book)\n",
      "\n",
      "\n",
      "Buyer: Smith\n",
      "Orders:\n",
      "  Witcher by Sapkowski\n",
      "  Quantity: 3\n",
      "  Total price: 900.0 UAH (300.0 UAH per book)\n",
      "\n",
      "\n",
      "Buyer: Johnson\n",
      "Orders:\n",
      "  Krzyzacy by Sienkiewicz\n",
      "  Quantity: 4\n",
      "  Total price: 1600.0 UAH (400.0 UAH per book)\n",
      "\n",
      "\n",
      "Buyer: Williams\n",
      "Orders:\n",
      "  Discworld by Pratchett\n",
      "  Quantity: 5\n",
      "  Total price: 2500.0 UAH (500.0 UAH per book)\n",
      "\n",
      "\n",
      "Buyer: Brown\n",
      "Orders:\n",
      "  Harry Potter 2 by Rowling\n",
      "  Quantity: 6\n",
      "  Total price: 3600.0 UAH (600.0 UAH per book)\n",
      "\n",
      "\n",
      "Buyer: Jones\n",
      "Orders:\n",
      "  Lord of the Rings 2 by Tolkien\n",
      "  Quantity: 7\n",
      "  Total price: 4900.0 UAH (700.0 UAH per book)\n",
      "\n",
      "\n",
      "Buyer: Miller\n",
      "Orders:\n",
      "  Witcher 2 by Sapkowski\n",
      "  Quantity: 8\n",
      "  Total price: 6400.0 UAH (800.0 UAH per book)\n",
      "\n",
      "\n",
      "Buyer: Davis\n",
      "Orders:\n",
      "  Krzyzacy 2 by Sienkiewicz\n",
      "  Quantity: 9\n",
      "  Total price: 8100.0 UAH (900.0 UAH per book)\n",
      "\n",
      "\n",
      "Buyer: Garcia\n",
      "Orders:\n",
      "  Discworld 2 by Pratchett\n",
      "  Quantity: 10\n",
      "  Total price: 10000.0 UAH (1000.0 UAH per book)\n",
      "\n"
     ]
    }
   ],
   "source": [
    "# Print each buyer stats\n",
    "for buyer in buyers:\n",
    "    print(f\"Buyer: {buyer.surname}\")\n",
    "    print(f\"Orders:\")\n",
    "    buyer_orders = get_buyer_orders(orders, buyer.id)\n",
    "    for order in buyer_orders:\n",
    "        book = get_book_by_id(books, order.book_id)\n",
    "        print(\n",
    "            f\"  {book.title} by {book.author_surname}\\n\",\n",
    "            f\" Quantity: {order.quantity}\\n\",\n",
    "            f\" Total price: {order.quantity * book.price} UAH ({book.price} UAH per book)\\n\",\n",
    "        )\n",
    "    print()"
   ],
   "metadata": {
    "collapsed": false,
    "ExecuteTime": {
     "end_time": "2023-10-17T19:28:41.901488Z",
     "start_time": "2023-10-17T19:28:41.895133Z"
    }
   },
   "id": "23e8b2e3718689d4"
  },
  {
   "cell_type": "code",
   "execution_count": 197,
   "outputs": [
    {
     "name": "stdout",
     "output_type": "stream",
     "text": [
      "Country: Poland, Total price: 1500.0 UAH\n",
      "Country: USA, Total price: 28000.0 UAH\n",
      "Country: Spain, Total price: 10000.0 UAH\n"
     ]
    }
   ],
   "source": [
    "# Stats by country\n",
    "countries = []\n",
    "for buyer in buyers:\n",
    "    if buyer.country not in countries:\n",
    "        countries.append(buyer.country)\n",
    "\n",
    "for country in countries:\n",
    "    total_price = 0\n",
    "    country_buyers = get_buyers_by_country(buyers, country)\n",
    "\n",
    "    for country_buyer in country_buyers:\n",
    "        country_buyer_orders = get_buyer_orders(orders, country_buyer.id)\n",
    "\n",
    "        for order in country_buyer_orders:\n",
    "            book = get_book_by_id(books, order.book_id)\n",
    "            total_price += order.quantity * book.price\n",
    "\n",
    "    print(f\"Country: {country}, Total price: {total_price} UAH\")\n"
   ],
   "metadata": {
    "collapsed": false,
    "ExecuteTime": {
     "end_time": "2023-10-17T19:28:41.901970Z",
     "start_time": "2023-10-17T19:28:41.898225Z"
    }
   },
   "id": "40e123d773a3dcd5"
  },
  {
   "cell_type": "code",
   "execution_count": 198,
   "outputs": [
    {
     "name": "stdout",
     "output_type": "stream",
     "text": [
      "Author: Rowling, Total price: 7000.0 UAH\n",
      "Author: Tolkien, Total price: 11000.0 UAH\n",
      "Author: Sapkowski, Total price: 11000.0 UAH\n",
      "Author: Sienkiewicz, Total price: 13000.0 UAH\n",
      "Author: Pratchett, Total price: 15000.0 UAH\n"
     ]
    }
   ],
   "source": [
    "# Stats by author\n",
    "authors = []\n",
    "for book in books:\n",
    "    if book.author_surname not in authors:\n",
    "        authors.append(book.author_surname)\n",
    "\n",
    "for author_surname in authors:\n",
    "    total_price = 0\n",
    "\n",
    "    author_books = get_books_by_author_surname(books, author_surname)\n",
    "    for book in author_books:\n",
    "\n",
    "        book_orders = get_orders_by_book_id(orders, book.id)\n",
    "\n",
    "        for book_order in book_orders:\n",
    "            total_price += book.price * order.quantity\n",
    "\n",
    "    print(f\"Author: {author_surname}, Total price: {total_price} UAH\")"
   ],
   "metadata": {
    "collapsed": false,
    "ExecuteTime": {
     "end_time": "2023-10-17T19:28:41.903447Z",
     "start_time": "2023-10-17T19:28:41.901420Z"
    }
   },
   "id": "2858c9fb2d09741b"
  }
 ],
 "metadata": {
  "kernelspec": {
   "display_name": "Python 3",
   "language": "python",
   "name": "python3"
  },
  "language_info": {
   "codemirror_mode": {
    "name": "ipython",
    "version": 2
   },
   "file_extension": ".py",
   "mimetype": "text/x-python",
   "name": "python",
   "nbconvert_exporter": "python",
   "pygments_lexer": "ipython2",
   "version": "2.7.6"
  }
 },
 "nbformat": 4,
 "nbformat_minor": 5
}
