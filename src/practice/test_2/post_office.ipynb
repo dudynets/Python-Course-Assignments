{
 "cells": [
  {
   "cell_type": "code",
   "execution_count": 339,
   "outputs": [],
   "source": [
    "import csv"
   ],
   "metadata": {
    "collapsed": false,
    "ExecuteTime": {
     "end_time": "2023-10-17T20:50:06.462168Z",
     "start_time": "2023-10-17T20:50:06.450805Z"
    }
   },
   "id": "64f2e3b6cb2d4db1"
  },
  {
   "cell_type": "code",
   "execution_count": 340,
   "id": "initial_id",
   "metadata": {
    "collapsed": true,
    "ExecuteTime": {
     "end_time": "2023-10-17T20:50:06.462978Z",
     "start_time": "2023-10-17T20:50:06.456417Z"
    }
   },
   "outputs": [],
   "source": [
    "class Parcel:\n",
    "    def __init__(self, id, post_office_id, weight, country_id):\n",
    "        self.id = id\n",
    "        self.post_office_id = post_office_id\n",
    "        self.weight = weight\n",
    "        self.country_id = country_id\n",
    "\n",
    "    @property\n",
    "    def id(self):\n",
    "        return self._id\n",
    "\n",
    "    @id.setter\n",
    "    def id(self, id):\n",
    "        self._id = id\n",
    "\n",
    "    @property\n",
    "    def post_office_id(self):\n",
    "        return self._post_office_id\n",
    "\n",
    "    @post_office_id.setter\n",
    "    def post_office_id(self, post_office_id):\n",
    "        self._post_office_id = post_office_id\n",
    "\n",
    "    @property\n",
    "    def weight(self):\n",
    "        return self._weight\n",
    "\n",
    "    @weight.setter\n",
    "    def weight(self, weight):\n",
    "        self._weight = weight\n",
    "\n",
    "    @property\n",
    "    def country_id(self):\n",
    "        return self._country_id\n",
    "\n",
    "    @country_id.setter\n",
    "    def country_id(self, country_id):\n",
    "        self._country_id = country_id"
   ]
  },
  {
   "cell_type": "code",
   "execution_count": 341,
   "outputs": [],
   "source": [
    "class Country:\n",
    "    def __init__(self, id, name, price_per_kg):\n",
    "        self.id = id\n",
    "        self.name = name\n",
    "        self.price_per_kg = price_per_kg\n",
    "\n",
    "    @property\n",
    "    def id(self):\n",
    "        return self._id\n",
    "\n",
    "    @id.setter\n",
    "    def id(self, id):\n",
    "        self._id = id\n",
    "\n",
    "    @property\n",
    "    def name(self):\n",
    "        return self._name\n",
    "\n",
    "    @name.setter\n",
    "    def name(self, name):\n",
    "        self._name = name\n",
    "\n",
    "    @property\n",
    "    def price_per_kg(self):\n",
    "        return self._price_per_kg\n",
    "\n",
    "    @price_per_kg.setter\n",
    "    def price_per_kg(self, price_per_kg):\n",
    "        self._price_per_kg = price_per_kg\n"
   ],
   "metadata": {
    "collapsed": false,
    "ExecuteTime": {
     "end_time": "2023-10-17T20:50:06.464128Z",
     "start_time": "2023-10-17T20:50:06.461075Z"
    }
   },
   "id": "9f0fe09b3c79c9eb"
  },
  {
   "cell_type": "code",
   "execution_count": 342,
   "outputs": [],
   "source": [
    "def read_parcels(csv_file_name):\n",
    "    parcels = []\n",
    "\n",
    "    with open(csv_file_name, 'r') as file:\n",
    "        reader = csv.DictReader(file)\n",
    "        for row in reader:\n",
    "            parcels.append(\n",
    "                Parcel(int(row['id']), int(row['post_office_id']), float(row['weight']), int(row['country_id']))\n",
    "            )\n",
    "\n",
    "    return parcels"
   ],
   "metadata": {
    "collapsed": false,
    "ExecuteTime": {
     "end_time": "2023-10-17T20:50:06.478300Z",
     "start_time": "2023-10-17T20:50:06.464572Z"
    }
   },
   "id": "d0241a08a6c87977"
  },
  {
   "cell_type": "code",
   "execution_count": 343,
   "outputs": [],
   "source": [
    "def read_countries(csv_file_name):\n",
    "    countries = []\n",
    "\n",
    "    with open(csv_file_name, 'r') as file:\n",
    "        reader = csv.DictReader(file)\n",
    "        for row in reader:\n",
    "            countries.append(\n",
    "                Country(int(row['id']), row['name'], float(row['price_per_kg']))\n",
    "            )\n",
    "\n",
    "    return countries"
   ],
   "metadata": {
    "collapsed": false,
    "ExecuteTime": {
     "end_time": "2023-10-17T20:50:06.478462Z",
     "start_time": "2023-10-17T20:50:06.468948Z"
    }
   },
   "id": "f1a8d0969b59530e"
  },
  {
   "cell_type": "code",
   "execution_count": 344,
   "outputs": [],
   "source": [
    "parcels = read_parcels('files/post_office/parcels.csv')\n",
    "countries = read_countries('files/post_office/countries.csv')"
   ],
   "metadata": {
    "collapsed": false,
    "ExecuteTime": {
     "end_time": "2023-10-17T20:50:06.478510Z",
     "start_time": "2023-10-17T20:50:06.471429Z"
    }
   },
   "id": "292db0c4674943c"
  },
  {
   "cell_type": "code",
   "execution_count": 345,
   "outputs": [],
   "source": [
    "def get_all_post_offices(parcels):\n",
    "    post_offices = []\n",
    "\n",
    "    for parcel in parcels:\n",
    "        if not parcel.post_office_id in post_offices:\n",
    "            post_offices.append(parcel.post_office_id)\n",
    "\n",
    "    return post_offices\n",
    "\n",
    "\n",
    "def get_parcels_by_post_office(post_office, parcels):\n",
    "    return list(filter(lambda parcel: parcel.post_office_id == post_office, parcels))\n",
    "\n",
    "\n",
    "def get_country_by_id(id, countries):\n",
    "    for country in countries:\n",
    "        if country.id == id:\n",
    "            return country\n",
    "\n",
    "    return None\n",
    "\n",
    "\n",
    "def get_parcels_by_country(country, parcels):\n",
    "    return list(filter(lambda parcel: parcel.country_id == country.id, parcels))"
   ],
   "metadata": {
    "collapsed": false,
    "ExecuteTime": {
     "end_time": "2023-10-17T20:50:06.478547Z",
     "start_time": "2023-10-17T20:50:06.475879Z"
    }
   },
   "id": "7f8fc2810c0ddc30"
  },
  {
   "cell_type": "code",
   "execution_count": 346,
   "outputs": [
    {
     "name": "stdout",
     "output_type": "stream",
     "text": [
      "Post office 1 — 3 parcels\n",
      "Post office 2 — 2 parcels\n"
     ]
    }
   ],
   "source": [
    "# Number of parcels per post office\n",
    "post_offices = get_all_post_offices(parcels)\n",
    "\n",
    "for post_office in post_offices:\n",
    "    post_office_parcels = get_parcels_by_post_office(post_office, parcels)\n",
    "\n",
    "    print(f'Post office {post_office} — {len(post_office_parcels)} parcels')"
   ],
   "metadata": {
    "collapsed": false,
    "ExecuteTime": {
     "end_time": "2023-10-17T20:50:06.484809Z",
     "start_time": "2023-10-17T20:50:06.478601Z"
    }
   },
   "id": "6a8c5e592654fabc"
  },
  {
   "cell_type": "code",
   "execution_count": 347,
   "outputs": [
    {
     "name": "stdout",
     "output_type": "stream",
     "text": [
      "Post office 1 — 200000.0 UAH\n",
      "Post office 2 — 200000.0 UAH\n"
     ]
    }
   ],
   "source": [
    "# Post office revenue\n",
    "post_offices = get_all_post_offices(parcels)\n",
    "\n",
    "for post_office in post_offices:\n",
    "    revenue = 0\n",
    "    post_office_parcels = get_parcels_by_post_office(post_office, parcels)\n",
    "\n",
    "    for post_office_parcel in post_office_parcels:\n",
    "        parcel_country = get_country_by_id(post_office_parcel.country_id, countries)\n",
    "        revenue = post_office_parcel.weight * parcel_country.price_per_kg\n",
    "\n",
    "    print(f'Post office {post_office} — {revenue} UAH')"
   ],
   "metadata": {
    "collapsed": false,
    "ExecuteTime": {
     "end_time": "2023-10-17T20:50:06.485061Z",
     "start_time": "2023-10-17T20:50:06.481694Z"
    }
   },
   "id": "8b09df46bc2606fc"
  },
  {
   "cell_type": "code",
   "execution_count": 348,
   "outputs": [
    {
     "name": "stdout",
     "output_type": "stream",
     "text": [
      "Ukraine — 400500.0 UAH\n",
      "USA — 1260.0 UAH\n",
      "Poland — 3.0 UAH\n"
     ]
    }
   ],
   "source": [
    "# Countries sorted by revenue\n",
    "revenues = []\n",
    "\n",
    "for country in countries:\n",
    "    country_parcels = get_parcels_by_country(country, parcels)\n",
    "\n",
    "    revenue = 0\n",
    "    for parcel in country_parcels:\n",
    "        revenue += parcel.weight * country.price_per_kg\n",
    "\n",
    "    revenues.append([country.name, revenue])\n",
    "\n",
    "revenues = sorted(revenues, key=lambda revenue: revenue[1], reverse=True)\n",
    "\n",
    "for revenue in revenues:\n",
    "    print(f\"{revenue[0]} — {revenue[1]} UAH\")"
   ],
   "metadata": {
    "collapsed": false,
    "ExecuteTime": {
     "end_time": "2023-10-17T20:50:06.486833Z",
     "start_time": "2023-10-17T20:50:06.484910Z"
    }
   },
   "id": "83611e362d2fc54b"
  },
  {
   "cell_type": "code",
   "execution_count": 349,
   "outputs": [
    {
     "name": "stdout",
     "output_type": "stream",
     "text": [
      "Ukraine:\n",
      "    Post office 1 — 200500.0 UAH\n",
      "    Post office 2 — 200000.0 UAH\n",
      "USA:\n",
      "    Post office 1 — 1260.0 UAH\n",
      "Poland:\n",
      "    Post office 2 — 3.0 UAH\n"
     ]
    }
   ],
   "source": [
    "# Post offices for each country\n",
    "for country in countries:\n",
    "    country_post_offices = {}\n",
    "\n",
    "    country_parcels = get_parcels_by_country(country, parcels)\n",
    "    for parcel in country_parcels:\n",
    "        if parcel.post_office_id in country_post_offices.keys():\n",
    "            country_post_offices[parcel.post_office_id] += parcel.weight * country.price_per_kg\n",
    "        else:\n",
    "            country_post_offices[parcel.post_office_id] = parcel.weight * country.price_per_kg\n",
    "\n",
    "    print(f\"{country.name}:\")\n",
    "    for country_post_office in country_post_offices.keys():\n",
    "        print(f\"    Post office {country_post_office} — {country_post_offices[country_post_office]} UAH\")"
   ],
   "metadata": {
    "collapsed": false,
    "ExecuteTime": {
     "end_time": "2023-10-17T20:50:06.491076Z",
     "start_time": "2023-10-17T20:50:06.488186Z"
    }
   },
   "id": "3cae49594c410db1"
  }
 ],
 "metadata": {
  "kernelspec": {
   "display_name": "Python 3",
   "language": "python",
   "name": "python3"
  },
  "language_info": {
   "codemirror_mode": {
    "name": "ipython",
    "version": 2
   },
   "file_extension": ".py",
   "mimetype": "text/x-python",
   "name": "python",
   "nbconvert_exporter": "python",
   "pygments_lexer": "ipython2",
   "version": "2.7.6"
  }
 },
 "nbformat": 4,
 "nbformat_minor": 5
}
